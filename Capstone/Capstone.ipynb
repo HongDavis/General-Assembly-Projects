{
 "cells": [
  {
   "cell_type": "markdown",
   "metadata": {},
   "source": [
    "<img src=\"http://imgur.com/1ZcRyrc.png\" style=\"float: left; margin: 20px; height: 55px\">\n",
    "\n",
    "\n",
    "# DSI-13 Capstone Project: \n",
    "# Recommender Systems\n",
    "\n",
    "_Authors: Davis Hong_\n",
    "\n",
    "---"
   ]
  },
  {
   "attachments": {
    "groot.png": {
     "image/png": "[encoded data removed]"
    }
   },
   "cell_type": "markdown",
   "metadata": {},
   "source": [
    "### Problem Statement:\n",
    "A Recommender System refers to a system that is capable of predicting the future preference of a set of items for a user, and recommend somthing s/he likes (content based) or something preferred by other users with similar tastes (collaborative). In the past where brick and mortar is the norm, recommendations are usually made through word of mouth. However, with the internet, availability of large amount of data and fast computing power, recommendations not only can be done real-time but also fairly accurate. Recommendations are very common nowadays to the point, it has becoming 'in-your-face'. Businesses especially those relying heavily or solely on the internet for revenue, recommender systems will greatly boost the growth or even the very survival of the business.\n",
    "\n",
    "There are many type of recommender systems but this project, we will focus on developing a recommender system to recommend movies to users based on a hybrid model;\n",
    "\n",
    "<a id=\"two-classical-recommendation-methods\"></a>\n",
    "### Two classical recommendation methods\n",
    "\n",
    "- **Collaborative Filtering**: _(similar people)_\n",
    "    - If you like the same 5 movies as someone else, you'll likely enjoy other movies they like.\n",
    "    - There are two main types: (a) Find users who are similar and recommend what they like (**user-based**), or (b) recommend items that are similar to already-liked items (**item-based**).\n",
    "   \n",
    "\n",
    "- **Content-Based Filtering** _(similar items)_\n",
    "    - If you enjoy certain characteristics of movies (e.g. certain actors, genre, etc.), you'll enjoy other movies with those characteristics.\n",
    "    - Note this can easily be done using machine learning methods! Each movie can be decomposed into features. Then, for each user we compute a model -- the target can be a binary classifier (e.g. \"LIKE\"/\"DISLIKE\") or regression (e.g. star rating).\n",
    "<br>\n",
    "The initial model is based on a simple non-machine learning model and the results will be compared with a machine learning based model. The machine learning model will be expected to produce better results.\n",
    "\n",
    "Although there are many users and movie titles but in reality, not all users give their ratings which in a way is good. This means, we can recommend movies to users. Instead of storing all users and movies in matrix which can be very huge and take up a lot of memory, we can store the ratings in a sparse matrix which requires far less memory.\n",
    "![groot.png](attachment:groot.png)"
   ]
  },
  {
   "cell_type": "markdown",
   "metadata": {},
   "source": [
    "### Data Source:\n",
    "Data source: The 1M Movie Lens datasets will be used for the project.\n",
    "\n",
    "Datasets can be found at https://grouplens.org/datasets/movielens/1m/\n",
    "\n",
    "Data dictionary: http://files.grouplens.org/datasets/movielens/ml-1m-README.txt\n"
   ]
  },
  {
   "cell_type": "markdown",
   "metadata": {},
   "source": [
    "### Potential challenges and obstacles:\n",
    "As there are no metrics to measure whether the recommender engine is good or not thus some form of human interpretation of the results will be required to gauge the performance of models."
   ]
  },
  {
   "cell_type": "markdown",
   "metadata": {},
   "source": [
    "### Measuring of results.\n",
    "Whenever possible, baseline score will be set and metrics such as MSE, RSME, etc will be used to measure the effectiveness of the model.\n",
    "\n",
    "Bearing any unforeseen circumstances for eg, interruptions cause by COVID19, this project should be achievable as data is available. Data cleaning is expected but minimal."
   ]
  },
  {
   "cell_type": "markdown",
   "metadata": {},
   "source": [
    "### Let's get started..."
   ]
  },
  {
   "cell_type": "markdown",
   "metadata": {},
   "source": [
    "### Load required libraries"
   ]
  },
  {
   "cell_type": "code",
   "execution_count": null,
   "metadata": {},
   "outputs": [],
   "source": [
    "import pandas as pd\n",
    "import matplotlib.pyplot as plt\n",
    "import numpy as np\n",
    "import seaborn as sns\n",
    "import warnings\n",
    "\n",
    "from PIL import Image\n",
    "from wordcloud import WordCloud, STOPWORDS, ImageColorGenerator\n",
    "from scipy import sparse\n",
    "from sklearn.metrics.pairwise import pairwise_distances\n",
    "from sklearn.model_selection import train_test_split, cross_val_score, KFold, GridSearchCV\n",
    "from sklearn import preprocessing\n",
    "sns.set()\n",
    "sns.set_style('darkgrid')\n",
    "plt.style.use('fivethirtyeight')\n",
    "%config InlineBackend.figure_format = 'retina'\n",
    "%matplotlib inline"
   ]
  },
  {
   "cell_type": "markdown",
   "metadata": {},
   "source": [
    "## Load datasets\n",
    "---\n",
    "\n",
    "We'll be using the [MovieLens](https://grouplens.org/datasets/movielens/) dataset for building our recommendation engine. There are 3 datasets namely movies, ratings and users which will be used to build the recommender system. "
   ]
  },
  {
   "cell_type": "code",
   "execution_count": null,
   "metadata": {},
   "outputs": [],
   "source": [
    "# Load 1M datasets\n",
    "warnings.filterwarnings('ignore')\n",
    "movies = pd.read_csv('.\\datasets\\\\movies.dat', sep=\"::\", header=None)\n",
    "ratings = pd.read_csv('.\\datasets\\\\ratings.dat', sep=\"::\", header=None)\n",
    "users = pd.read_csv('.\\datasets\\\\users.dat', sep=\"::\", header=None)\n",
    "movies.columns = [\"movieid\", \"title\", \"genres\"]\n",
    "ratings.columns = [\"userid\", \"movieid\", \"rating\", \"timestamp\"]\n",
    "users.columns = [\"userid\", \"gender\", \"age\", \"occupation\", \"zipcode\"]"
   ]
  },
  {
   "cell_type": "code",
   "execution_count": null,
   "metadata": {},
   "outputs": [],
   "source": [
    "print(f'Shape of Movies dataframe: {movies.shape}\\n')\n",
    "print(f'Any null values in the dataframe:\\n{movies.isnull().sum()}\\n')\n",
    "print(f'Data types:\\n{movies.dtypes}')\n",
    "movies.head()"
   ]
  },
  {
   "cell_type": "code",
   "execution_count": null,
   "metadata": {},
   "outputs": [],
   "source": [
    "print(f'Shape of Ratings dataframe: {ratings.shape}\\n')\n",
    "print(f'Any null values in the dataframe:\\n{ratings.isnull().sum()}\\n')\n",
    "print(f'Data types:\\n{ratings.dtypes}')\n",
    "ratings.head()"
   ]
  },
  {
   "cell_type": "code",
   "execution_count": null,
   "metadata": {},
   "outputs": [],
   "source": [
    "print(f'Shape of Users dataframe: {users.shape}\\n')\n",
    "print(f'Any null values in the dataframe:\\n{users.isnull().sum()}\\n')\n",
    "print(f'Data types:\\n{users.dtypes}')\n",
    "users.head()"
   ]
  },
  {
   "cell_type": "code",
   "execution_count": null,
   "metadata": {},
   "outputs": [],
   "source": [
    "# Per data dictionary, there are additional information on the numeric codes \n",
    "# used in the users dataset. \n",
    "\n",
    "#Create dictionary for age group.\n",
    "data = {'age': [1, 18, 25, 35, 45, 50, 56], \n",
    "        'agegrp': ['Under 18', '18-24', '25-34', '35-44', '45-49', '50-55', '56+']} \n",
    "\n",
    "# Create DataFrame for age group\n",
    "age_grp = pd.DataFrame(data)\n",
    "\n",
    "# Create dictionary for occupation\n",
    "data = {'code': [0, 1, 2, 3, 4, 5, 6, 7, 8, 9, 10, 11, 12, 13, 14, 15, 16, 17, 18, 19, 20], \n",
    "        'occupation': ['other', 'academic/educator', 'artist', 'cleric/admin',\n",
    "                       'college/grad student', 'customer service',\n",
    "                       'doctor/health care', 'executive/managerial', 'farmer',\n",
    "                       'homemaker', 'K-12 student', 'lawyer', 'programmer',\n",
    "                      'retired', 'sales/marketing', 'scientist',\n",
    "                      'self-employed', 'technician/engineer',\n",
    "                      'tradesman/craftsman', 'unemployed', 'writer']} \n",
    "\n",
    "# Create DataFrame for age group\n",
    "occupation = pd.DataFrame(data)"
   ]
  },
  {
   "cell_type": "code",
   "execution_count": null,
   "metadata": {},
   "outputs": [],
   "source": [
    "age_grp"
   ]
  },
  {
   "cell_type": "code",
   "execution_count": null,
   "metadata": {},
   "outputs": [],
   "source": [
    "occupation"
   ]
  },
  {
   "cell_type": "markdown",
   "metadata": {},
   "source": [
    "## Drop unnecessary columns\n",
    "---\n",
    "\n",
    "We won't need the `timestamp` column from `ratings`, nor will we need the `genres` column from `movies`. Drop both columns in the cells below."
   ]
  },
  {
   "cell_type": "code",
   "execution_count": null,
   "metadata": {},
   "outputs": [],
   "source": [
    "movies.drop('genres', axis = 1, inplace = True)\n",
    "ratings.drop('timestamp', inplace = True, axis = 1)"
   ]
  },
  {
   "cell_type": "markdown",
   "metadata": {},
   "source": [
    "### Let's explore the movie dataset a bit more."
   ]
  },
  {
   "cell_type": "code",
   "execution_count": null,
   "metadata": {},
   "outputs": [],
   "source": [
    "# Extract movie titles excluding the year and concatenate the results into one long string\n",
    "titles = movies['title'].str.extract('([a-zA-Z ]+)', expand=False).str.strip()\n",
    "titles = ' '.join(titles)"
   ]
  },
  {
   "cell_type": "code",
   "execution_count": null,
   "metadata": {},
   "outputs": [],
   "source": [
    "# Create stopword list:\n",
    "stopwords = set(STOPWORDS)\n",
    "stopwords.update([\"groot\", \"guardians\", \"galaxy\"])\n",
    "\n",
    "# Create and generate a word cloud image:\n",
    "wordcloud = WordCloud().generate(titles)\n",
    "\n",
    "# Display the generated image:\n",
    "plt.imshow(wordcloud, interpolation='bilinear')\n",
    "plt.axis(\"off\")\n",
    "plt.show()"
   ]
  },
  {
   "cell_type": "markdown",
   "metadata": {},
   "source": [
    "### Hum... say all you want, Man and Love still triumph! Somthing about time too - Day, Night and Time, that is."
   ]
  },
  {
   "cell_type": "code",
   "execution_count": null,
   "metadata": {},
   "outputs": [],
   "source": [
    "# Extract movie titles excluding the year and concatenate the results into one long string\n",
    "genres = movies['genres'].str.extract('([a-zA-Z ]+)', expand=False).str.strip()\n",
    "genres = ' '.join(genres)"
   ]
  },
  {
   "cell_type": "code",
   "execution_count": null,
   "metadata": {},
   "outputs": [],
   "source": [
    "# Create and generate a word cloud image:\n",
    "wordcloud = WordCloud().generate(genres)\n",
    "\n",
    "# Display the generated image:\n",
    "plt.imshow(wordcloud, interpolation='bilinear')\n",
    "plt.axis(\"off\")\n",
    "plt.show()"
   ]
  },
  {
   "cell_type": "markdown",
   "metadata": {},
   "source": [
    "### Interestingly, majority of the users like Drama and Comedy."
   ]
  },
  {
   "cell_type": "code",
   "execution_count": null,
   "metadata": {},
   "outputs": [],
   "source": [
    "x = []\n",
    "y = []\n",
    "rating = ratings['rating'].value_counts()\n",
    "for i, v in rating.iteritems():\n",
    "    x.append(i)\n",
    "    y.append(v)\n",
    "\n",
    "#tick_label does the some work as plt.xticks()\n",
    "plt.bar(x, y,tick_label = x)\n",
    "plt.xlabel('Rating')\n",
    "plt.ylabel('Total Number of Users Ratings')\n",
    "plt.title('Movielens Ratings')\n",
    "plt.show()"
   ]
  },
  {
   "cell_type": "markdown",
   "metadata": {},
   "source": [
    "### Generally and as expected, users are not ready to give a rating of 5 even when the movie is fantastic. A rating of 4 is consider very good and there are rooms for improvements."
   ]
  },
  {
   "cell_type": "markdown",
   "metadata": {},
   "source": [
    "## Merge `movies` and `ratings`\n",
    "---\n",
    "\n",
    "Use `pd.merge` to **inner join** `movies` with `ratings` on the `movieId` column."
   ]
  },
  {
   "cell_type": "code",
   "execution_count": null,
   "metadata": {},
   "outputs": [],
   "source": [
    "movie_ratings = pd.merge(ratings, movies, on = 'movieid')"
   ]
  },
  {
   "cell_type": "code",
   "execution_count": null,
   "metadata": {},
   "outputs": [],
   "source": [
    "# Print first and last 5 rows of the merged dataframe\n",
    "print(movie_ratings.head())\n",
    "print(movie_ratings.tail())"
   ]
  },
  {
   "cell_type": "markdown",
   "metadata": {},
   "source": [
    "## Create pivot table\n",
    "---\n",
    "\n",
    "Because we're creating an item-based collaborative recommender (where item in this case is our movies), we'll set up our pivot table as follows:\n",
    "1. The `title` will be the index\n",
    "2. The `userId` will be the column\n",
    "3. The `rating` will be the value\n",
    "\n",
    "**If we were building a user-based collaborative recommender, what would change about this pivot table?**"
   ]
  },
  {
   "cell_type": "code",
   "execution_count": null,
   "metadata": {},
   "outputs": [],
   "source": [
    "pivot = pd.pivot_table(movie_ratings, index = 'title', columns='userid', values = 'rating')\n",
    "pivot.head()"
   ]
  },
  {
   "cell_type": "markdown",
   "metadata": {},
   "source": [
    "## Create sparse matrix\n",
    "Calculate the cosine similarity for each movie using the `pairwise_distances` function. Before that, we need to create a sparse matrix (datatype) using `scipy`'s `sparse` module."
   ]
  },
  {
   "cell_type": "code",
   "execution_count": null,
   "metadata": {},
   "outputs": [],
   "source": [
    "sparse_pivot = sparse.csr_matrix(pivot.fillna(0))"
   ]
  },
  {
   "cell_type": "code",
   "execution_count": null,
   "metadata": {},
   "outputs": [],
   "source": [
    "type(sparse_pivot)"
   ]
  },
  {
   "cell_type": "markdown",
   "metadata": {},
   "source": [
    "## Calculate cosine similarity\n",
    "Use `sklearn's` built-in `pairwise_distances` function for the recommender. It will return a square matrix, comparing every movie with every other movie in the dataset."
   ]
  },
  {
   "cell_type": "code",
   "execution_count": null,
   "metadata": {},
   "outputs": [],
   "source": [
    "# Create a distance metrics similar to    \n",
    "recommender = pairwise_distances(sparse_pivot, metric = 'cosine')"
   ]
  },
  {
   "cell_type": "code",
   "execution_count": null,
   "metadata": {},
   "outputs": [],
   "source": [
    "recommender_df = pd.DataFrame(recommender, columns = pivot.index, index = pivot.index)"
   ]
  },
  {
   "cell_type": "code",
   "execution_count": null,
   "metadata": {},
   "outputs": [],
   "source": [
    "recommender_df.head()"
   ]
  },
  {
   "cell_type": "markdown",
   "metadata": {},
   "source": [
    "## Create distances DataFrame\n",
    "---\n",
    "\n",
    "At this point, we essentially have a recommender. We'll load it into a `pandas` DataFrame for readability. \n",
    "\n",
    "You'll notice that each movie has a \"distance\" of 0 with itself (along the diagonal)."
   ]
  },
  {
   "cell_type": "code",
   "execution_count": null,
   "metadata": {},
   "outputs": [],
   "source": []
  },
  {
   "cell_type": "markdown",
   "metadata": {},
   "source": [
    "## Evaluate recommender performance\n",
    "---\n",
    "\n",
    "Now comes the fun part! Let's check out a few movies to see if the recommender aligns with our intuition. In the cell below we'll do the following:\n",
    "1. Create a search term\n",
    "2. Use that to find all titles matching the search query\n",
    "3. For each title, we'll list off the following:\n",
    "  1. The average rating\n",
    "  2. The number of ratings\n",
    "  3. The ten most similar movies"
   ]
  },
  {
   "cell_type": "code",
   "execution_count": null,
   "metadata": {},
   "outputs": [],
   "source": [
    "# Camel case the search string with .title() as movie titles are camel cased\n",
    "search = input(\"What is your favorite movie: \").title()"
   ]
  },
  {
   "cell_type": "code",
   "execution_count": null,
   "metadata": {},
   "outputs": [],
   "source": [
    "for title in movies.loc[movies['title'].str.contains(search), 'title']:\n",
    "    print(title)\n",
    "    print(f'Average rating: {round(pivot.loc[title, :].mean(),1)}') # Average ratings from users\n",
    "    print(f'Number of rating: {pivot.loc[title, :].count()}')\n",
    "    print('')"
   ]
  },
  {
   "cell_type": "code",
   "execution_count": null,
   "metadata": {},
   "outputs": [],
   "source": [
    "for title in movies.loc[movies['title'].str.contains(search), 'title']:\n",
    "    print(title)\n",
    "    print(f'Average rating: {round(pivot.loc[title, :].mean(),1)}') # Average ratings from users\n",
    "    print(f'Number of rating: {pivot.loc[title, :].count()}')\n",
    "    print('')\n",
    "    print('Here are some movies you may like:')\n",
    "    print('')\n",
    "    print(recommender_df[title].sort_values()[1:6])\n",
    "    l = \n",
    "    print('')\n",
    "    print('*' * 70)\n",
    "    "
   ]
  },
  {
   "cell_type": "code",
   "execution_count": null,
   "metadata": {},
   "outputs": [],
   "source": [
    "l = [i for i in recommender_df[title]]\n",
    "l[0]"
   ]
  },
  {
   "cell_type": "code",
   "execution_count": null,
   "metadata": {},
   "outputs": [],
   "source": []
  }
 ],
 "metadata": {
  "kernelspec": {
   "display_name": "Python 3",
   "language": "python",
   "name": "python3"
  },
  "language_info": {
   "codemirror_mode": {
    "name": "ipython",
    "version": 3
   },
   "file_extension": ".py",
   "mimetype": "text/x-python",
   "name": "python",
   "nbconvert_exporter": "python",
   "pygments_lexer": "ipython3",
   "version": "3.7.6"
  }
 },
 "nbformat": 4,
 "nbformat_minor": 2
}
