{
 "cells": [
  {
   "cell_type": "markdown",
   "metadata": {},
   "source": [
    "# Project 1: SAT & ACT Analysis"
   ]
  },
  {
   "cell_type": "markdown",
   "metadata": {},
   "source": [
    "The first markdown cell in a notebook is a great place to provide an overview of your entire project. You will likely want to at least state your\n",
    "\n",
    "## Problem Statement"
   ]
  },
  {
   "cell_type": "markdown",
   "metadata": {},
   "source": [
    "SAT and ACT is a mean to get into college. Hence, majority of the students either take SAT or ACT depending on their views and perceptions on how good they are in either one. Very rarely, students take both. In the past, SAT has been viewed as an aptitude test which is different from ACT which is academic based. The perception of SAT is that, aptitude is difficult to acquire through study. But this has changed in recent year as SAT is more balance similar to ACT and it even has composition as an option similar to ACT. Conversely, ACT has also change adopting SAT style in recent years.\n",
    "\n",
    "To increase SAT participation rate means, students have to be convinced that SAT is not diffcult and in recent years and has moved towards a more balance approach similar to ACT rather than only aptitude based which has a misconception that it is difficult to learn (https://www.thoughtco.com/differences-between-sat-and-act-exams-788714).\n",
    "\n",
    "The college board must be able to educate students and parents about the structure of SAT is more balance and achievable and sufficient budgets are given to the respective states to provide good high school education and test prep helping more students to succeed via the SAT route.\n"
   ]
  },
  {
   "cell_type": "markdown",
   "metadata": {},
   "source": [
    "## Executive Summary\n",
    "\n",
    "If you want to, it's great to use relative links to direct your audience to various sections of a notebook. **HERE'S A DEMONSTRATION WITH THE CURRENT SECTION HEADERS**:\n",
    "\n",
    "### Contents:\n",
    "- [2017 Data Import & Cleaning](#Data-Import-and-Cleaning)\n",
    "- [2018 Data Import and Cleaning](#2018-Data-Import-and-Cleaning)\n",
    "- [Exploratory Data Analysis](#Exploratory-Data-Analysis)\n",
    "- [Data Visualization](#Visualize-the-data)\n",
    "- [Descriptive and Inferential Statistics](#Descriptive-and-Inferential-Statistics)\n",
    "- [Outside Research](#Outside-Research)\n",
    "- [Conclusions and Recommendations](#Conclusions-and-Recommendations)"
   ]
  },
  {
   "cell_type": "markdown",
   "metadata": {},
   "source": [
    "**If you combine your problem statement, executive summary, data dictionary, and conclusions/recommendations, you have an amazing README.md file that quickly aligns your audience to the contents of your project.** Don't forget to cite your data sources!"
   ]
  },
  {
   "cell_type": "markdown",
   "metadata": {},
   "source": [
    "*All libraries used should be added here*"
   ]
  },
  {
   "cell_type": "code",
   "execution_count": 1,
   "metadata": {},
   "outputs": [],
   "source": [
    "#Import relevant libraries:\n",
    "import pandas as pd\n",
    "import numpy as np\n",
    "import matplotlib.pyplot as plt\n",
    "import seaborn as sns\n",
    "sns.set()"
   ]
  },
  {
   "cell_type": "markdown",
   "metadata": {},
   "source": [
    "## 2017 Data Import and Cleaning"
   ]
  },
  {
   "cell_type": "markdown",
   "metadata": {},
   "source": [
    "#### 1. Read In SAT & ACT  Data\n",
    "\n",
    "Read in the `sat_2017.csv` and `act_2017.csv` files and assign them to appropriately named pandas dataframes."
   ]
  },
  {
   "cell_type": "code",
   "execution_count": 2,
   "metadata": {},
   "outputs": [],
   "source": [
    "#Read csv data files and assign it to dataframe:\n",
    "sat2017 = pd.read_csv('D:\\\\1GA_DSI_Local\\\\classes\\\\project_1\\\\data\\\\sat_2017.csv')\n",
    "act2017 = pd.read_csv('D:\\\\1GA_DSI_Local\\\\classes\\\\project_1\\\\data\\\\act_2017.csv')"
   ]
  },
  {
   "cell_type": "code",
   "execution_count": 3,
   "metadata": {},
   "outputs": [],
   "source": [
    "# Make a copy of the dataframes.\n",
    "sat2017_c = sat2017.copy()\n",
    "act2017_c = act2017.copy()"
   ]
  },
  {
   "cell_type": "markdown",
   "metadata": {},
   "source": [
    "#### 2. Display Data\n",
    "\n",
    "Print the first 10 rows of each dataframe to your jupyter notebook"
   ]
  },
  {
   "cell_type": "code",
   "execution_count": 4,
   "metadata": {},
   "outputs": [
    {
     "data": {
      "text/html": [
       "<div>\n",
       "<style scoped>\n",
       "    .dataframe tbody tr th:only-of-type {\n",
       "        vertical-align: middle;\n",
       "    }\n",
       "\n",
       "    .dataframe tbody tr th {\n",
       "        vertical-align: top;\n",
       "    }\n",
       "\n",
       "    .dataframe thead th {\n",
       "        text-align: right;\n",
       "    }\n",
       "</style>\n",
       "<table border=\"1\" class=\"dataframe\">\n",
       "  <thead>\n",
       "    <tr style=\"text-align: right;\">\n",
       "      <th></th>\n",
       "      <th>State</th>\n",
       "      <th>Participation</th>\n",
       "      <th>Evidence-Based Reading and Writing</th>\n",
       "      <th>Math</th>\n",
       "      <th>Total</th>\n",
       "    </tr>\n",
       "  </thead>\n",
       "  <tbody>\n",
       "    <tr>\n",
       "      <td>0</td>\n",
       "      <td>Alabama</td>\n",
       "      <td>5%</td>\n",
       "      <td>593</td>\n",
       "      <td>572</td>\n",
       "      <td>1165</td>\n",
       "    </tr>\n",
       "    <tr>\n",
       "      <td>1</td>\n",
       "      <td>Alaska</td>\n",
       "      <td>38%</td>\n",
       "      <td>547</td>\n",
       "      <td>533</td>\n",
       "      <td>1080</td>\n",
       "    </tr>\n",
       "    <tr>\n",
       "      <td>2</td>\n",
       "      <td>Arizona</td>\n",
       "      <td>30%</td>\n",
       "      <td>563</td>\n",
       "      <td>553</td>\n",
       "      <td>1116</td>\n",
       "    </tr>\n",
       "    <tr>\n",
       "      <td>3</td>\n",
       "      <td>Arkansas</td>\n",
       "      <td>3%</td>\n",
       "      <td>614</td>\n",
       "      <td>594</td>\n",
       "      <td>1208</td>\n",
       "    </tr>\n",
       "    <tr>\n",
       "      <td>4</td>\n",
       "      <td>California</td>\n",
       "      <td>53%</td>\n",
       "      <td>531</td>\n",
       "      <td>524</td>\n",
       "      <td>1055</td>\n",
       "    </tr>\n",
       "    <tr>\n",
       "      <td>5</td>\n",
       "      <td>Colorado</td>\n",
       "      <td>11%</td>\n",
       "      <td>606</td>\n",
       "      <td>595</td>\n",
       "      <td>1201</td>\n",
       "    </tr>\n",
       "    <tr>\n",
       "      <td>6</td>\n",
       "      <td>Connecticut</td>\n",
       "      <td>100%</td>\n",
       "      <td>530</td>\n",
       "      <td>512</td>\n",
       "      <td>1041</td>\n",
       "    </tr>\n",
       "    <tr>\n",
       "      <td>7</td>\n",
       "      <td>Delaware</td>\n",
       "      <td>100%</td>\n",
       "      <td>503</td>\n",
       "      <td>492</td>\n",
       "      <td>996</td>\n",
       "    </tr>\n",
       "    <tr>\n",
       "      <td>8</td>\n",
       "      <td>District of Columbia</td>\n",
       "      <td>100%</td>\n",
       "      <td>482</td>\n",
       "      <td>468</td>\n",
       "      <td>950</td>\n",
       "    </tr>\n",
       "    <tr>\n",
       "      <td>9</td>\n",
       "      <td>Florida</td>\n",
       "      <td>83%</td>\n",
       "      <td>520</td>\n",
       "      <td>497</td>\n",
       "      <td>1017</td>\n",
       "    </tr>\n",
       "  </tbody>\n",
       "</table>\n",
       "</div>"
      ],
      "text/plain": [
       "                  State Participation  Evidence-Based Reading and Writing  \\\n",
       "0               Alabama            5%                                 593   \n",
       "1                Alaska           38%                                 547   \n",
       "2               Arizona           30%                                 563   \n",
       "3              Arkansas            3%                                 614   \n",
       "4            California           53%                                 531   \n",
       "5              Colorado           11%                                 606   \n",
       "6           Connecticut          100%                                 530   \n",
       "7              Delaware          100%                                 503   \n",
       "8  District of Columbia          100%                                 482   \n",
       "9               Florida           83%                                 520   \n",
       "\n",
       "   Math  Total  \n",
       "0   572   1165  \n",
       "1   533   1080  \n",
       "2   553   1116  \n",
       "3   594   1208  \n",
       "4   524   1055  \n",
       "5   595   1201  \n",
       "6   512   1041  \n",
       "7   492    996  \n",
       "8   468    950  \n",
       "9   497   1017  "
      ]
     },
     "execution_count": 4,
     "metadata": {},
     "output_type": "execute_result"
    }
   ],
   "source": [
    "#View first 10 rows of sat2017 dataframe.\n",
    "sat2017.head(10)"
   ]
  },
  {
   "cell_type": "code",
   "execution_count": 5,
   "metadata": {},
   "outputs": [
    {
     "data": {
      "text/html": [
       "<div>\n",
       "<style scoped>\n",
       "    .dataframe tbody tr th:only-of-type {\n",
       "        vertical-align: middle;\n",
       "    }\n",
       "\n",
       "    .dataframe tbody tr th {\n",
       "        vertical-align: top;\n",
       "    }\n",
       "\n",
       "    .dataframe thead th {\n",
       "        text-align: right;\n",
       "    }\n",
       "</style>\n",
       "<table border=\"1\" class=\"dataframe\">\n",
       "  <thead>\n",
       "    <tr style=\"text-align: right;\">\n",
       "      <th></th>\n",
       "      <th>State</th>\n",
       "      <th>Participation</th>\n",
       "      <th>English</th>\n",
       "      <th>Math</th>\n",
       "      <th>Reading</th>\n",
       "      <th>Science</th>\n",
       "      <th>Composite</th>\n",
       "    </tr>\n",
       "  </thead>\n",
       "  <tbody>\n",
       "    <tr>\n",
       "      <td>0</td>\n",
       "      <td>National</td>\n",
       "      <td>60%</td>\n",
       "      <td>20.3</td>\n",
       "      <td>20.7</td>\n",
       "      <td>21.4</td>\n",
       "      <td>21.0</td>\n",
       "      <td>21.0</td>\n",
       "    </tr>\n",
       "    <tr>\n",
       "      <td>1</td>\n",
       "      <td>Alabama</td>\n",
       "      <td>100%</td>\n",
       "      <td>18.9</td>\n",
       "      <td>18.4</td>\n",
       "      <td>19.7</td>\n",
       "      <td>19.4</td>\n",
       "      <td>19.2</td>\n",
       "    </tr>\n",
       "    <tr>\n",
       "      <td>2</td>\n",
       "      <td>Alaska</td>\n",
       "      <td>65%</td>\n",
       "      <td>18.7</td>\n",
       "      <td>19.8</td>\n",
       "      <td>20.4</td>\n",
       "      <td>19.9</td>\n",
       "      <td>19.8</td>\n",
       "    </tr>\n",
       "    <tr>\n",
       "      <td>3</td>\n",
       "      <td>Arizona</td>\n",
       "      <td>62%</td>\n",
       "      <td>18.6</td>\n",
       "      <td>19.8</td>\n",
       "      <td>20.1</td>\n",
       "      <td>19.8</td>\n",
       "      <td>19.7</td>\n",
       "    </tr>\n",
       "    <tr>\n",
       "      <td>4</td>\n",
       "      <td>Arkansas</td>\n",
       "      <td>100%</td>\n",
       "      <td>18.9</td>\n",
       "      <td>19.0</td>\n",
       "      <td>19.7</td>\n",
       "      <td>19.5</td>\n",
       "      <td>19.4</td>\n",
       "    </tr>\n",
       "    <tr>\n",
       "      <td>5</td>\n",
       "      <td>California</td>\n",
       "      <td>31%</td>\n",
       "      <td>22.5</td>\n",
       "      <td>22.7</td>\n",
       "      <td>23.1</td>\n",
       "      <td>22.2</td>\n",
       "      <td>22.8</td>\n",
       "    </tr>\n",
       "    <tr>\n",
       "      <td>6</td>\n",
       "      <td>Colorado</td>\n",
       "      <td>100%</td>\n",
       "      <td>20.1</td>\n",
       "      <td>20.3</td>\n",
       "      <td>21.2</td>\n",
       "      <td>20.9</td>\n",
       "      <td>20.8</td>\n",
       "    </tr>\n",
       "    <tr>\n",
       "      <td>7</td>\n",
       "      <td>Connecticut</td>\n",
       "      <td>31%</td>\n",
       "      <td>25.5</td>\n",
       "      <td>24.6</td>\n",
       "      <td>25.6</td>\n",
       "      <td>24.6</td>\n",
       "      <td>25.2</td>\n",
       "    </tr>\n",
       "    <tr>\n",
       "      <td>8</td>\n",
       "      <td>Delaware</td>\n",
       "      <td>18%</td>\n",
       "      <td>24.1</td>\n",
       "      <td>23.4</td>\n",
       "      <td>24.8</td>\n",
       "      <td>23.6</td>\n",
       "      <td>24.1</td>\n",
       "    </tr>\n",
       "    <tr>\n",
       "      <td>9</td>\n",
       "      <td>District of Columbia</td>\n",
       "      <td>32%</td>\n",
       "      <td>24.4</td>\n",
       "      <td>23.5</td>\n",
       "      <td>24.9</td>\n",
       "      <td>23.5</td>\n",
       "      <td>24.2</td>\n",
       "    </tr>\n",
       "  </tbody>\n",
       "</table>\n",
       "</div>"
      ],
      "text/plain": [
       "                  State Participation  English  Math  Reading  Science  \\\n",
       "0              National           60%     20.3  20.7     21.4     21.0   \n",
       "1               Alabama          100%     18.9  18.4     19.7     19.4   \n",
       "2                Alaska           65%     18.7  19.8     20.4     19.9   \n",
       "3               Arizona           62%     18.6  19.8     20.1     19.8   \n",
       "4              Arkansas          100%     18.9  19.0     19.7     19.5   \n",
       "5            California           31%     22.5  22.7     23.1     22.2   \n",
       "6              Colorado          100%     20.1  20.3     21.2     20.9   \n",
       "7           Connecticut           31%     25.5  24.6     25.6     24.6   \n",
       "8              Delaware           18%     24.1  23.4     24.8     23.6   \n",
       "9  District of Columbia           32%     24.4  23.5     24.9     23.5   \n",
       "\n",
       "  Composite  \n",
       "0      21.0  \n",
       "1      19.2  \n",
       "2      19.8  \n",
       "3      19.7  \n",
       "4      19.4  \n",
       "5      22.8  \n",
       "6      20.8  \n",
       "7      25.2  \n",
       "8      24.1  \n",
       "9      24.2  "
      ]
     },
     "execution_count": 5,
     "metadata": {},
     "output_type": "execute_result"
    }
   ],
   "source": [
    "#View first 10 rows of act2017 dataframe.\n",
    "act2017.head(10)"
   ]
  },
  {
   "cell_type": "code",
   "execution_count": 6,
   "metadata": {},
   "outputs": [
    {
     "name": "stdout",
     "output_type": "stream",
     "text": [
      "<class 'pandas.core.frame.DataFrame'>\n",
      "RangeIndex: 51 entries, 0 to 50\n",
      "Data columns (total 5 columns):\n",
      "State                                 51 non-null object\n",
      "Participation                         51 non-null object\n",
      "Evidence-Based Reading and Writing    51 non-null int64\n",
      "Math                                  51 non-null int64\n",
      "Total                                 51 non-null int64\n",
      "dtypes: int64(3), object(2)\n",
      "memory usage: 2.1+ KB\n",
      "None\n",
      "\n",
      "\n",
      "<class 'pandas.core.frame.DataFrame'>\n",
      "RangeIndex: 52 entries, 0 to 51\n",
      "Data columns (total 7 columns):\n",
      "State            52 non-null object\n",
      "Participation    52 non-null object\n",
      "English          52 non-null float64\n",
      "Math             52 non-null float64\n",
      "Reading          52 non-null float64\n",
      "Science          52 non-null float64\n",
      "Composite        52 non-null object\n",
      "dtypes: float64(4), object(3)\n",
      "memory usage: 3.0+ KB\n",
      "None\n"
     ]
    }
   ],
   "source": [
    "print(sat2017.info()); print('\\n')\n",
    "print(act2017.info())"
   ]
  },
  {
   "cell_type": "code",
   "execution_count": 7,
   "metadata": {},
   "outputs": [],
   "source": [
    "# Function to remove % symbol from 'Participation' column and convert\n",
    "# the results to floats\n",
    "def remove_pct_symbol(df_name, col_header = 'Participation'):\n",
    "    try:\n",
    "        df_name[col_header] = df_name[col_header].apply(lambda pct: float(pct.replace('%','')))\n",
    "    except:\n",
    "        print('Column header already include % symbol')\n",
    "\n",
    "# Function to add % to the 'Participation' column\n",
    "def addpct_to_col_header(df_name, col_header):\n",
    "    df_name.rename(columns = {col_header: col_header + '%'}, inplace=True)\n",
    "\n",
    "# Remove % from 'Participation' column and tag a '%' symbol\n",
    "# to the 'Participation' column header for both dataframes.\n",
    "remove_pct_symbol(act2017)\n",
    "addpct_to_col_header(act2017, 'Participation')\n",
    "remove_pct_symbol(sat2017)\n",
    "addpct_to_col_header(sat2017, 'Participation')\n"
   ]
  },
  {
   "cell_type": "code",
   "execution_count": 8,
   "metadata": {},
   "outputs": [],
   "source": [
    "# Sort sat2017 dataframe by 'Participation%'.\n",
    "sat2017.sort_values(by = ['Participation%'], ascending = True, inplace = True)"
   ]
  },
  {
   "cell_type": "code",
   "execution_count": 9,
   "metadata": {},
   "outputs": [
    {
     "data": {
      "text/plain": [
       "[<matplotlib.lines.Line2D at 0x1a44a36ccc8>]"
      ]
     },
     "execution_count": 9,
     "metadata": {},
     "output_type": "execute_result"
    },
    {
     "data": {
      "image/png": "[encoded data removed]",
      "text/plain": [
       "<Figure size 432x288 with 1 Axes>"
      ]
     },
     "metadata": {
      "needs_background": "light"
     },
     "output_type": "display_data"
    }
   ],
   "source": [
    "# Plot a scatter graph to see is there a correlation between \n",
    "# participation rate and scores. The graph clearly show that there\n",
    "# is a negative correlation between participation rate and scores.\n",
    "sat_x = sat2017['Participation%']\n",
    "sat_y = sat2017['Total']\n",
    "plt.scatter(sat_x, sat_y)\n",
    "plt.plot(np.unique(sat_x), np.poly1d(np.polyfit(sat_x, sat_y, 1))(np.unique(sat_x)))"
   ]
  },
  {
   "cell_type": "code",
   "execution_count": 10,
   "metadata": {},
   "outputs": [],
   "source": [
    "# Data cleaning for act2017.\n",
    "# Remove x from last row of 'Composite' column and convert the column to float\n",
    "act2017['Composite'] = act2017['Composite'].apply(lambda _: float(_.replace('x','')))"
   ]
  },
  {
   "cell_type": "code",
   "execution_count": 11,
   "metadata": {},
   "outputs": [],
   "source": [
    "# Remove row with 'State' == National from act2017\n",
    "act2017.drop(index = act2017[act2017['State'] == 'National'].index, inplace = True)"
   ]
  },
  {
   "cell_type": "code",
   "execution_count": 12,
   "metadata": {},
   "outputs": [],
   "source": [
    "# Sort act2017 dataframe by 'Participation%' for scatter plot.\n",
    "act2017.sort_values(by = ['Participation%'], ascending = True, inplace = True)"
   ]
  },
  {
   "cell_type": "code",
   "execution_count": 13,
   "metadata": {},
   "outputs": [
    {
     "data": {
      "text/plain": [
       "[<matplotlib.lines.Line2D at 0x1a44b65a8c8>]"
      ]
     },
     "execution_count": 13,
     "metadata": {},
     "output_type": "execute_result"
    },
    {
     "data": {
      "image/png": "[encoded data removed]",
      "text/plain": [
       "<Figure size 432x288 with 1 Axes>"
      ]
     },
     "metadata": {
      "needs_background": "light"
     },
     "output_type": "display_data"
    }
   ],
   "source": [
    "# Plot a scatter graph to see is there a correlation between \n",
    "# participation rate and scores. The graph clearly show that there\n",
    "# is a negative correlation between participation rate and scores.\n",
    "act_x = act2017['Participation%']\n",
    "act_y = act2017['Composite']\n",
    "plt.scatter(act_x, act_y)\n",
    "plt.plot(np.unique(act_x), np.poly1d(np.polyfit(act_x, act_y, 1))(np.unique(act_x)))"
   ]
  },
  {
   "cell_type": "code",
   "execution_count": 14,
   "metadata": {
    "scrolled": true
   },
   "outputs": [
    {
     "data": {
      "text/html": [
       "<div>\n",
       "<style scoped>\n",
       "    .dataframe tbody tr th:only-of-type {\n",
       "        vertical-align: middle;\n",
       "    }\n",
       "\n",
       "    .dataframe tbody tr th {\n",
       "        vertical-align: top;\n",
       "    }\n",
       "\n",
       "    .dataframe thead th {\n",
       "        text-align: right;\n",
       "    }\n",
       "</style>\n",
       "<table border=\"1\" class=\"dataframe\">\n",
       "  <thead>\n",
       "    <tr style=\"text-align: right;\">\n",
       "      <th></th>\n",
       "      <th>Participation%</th>\n",
       "      <th>Evidence-Based Reading and Writing</th>\n",
       "      <th>Math</th>\n",
       "      <th>Total</th>\n",
       "    </tr>\n",
       "  </thead>\n",
       "  <tbody>\n",
       "    <tr>\n",
       "      <td>count</td>\n",
       "      <td>51.000000</td>\n",
       "      <td>51.000000</td>\n",
       "      <td>51.000000</td>\n",
       "      <td>51.000000</td>\n",
       "    </tr>\n",
       "    <tr>\n",
       "      <td>mean</td>\n",
       "      <td>39.803922</td>\n",
       "      <td>569.117647</td>\n",
       "      <td>547.627451</td>\n",
       "      <td>1126.098039</td>\n",
       "    </tr>\n",
       "    <tr>\n",
       "      <td>std</td>\n",
       "      <td>35.276632</td>\n",
       "      <td>45.666901</td>\n",
       "      <td>84.909119</td>\n",
       "      <td>92.494812</td>\n",
       "    </tr>\n",
       "    <tr>\n",
       "      <td>min</td>\n",
       "      <td>2.000000</td>\n",
       "      <td>482.000000</td>\n",
       "      <td>52.000000</td>\n",
       "      <td>950.000000</td>\n",
       "    </tr>\n",
       "    <tr>\n",
       "      <td>25%</td>\n",
       "      <td>4.000000</td>\n",
       "      <td>533.500000</td>\n",
       "      <td>522.000000</td>\n",
       "      <td>1055.500000</td>\n",
       "    </tr>\n",
       "    <tr>\n",
       "      <td>50%</td>\n",
       "      <td>38.000000</td>\n",
       "      <td>559.000000</td>\n",
       "      <td>548.000000</td>\n",
       "      <td>1107.000000</td>\n",
       "    </tr>\n",
       "    <tr>\n",
       "      <td>75%</td>\n",
       "      <td>66.000000</td>\n",
       "      <td>613.000000</td>\n",
       "      <td>599.000000</td>\n",
       "      <td>1212.000000</td>\n",
       "    </tr>\n",
       "    <tr>\n",
       "      <td>max</td>\n",
       "      <td>100.000000</td>\n",
       "      <td>644.000000</td>\n",
       "      <td>651.000000</td>\n",
       "      <td>1295.000000</td>\n",
       "    </tr>\n",
       "  </tbody>\n",
       "</table>\n",
       "</div>"
      ],
      "text/plain": [
       "       Participation%  Evidence-Based Reading and Writing        Math  \\\n",
       "count       51.000000                           51.000000   51.000000   \n",
       "mean        39.803922                          569.117647  547.627451   \n",
       "std         35.276632                           45.666901   84.909119   \n",
       "min          2.000000                          482.000000   52.000000   \n",
       "25%          4.000000                          533.500000  522.000000   \n",
       "50%         38.000000                          559.000000  548.000000   \n",
       "75%         66.000000                          613.000000  599.000000   \n",
       "max        100.000000                          644.000000  651.000000   \n",
       "\n",
       "             Total  \n",
       "count    51.000000  \n",
       "mean   1126.098039  \n",
       "std      92.494812  \n",
       "min     950.000000  \n",
       "25%    1055.500000  \n",
       "50%    1107.000000  \n",
       "75%    1212.000000  \n",
       "max    1295.000000  "
      ]
     },
     "execution_count": 14,
     "metadata": {},
     "output_type": "execute_result"
    }
   ],
   "source": [
    "sat2017.describe()"
   ]
  },
  {
   "cell_type": "code",
   "execution_count": 15,
   "metadata": {},
   "outputs": [
    {
     "data": {
      "text/html": [
       "<div>\n",
       "<style scoped>\n",
       "    .dataframe tbody tr th:only-of-type {\n",
       "        vertical-align: middle;\n",
       "    }\n",
       "\n",
       "    .dataframe tbody tr th {\n",
       "        vertical-align: top;\n",
       "    }\n",
       "\n",
       "    .dataframe thead th {\n",
       "        text-align: right;\n",
       "    }\n",
       "</style>\n",
       "<table border=\"1\" class=\"dataframe\">\n",
       "  <thead>\n",
       "    <tr style=\"text-align: right;\">\n",
       "      <th></th>\n",
       "      <th>Participation%</th>\n",
       "      <th>English</th>\n",
       "      <th>Math</th>\n",
       "      <th>Reading</th>\n",
       "      <th>Science</th>\n",
       "      <th>Composite</th>\n",
       "    </tr>\n",
       "  </thead>\n",
       "  <tbody>\n",
       "    <tr>\n",
       "      <td>count</td>\n",
       "      <td>51.000000</td>\n",
       "      <td>51.000000</td>\n",
       "      <td>51.000000</td>\n",
       "      <td>51.000000</td>\n",
       "      <td>51.000000</td>\n",
       "      <td>51.000000</td>\n",
       "    </tr>\n",
       "    <tr>\n",
       "      <td>mean</td>\n",
       "      <td>65.254902</td>\n",
       "      <td>20.931373</td>\n",
       "      <td>21.182353</td>\n",
       "      <td>22.013725</td>\n",
       "      <td>21.041176</td>\n",
       "      <td>21.519608</td>\n",
       "    </tr>\n",
       "    <tr>\n",
       "      <td>std</td>\n",
       "      <td>32.140842</td>\n",
       "      <td>2.353677</td>\n",
       "      <td>1.981989</td>\n",
       "      <td>2.067271</td>\n",
       "      <td>3.182463</td>\n",
       "      <td>2.020695</td>\n",
       "    </tr>\n",
       "    <tr>\n",
       "      <td>min</td>\n",
       "      <td>8.000000</td>\n",
       "      <td>16.300000</td>\n",
       "      <td>18.000000</td>\n",
       "      <td>18.100000</td>\n",
       "      <td>2.300000</td>\n",
       "      <td>17.800000</td>\n",
       "    </tr>\n",
       "    <tr>\n",
       "      <td>25%</td>\n",
       "      <td>31.000000</td>\n",
       "      <td>19.000000</td>\n",
       "      <td>19.400000</td>\n",
       "      <td>20.450000</td>\n",
       "      <td>19.900000</td>\n",
       "      <td>19.800000</td>\n",
       "    </tr>\n",
       "    <tr>\n",
       "      <td>50%</td>\n",
       "      <td>69.000000</td>\n",
       "      <td>20.700000</td>\n",
       "      <td>20.900000</td>\n",
       "      <td>21.800000</td>\n",
       "      <td>21.300000</td>\n",
       "      <td>21.400000</td>\n",
       "    </tr>\n",
       "    <tr>\n",
       "      <td>75%</td>\n",
       "      <td>100.000000</td>\n",
       "      <td>23.300000</td>\n",
       "      <td>23.100000</td>\n",
       "      <td>24.150000</td>\n",
       "      <td>22.750000</td>\n",
       "      <td>23.600000</td>\n",
       "    </tr>\n",
       "    <tr>\n",
       "      <td>max</td>\n",
       "      <td>100.000000</td>\n",
       "      <td>25.500000</td>\n",
       "      <td>25.300000</td>\n",
       "      <td>26.000000</td>\n",
       "      <td>24.900000</td>\n",
       "      <td>25.500000</td>\n",
       "    </tr>\n",
       "  </tbody>\n",
       "</table>\n",
       "</div>"
      ],
      "text/plain": [
       "       Participation%    English       Math    Reading    Science  Composite\n",
       "count       51.000000  51.000000  51.000000  51.000000  51.000000  51.000000\n",
       "mean        65.254902  20.931373  21.182353  22.013725  21.041176  21.519608\n",
       "std         32.140842   2.353677   1.981989   2.067271   3.182463   2.020695\n",
       "min          8.000000  16.300000  18.000000  18.100000   2.300000  17.800000\n",
       "25%         31.000000  19.000000  19.400000  20.450000  19.900000  19.800000\n",
       "50%         69.000000  20.700000  20.900000  21.800000  21.300000  21.400000\n",
       "75%        100.000000  23.300000  23.100000  24.150000  22.750000  23.600000\n",
       "max        100.000000  25.500000  25.300000  26.000000  24.900000  25.500000"
      ]
     },
     "execution_count": 15,
     "metadata": {},
     "output_type": "execute_result"
    }
   ],
   "source": [
    "act2017.describe()"
   ]
  },
  {
   "cell_type": "code",
   "execution_count": 16,
   "metadata": {},
   "outputs": [
    {
     "data": {
      "text/html": [
       "<div>\n",
       "<style scoped>\n",
       "    .dataframe tbody tr th:only-of-type {\n",
       "        vertical-align: middle;\n",
       "    }\n",
       "\n",
       "    .dataframe tbody tr th {\n",
       "        vertical-align: top;\n",
       "    }\n",
       "\n",
       "    .dataframe thead th {\n",
       "        text-align: right;\n",
       "    }\n",
       "</style>\n",
       "<table border=\"1\" class=\"dataframe\">\n",
       "  <thead>\n",
       "    <tr style=\"text-align: right;\">\n",
       "      <th></th>\n",
       "      <th>State</th>\n",
       "      <th>Participation%</th>\n",
       "      <th>Composite</th>\n",
       "    </tr>\n",
       "  </thead>\n",
       "  <tbody>\n",
       "    <tr>\n",
       "      <td>20</td>\n",
       "      <td>Maine</td>\n",
       "      <td>8.0</td>\n",
       "      <td>24.3</td>\n",
       "    </tr>\n",
       "    <tr>\n",
       "      <td>30</td>\n",
       "      <td>New Hampshire</td>\n",
       "      <td>18.0</td>\n",
       "      <td>25.5</td>\n",
       "    </tr>\n",
       "    <tr>\n",
       "      <td>8</td>\n",
       "      <td>Delaware</td>\n",
       "      <td>18.0</td>\n",
       "      <td>24.1</td>\n",
       "    </tr>\n",
       "    <tr>\n",
       "      <td>40</td>\n",
       "      <td>Rhode Island</td>\n",
       "      <td>21.0</td>\n",
       "      <td>24.0</td>\n",
       "    </tr>\n",
       "    <tr>\n",
       "      <td>39</td>\n",
       "      <td>Pennsylvania</td>\n",
       "      <td>23.0</td>\n",
       "      <td>23.7</td>\n",
       "    </tr>\n",
       "    <tr>\n",
       "      <td>21</td>\n",
       "      <td>Maryland</td>\n",
       "      <td>28.0</td>\n",
       "      <td>23.6</td>\n",
       "    </tr>\n",
       "    <tr>\n",
       "      <td>46</td>\n",
       "      <td>Vermont</td>\n",
       "      <td>29.0</td>\n",
       "      <td>23.6</td>\n",
       "    </tr>\n",
       "    <tr>\n",
       "      <td>22</td>\n",
       "      <td>Massachusetts</td>\n",
       "      <td>29.0</td>\n",
       "      <td>25.4</td>\n",
       "    </tr>\n",
       "    <tr>\n",
       "      <td>23</td>\n",
       "      <td>Michigan</td>\n",
       "      <td>29.0</td>\n",
       "      <td>24.1</td>\n",
       "    </tr>\n",
       "    <tr>\n",
       "      <td>47</td>\n",
       "      <td>Virginia</td>\n",
       "      <td>29.0</td>\n",
       "      <td>23.8</td>\n",
       "    </tr>\n",
       "    <tr>\n",
       "      <td>48</td>\n",
       "      <td>Washington</td>\n",
       "      <td>29.0</td>\n",
       "      <td>21.9</td>\n",
       "    </tr>\n",
       "    <tr>\n",
       "      <td>5</td>\n",
       "      <td>California</td>\n",
       "      <td>31.0</td>\n",
       "      <td>22.8</td>\n",
       "    </tr>\n",
       "    <tr>\n",
       "      <td>33</td>\n",
       "      <td>New York</td>\n",
       "      <td>31.0</td>\n",
       "      <td>24.2</td>\n",
       "    </tr>\n",
       "    <tr>\n",
       "      <td>7</td>\n",
       "      <td>Connecticut</td>\n",
       "      <td>31.0</td>\n",
       "      <td>25.2</td>\n",
       "    </tr>\n",
       "    <tr>\n",
       "      <td>9</td>\n",
       "      <td>District of Columbia</td>\n",
       "      <td>32.0</td>\n",
       "      <td>24.2</td>\n",
       "    </tr>\n",
       "    <tr>\n",
       "      <td>31</td>\n",
       "      <td>New Jersey</td>\n",
       "      <td>34.0</td>\n",
       "      <td>23.9</td>\n",
       "    </tr>\n",
       "    <tr>\n",
       "      <td>15</td>\n",
       "      <td>Indiana</td>\n",
       "      <td>35.0</td>\n",
       "      <td>22.6</td>\n",
       "    </tr>\n",
       "    <tr>\n",
       "      <td>13</td>\n",
       "      <td>Idaho</td>\n",
       "      <td>38.0</td>\n",
       "      <td>22.3</td>\n",
       "    </tr>\n",
       "    <tr>\n",
       "      <td>38</td>\n",
       "      <td>Oregon</td>\n",
       "      <td>40.0</td>\n",
       "      <td>21.8</td>\n",
       "    </tr>\n",
       "    <tr>\n",
       "      <td>44</td>\n",
       "      <td>Texas</td>\n",
       "      <td>45.0</td>\n",
       "      <td>20.7</td>\n",
       "    </tr>\n",
       "    <tr>\n",
       "      <td>11</td>\n",
       "      <td>Georgia</td>\n",
       "      <td>55.0</td>\n",
       "      <td>21.4</td>\n",
       "    </tr>\n",
       "    <tr>\n",
       "      <td>3</td>\n",
       "      <td>Arizona</td>\n",
       "      <td>62.0</td>\n",
       "      <td>19.7</td>\n",
       "    </tr>\n",
       "    <tr>\n",
       "      <td>2</td>\n",
       "      <td>Alaska</td>\n",
       "      <td>65.0</td>\n",
       "      <td>19.8</td>\n",
       "    </tr>\n",
       "    <tr>\n",
       "      <td>32</td>\n",
       "      <td>New Mexico</td>\n",
       "      <td>66.0</td>\n",
       "      <td>19.7</td>\n",
       "    </tr>\n",
       "    <tr>\n",
       "      <td>16</td>\n",
       "      <td>Iowa</td>\n",
       "      <td>67.0</td>\n",
       "      <td>21.9</td>\n",
       "    </tr>\n",
       "    <tr>\n",
       "      <td>49</td>\n",
       "      <td>West Virginia</td>\n",
       "      <td>69.0</td>\n",
       "      <td>20.4</td>\n",
       "    </tr>\n",
       "    <tr>\n",
       "      <td>17</td>\n",
       "      <td>Kansas</td>\n",
       "      <td>73.0</td>\n",
       "      <td>21.7</td>\n",
       "    </tr>\n",
       "    <tr>\n",
       "      <td>10</td>\n",
       "      <td>Florida</td>\n",
       "      <td>73.0</td>\n",
       "      <td>19.8</td>\n",
       "    </tr>\n",
       "    <tr>\n",
       "      <td>36</td>\n",
       "      <td>Ohio</td>\n",
       "      <td>75.0</td>\n",
       "      <td>22.0</td>\n",
       "    </tr>\n",
       "    <tr>\n",
       "      <td>42</td>\n",
       "      <td>South Dakota</td>\n",
       "      <td>80.0</td>\n",
       "      <td>21.8</td>\n",
       "    </tr>\n",
       "    <tr>\n",
       "      <td>28</td>\n",
       "      <td>Nebraska</td>\n",
       "      <td>84.0</td>\n",
       "      <td>21.4</td>\n",
       "    </tr>\n",
       "    <tr>\n",
       "      <td>12</td>\n",
       "      <td>Hawaii</td>\n",
       "      <td>90.0</td>\n",
       "      <td>19.0</td>\n",
       "    </tr>\n",
       "    <tr>\n",
       "      <td>14</td>\n",
       "      <td>Illinois</td>\n",
       "      <td>93.0</td>\n",
       "      <td>21.4</td>\n",
       "    </tr>\n",
       "    <tr>\n",
       "      <td>35</td>\n",
       "      <td>North Dakota</td>\n",
       "      <td>98.0</td>\n",
       "      <td>20.3</td>\n",
       "    </tr>\n",
       "    <tr>\n",
       "      <td>41</td>\n",
       "      <td>South Carolina</td>\n",
       "      <td>100.0</td>\n",
       "      <td>18.7</td>\n",
       "    </tr>\n",
       "    <tr>\n",
       "      <td>45</td>\n",
       "      <td>Utah</td>\n",
       "      <td>100.0</td>\n",
       "      <td>20.3</td>\n",
       "    </tr>\n",
       "    <tr>\n",
       "      <td>43</td>\n",
       "      <td>Tennessee</td>\n",
       "      <td>100.0</td>\n",
       "      <td>19.8</td>\n",
       "    </tr>\n",
       "    <tr>\n",
       "      <td>1</td>\n",
       "      <td>Alabama</td>\n",
       "      <td>100.0</td>\n",
       "      <td>19.2</td>\n",
       "    </tr>\n",
       "    <tr>\n",
       "      <td>26</td>\n",
       "      <td>Missouri</td>\n",
       "      <td>100.0</td>\n",
       "      <td>20.4</td>\n",
       "    </tr>\n",
       "    <tr>\n",
       "      <td>34</td>\n",
       "      <td>North Carolina</td>\n",
       "      <td>100.0</td>\n",
       "      <td>19.1</td>\n",
       "    </tr>\n",
       "    <tr>\n",
       "      <td>29</td>\n",
       "      <td>Nevada</td>\n",
       "      <td>100.0</td>\n",
       "      <td>17.8</td>\n",
       "    </tr>\n",
       "    <tr>\n",
       "      <td>27</td>\n",
       "      <td>Montana</td>\n",
       "      <td>100.0</td>\n",
       "      <td>20.3</td>\n",
       "    </tr>\n",
       "    <tr>\n",
       "      <td>50</td>\n",
       "      <td>Wisconsin</td>\n",
       "      <td>100.0</td>\n",
       "      <td>20.5</td>\n",
       "    </tr>\n",
       "    <tr>\n",
       "      <td>25</td>\n",
       "      <td>Mississippi</td>\n",
       "      <td>100.0</td>\n",
       "      <td>18.6</td>\n",
       "    </tr>\n",
       "    <tr>\n",
       "      <td>24</td>\n",
       "      <td>Minnesota</td>\n",
       "      <td>100.0</td>\n",
       "      <td>21.5</td>\n",
       "    </tr>\n",
       "    <tr>\n",
       "      <td>19</td>\n",
       "      <td>Louisiana</td>\n",
       "      <td>100.0</td>\n",
       "      <td>19.5</td>\n",
       "    </tr>\n",
       "    <tr>\n",
       "      <td>18</td>\n",
       "      <td>Kentucky</td>\n",
       "      <td>100.0</td>\n",
       "      <td>20.0</td>\n",
       "    </tr>\n",
       "    <tr>\n",
       "      <td>6</td>\n",
       "      <td>Colorado</td>\n",
       "      <td>100.0</td>\n",
       "      <td>20.8</td>\n",
       "    </tr>\n",
       "    <tr>\n",
       "      <td>4</td>\n",
       "      <td>Arkansas</td>\n",
       "      <td>100.0</td>\n",
       "      <td>19.4</td>\n",
       "    </tr>\n",
       "    <tr>\n",
       "      <td>37</td>\n",
       "      <td>Oklahoma</td>\n",
       "      <td>100.0</td>\n",
       "      <td>19.4</td>\n",
       "    </tr>\n",
       "    <tr>\n",
       "      <td>51</td>\n",
       "      <td>Wyoming</td>\n",
       "      <td>100.0</td>\n",
       "      <td>20.2</td>\n",
       "    </tr>\n",
       "  </tbody>\n",
       "</table>\n",
       "</div>"
      ],
      "text/plain": [
       "                   State  Participation%  Composite\n",
       "20                 Maine             8.0       24.3\n",
       "30         New Hampshire            18.0       25.5\n",
       "8               Delaware            18.0       24.1\n",
       "40          Rhode Island            21.0       24.0\n",
       "39          Pennsylvania            23.0       23.7\n",
       "21              Maryland            28.0       23.6\n",
       "46               Vermont            29.0       23.6\n",
       "22         Massachusetts            29.0       25.4\n",
       "23              Michigan            29.0       24.1\n",
       "47              Virginia            29.0       23.8\n",
       "48            Washington            29.0       21.9\n",
       "5             California            31.0       22.8\n",
       "33              New York            31.0       24.2\n",
       "7            Connecticut            31.0       25.2\n",
       "9   District of Columbia            32.0       24.2\n",
       "31            New Jersey            34.0       23.9\n",
       "15               Indiana            35.0       22.6\n",
       "13                 Idaho            38.0       22.3\n",
       "38                Oregon            40.0       21.8\n",
       "44                 Texas            45.0       20.7\n",
       "11               Georgia            55.0       21.4\n",
       "3                Arizona            62.0       19.7\n",
       "2                 Alaska            65.0       19.8\n",
       "32            New Mexico            66.0       19.7\n",
       "16                  Iowa            67.0       21.9\n",
       "49         West Virginia            69.0       20.4\n",
       "17                Kansas            73.0       21.7\n",
       "10               Florida            73.0       19.8\n",
       "36                  Ohio            75.0       22.0\n",
       "42          South Dakota            80.0       21.8\n",
       "28              Nebraska            84.0       21.4\n",
       "12                Hawaii            90.0       19.0\n",
       "14              Illinois            93.0       21.4\n",
       "35          North Dakota            98.0       20.3\n",
       "41        South Carolina           100.0       18.7\n",
       "45                  Utah           100.0       20.3\n",
       "43             Tennessee           100.0       19.8\n",
       "1                Alabama           100.0       19.2\n",
       "26              Missouri           100.0       20.4\n",
       "34        North Carolina           100.0       19.1\n",
       "29                Nevada           100.0       17.8\n",
       "27               Montana           100.0       20.3\n",
       "50             Wisconsin           100.0       20.5\n",
       "25           Mississippi           100.0       18.6\n",
       "24             Minnesota           100.0       21.5\n",
       "19             Louisiana           100.0       19.5\n",
       "18              Kentucky           100.0       20.0\n",
       "6               Colorado           100.0       20.8\n",
       "4               Arkansas           100.0       19.4\n",
       "37              Oklahoma           100.0       19.4\n",
       "51               Wyoming           100.0       20.2"
      ]
     },
     "execution_count": 16,
     "metadata": {},
     "output_type": "execute_result"
    }
   ],
   "source": [
    "act2017[['State', 'Participation%', 'Composite']]"
   ]
  },
  {
   "cell_type": "code",
   "execution_count": 18,
   "metadata": {},
   "outputs": [
    {
     "data": {
      "text/html": [
       "<div>\n",
       "<style scoped>\n",
       "    .dataframe tbody tr th:only-of-type {\n",
       "        vertical-align: middle;\n",
       "    }\n",
       "\n",
       "    .dataframe tbody tr th {\n",
       "        vertical-align: top;\n",
       "    }\n",
       "\n",
       "    .dataframe thead th {\n",
       "        text-align: right;\n",
       "    }\n",
       "</style>\n",
       "<table border=\"1\" class=\"dataframe\">\n",
       "  <thead>\n",
       "    <tr style=\"text-align: right;\">\n",
       "      <th></th>\n",
       "      <th>State</th>\n",
       "      <th>Participation%</th>\n",
       "      <th>Evidence-Based Reading and Writing</th>\n",
       "      <th>Math</th>\n",
       "      <th>Total</th>\n",
       "    </tr>\n",
       "  </thead>\n",
       "  <tbody>\n",
       "    <tr>\n",
       "      <td>34</td>\n",
       "      <td>North Dakota</td>\n",
       "      <td>2.0</td>\n",
       "      <td>635</td>\n",
       "      <td>621</td>\n",
       "      <td>1256</td>\n",
       "    </tr>\n",
       "    <tr>\n",
       "      <td>24</td>\n",
       "      <td>Mississippi</td>\n",
       "      <td>2.0</td>\n",
       "      <td>634</td>\n",
       "      <td>607</td>\n",
       "      <td>1242</td>\n",
       "    </tr>\n",
       "    <tr>\n",
       "      <td>15</td>\n",
       "      <td>Iowa</td>\n",
       "      <td>2.0</td>\n",
       "      <td>641</td>\n",
       "      <td>635</td>\n",
       "      <td>1275</td>\n",
       "    </tr>\n",
       "    <tr>\n",
       "      <td>25</td>\n",
       "      <td>Missouri</td>\n",
       "      <td>3.0</td>\n",
       "      <td>640</td>\n",
       "      <td>631</td>\n",
       "      <td>1271</td>\n",
       "    </tr>\n",
       "    <tr>\n",
       "      <td>44</td>\n",
       "      <td>Utah</td>\n",
       "      <td>3.0</td>\n",
       "      <td>624</td>\n",
       "      <td>614</td>\n",
       "      <td>1238</td>\n",
       "    </tr>\n",
       "  </tbody>\n",
       "</table>\n",
       "</div>"
      ],
      "text/plain": [
       "           State  Participation%  Evidence-Based Reading and Writing  Math  \\\n",
       "34  North Dakota             2.0                                 635   621   \n",
       "24   Mississippi             2.0                                 634   607   \n",
       "15          Iowa             2.0                                 641   635   \n",
       "25      Missouri             3.0                                 640   631   \n",
       "44          Utah             3.0                                 624   614   \n",
       "\n",
       "    Total  \n",
       "34   1256  \n",
       "24   1242  \n",
       "15   1275  \n",
       "25   1271  \n",
       "44   1238  "
      ]
     },
     "execution_count": 18,
     "metadata": {},
     "output_type": "execute_result"
    }
   ],
   "source": [
    "sat2017.head()"
   ]
  },
  {
   "cell_type": "markdown",
   "metadata": {},
   "source": [
    "#### 3. Verbally Describe Data\n",
    "\n",
    "Take your time looking through the data and thoroughly describe the data in the markdown cell below. "
   ]
  },
  {
   "cell_type": "markdown",
   "metadata": {},
   "source": [
    "Answer: \n",
    "sat2017 contains 51 rows by 5 columns while act2017 contains 52 rows by 7 columns. A quick check using '.isnull()' for both dataframes shows that there is no missing values which is good. However, some data wrangling is still required to;\n",
    "1. get rid of % symbol in the 'Participation' column for both dataframe (df).\n",
    "2. get rid of the 'x' in row 52 column 'Composite' in the act2017 df.\n",
    "3. convert 'Participation' columns in both df and 'Composite' column in act2017 df from string to float to do a scatter plot.\n",
    "\n",
    "SAT:\n",
    "From the stats summary (.describe());\n",
    "- Participation rate is completely out of whack. The min is 2% while the max is 100%.\n",
    "- The disparity between the min and max scores is very wide too and is far from the mean.\n",
    "- By far, the EBRW (Evidence-Based Reading and Writing) scores looks normal. The differnece between the min and max scores are not too wide and are close to the mean.\n",
    "- The same cannot be said for Math because the 25%, 50%, 75% quartiles and the max is quite close to the mean but the min is 496 away from the mean (min: 52; mean: 548). Looks like Maryland state is the outlier. Ignoring this outlier, the min should be 468 from District of Columbia which is similar as EBRW.\n",
    "- The min and the max total score is wide as well as the standard deviation is almost 2 standard deviation from the mean based on the min and max.\n",
    "- There is a negative correlation between participation rate and total scores as shown in the scatter plot.\n",
    "\n",
    "\n",
    "ACT:\n",
    "- Participation rate is only slightly better than SAT but still very bad; min: 8% and amx: 100%.\n",
    "- Although there is a negative correlation between participation rate and Composite score but generally, the overall scores for the 4 subjects and composite are quite consisent ie, the observations are closer to the mean compared to SAT and the ACT standard deviation is small.\n"
   ]
  },
  {
   "cell_type": "markdown",
   "metadata": {},
   "source": [
    "#### 4a. Does the data look complete? "
   ]
  },
  {
   "cell_type": "markdown",
   "metadata": {},
   "source": [
    "Answer:\n",
    "Other than the minor data wrangling, the data look complete."
   ]
  },
  {
   "cell_type": "markdown",
   "metadata": {},
   "source": [
    "#### 4b. Are there any obvious issues with the observations?\n",
    "\n",
    "**What is the minimum *possible* value for each test/subtest? What is the maximum *possible* value?**\n",
    "\n",
    "Consider comparing any questionable values to the sources of your data:\n",
    "- [SAT](https://blog.collegevine.com/here-are-the-average-sat-scores-by-state/)\n",
    "- [ACT](https://blog.prepscholar.com/act-scores-by-state-averages-highs-and-lows)"
   ]
  },
  {
   "cell_type": "markdown",
   "metadata": {},
   "source": [
    "Answer:\n",
    "\n",
    "Since the participation rate varies significantly between states, it has a huge impact on state average SAT/ ACT scores. Thus, unless the raw average SAT/ ACT scores are adjusted ie. removes the biasness caused by participation rate, any analysis done using the raw average score may not be accurate.\n"
   ]
  },
  {
   "cell_type": "markdown",
   "metadata": {},
   "source": [
    "#### 4c. Fix any errors you identified\n",
    "\n",
    "**The data is available** so there's no need to guess or calculate anything. If you didn't find any errors, continue to the next step."
   ]
  },
  {
   "cell_type": "code",
   "execution_count": 19,
   "metadata": {},
   "outputs": [],
   "source": [
    "#Code\n",
    "None"
   ]
  },
  {
   "cell_type": "markdown",
   "metadata": {},
   "source": [
    "#### 5. What are your data types? \n",
    "Display the data types of each feature. "
   ]
  },
  {
   "cell_type": "code",
   "execution_count": 19,
   "metadata": {},
   "outputs": [
    {
     "name": "stdout",
     "output_type": "stream",
     "text": [
      "<class 'pandas.core.frame.DataFrame'>\n",
      "RangeIndex: 51 entries, 0 to 50\n",
      "Data columns (total 5 columns):\n",
      "State                                 51 non-null object\n",
      "Participation                         51 non-null object\n",
      "Evidence-Based Reading and Writing    51 non-null int64\n",
      "Math                                  51 non-null int64\n",
      "Total                                 51 non-null int64\n",
      "dtypes: int64(3), object(2)\n",
      "memory usage: 2.1+ KB\n",
      "None\n",
      "\n",
      "\n",
      "<class 'pandas.core.frame.DataFrame'>\n",
      "RangeIndex: 52 entries, 0 to 51\n",
      "Data columns (total 7 columns):\n",
      "State            52 non-null object\n",
      "Participation    52 non-null object\n",
      "English          52 non-null float64\n",
      "Math             52 non-null float64\n",
      "Reading          52 non-null float64\n",
      "Science          52 non-null float64\n",
      "Composite        52 non-null object\n",
      "dtypes: float64(4), object(3)\n",
      "memory usage: 3.0+ KB\n",
      "None\n"
     ]
    }
   ],
   "source": [
    "#code\n",
    "print(sat2017_c.info()); print('\\n')\n",
    "print(act2017_c.info())"
   ]
  },
  {
   "cell_type": "markdown",
   "metadata": {},
   "source": [
    "What did you learn?\n",
    "- Do any of them seem odd?  \n",
    "- Which ones are not as they should be?  "
   ]
  },
  {
   "cell_type": "markdown",
   "metadata": {},
   "source": [
    "Answer:\n",
    "'''\n",
    "\n",
    "sat2017 contains 51 rows by 5 columns while act2017 contains 52 rows\n",
    "by 7 columns. A quick check using '.isnull()' for both dataframes shows \n",
    "that there is no missing values. However, some data wrangling \n",
    "is still required to convert 'Participation' for both dataframes and 'Composite' for act2017 dataframe to numeric values in order analysis can be done.\n",
    "\n",
    "1. get rid of % symbol in the 'Participation' column for both dataframe (df).\n",
    "\n",
    "2. get rid of the 'x' in row 52 column 'Composite' in the act2017 df.\n",
    "\n",
    "3. convert 'Participation' columns in both df and 'Composite' column in \n",
    "act2017 df from string to float to do a scatter plot.\n",
    "\n",
    "All of these already completed in the cells above before the scatter plots. Please refer to the comments in the respective cells.\n",
    "\n",
    "'''"
   ]
  },
  {
   "cell_type": "markdown",
   "metadata": {},
   "source": [
    "#### 6. Fix Incorrect Data Types\n",
    "Based on what you discovered above, use appropriate methods to re-type incorrectly typed data.\n",
    "- Define a function that will allow you to convert participation rates to an appropriate numeric type. Use `map` or `apply` to change these columns in each dataframe."
   ]
  },
  {
   "cell_type": "code",
   "execution_count": 20,
   "metadata": {},
   "outputs": [
    {
     "name": "stdout",
     "output_type": "stream",
     "text": [
      "Column header already include % symbol\n",
      "Column header already include % symbol\n"
     ]
    }
   ],
   "source": [
    "#code\n",
    "# Function to remove % symbol from 'Participation' column and convert\n",
    "# the results to floats\n",
    "def remove_pct_symbol(df_name, col_header = 'Participation'):\n",
    "    try:\n",
    "        df_name[col_header] = df_name[col_header].apply(lambda pct: float(pct.replace('%','')))\n",
    "    except:\n",
    "        print('Column header already include % symbol')\n",
    "\n",
    "# Remove % from 'Participation' column for both dataframes.\n",
    "remove_pct_symbol(act2017)\n",
    "remove_pct_symbol(sat2017)"
   ]
  },
  {
   "cell_type": "markdown",
   "metadata": {},
   "source": [
    "- Fix any individual values preventing other columns from being the appropriate type."
   ]
  },
  {
   "cell_type": "code",
   "execution_count": 21,
   "metadata": {},
   "outputs": [
    {
     "data": {
      "text/html": [
       "<div>\n",
       "<style scoped>\n",
       "    .dataframe tbody tr th:only-of-type {\n",
       "        vertical-align: middle;\n",
       "    }\n",
       "\n",
       "    .dataframe tbody tr th {\n",
       "        vertical-align: top;\n",
       "    }\n",
       "\n",
       "    .dataframe thead th {\n",
       "        text-align: right;\n",
       "    }\n",
       "</style>\n",
       "<table border=\"1\" class=\"dataframe\">\n",
       "  <thead>\n",
       "    <tr style=\"text-align: right;\">\n",
       "      <th></th>\n",
       "      <th>State</th>\n",
       "      <th>Participation%</th>\n",
       "      <th>English</th>\n",
       "      <th>Math</th>\n",
       "      <th>Reading</th>\n",
       "      <th>Science</th>\n",
       "      <th>Composite</th>\n",
       "    </tr>\n",
       "  </thead>\n",
       "  <tbody>\n",
       "    <tr>\n",
       "      <td>20</td>\n",
       "      <td>Maine</td>\n",
       "      <td>8.0</td>\n",
       "      <td>24.2</td>\n",
       "      <td>24.0</td>\n",
       "      <td>24.8</td>\n",
       "      <td>23.7</td>\n",
       "      <td>24.3</td>\n",
       "    </tr>\n",
       "    <tr>\n",
       "      <td>30</td>\n",
       "      <td>New Hampshire</td>\n",
       "      <td>18.0</td>\n",
       "      <td>25.4</td>\n",
       "      <td>25.1</td>\n",
       "      <td>26.0</td>\n",
       "      <td>24.9</td>\n",
       "      <td>25.5</td>\n",
       "    </tr>\n",
       "    <tr>\n",
       "      <td>8</td>\n",
       "      <td>Delaware</td>\n",
       "      <td>18.0</td>\n",
       "      <td>24.1</td>\n",
       "      <td>23.4</td>\n",
       "      <td>24.8</td>\n",
       "      <td>23.6</td>\n",
       "      <td>24.1</td>\n",
       "    </tr>\n",
       "    <tr>\n",
       "      <td>40</td>\n",
       "      <td>Rhode Island</td>\n",
       "      <td>21.0</td>\n",
       "      <td>24.0</td>\n",
       "      <td>23.3</td>\n",
       "      <td>24.7</td>\n",
       "      <td>23.4</td>\n",
       "      <td>24.0</td>\n",
       "    </tr>\n",
       "    <tr>\n",
       "      <td>39</td>\n",
       "      <td>Pennsylvania</td>\n",
       "      <td>23.0</td>\n",
       "      <td>23.4</td>\n",
       "      <td>23.4</td>\n",
       "      <td>24.2</td>\n",
       "      <td>23.3</td>\n",
       "      <td>23.7</td>\n",
       "    </tr>\n",
       "  </tbody>\n",
       "</table>\n",
       "</div>"
      ],
      "text/plain": [
       "            State  Participation%  English  Math  Reading  Science  Composite\n",
       "20          Maine             8.0     24.2  24.0     24.8     23.7       24.3\n",
       "30  New Hampshire            18.0     25.4  25.1     26.0     24.9       25.5\n",
       "8        Delaware            18.0     24.1  23.4     24.8     23.6       24.1\n",
       "40   Rhode Island            21.0     24.0  23.3     24.7     23.4       24.0\n",
       "39   Pennsylvania            23.0     23.4  23.4     24.2     23.3       23.7"
      ]
     },
     "execution_count": 21,
     "metadata": {},
     "output_type": "execute_result"
    }
   ],
   "source": [
    "act2017.head()"
   ]
  },
  {
   "cell_type": "code",
   "execution_count": 22,
   "metadata": {},
   "outputs": [
    {
     "name": "stdout",
     "output_type": "stream",
     "text": [
      "                      Participation%  English  Math  Reading  Science  \\\n",
      "State                                                                   \n",
      "Maine                            8.0     24.2  24.0     24.8     23.7   \n",
      "New Hampshire                   18.0     25.4  25.1     26.0     24.9   \n",
      "Delaware                        18.0     24.1  23.4     24.8     23.6   \n",
      "Rhode Island                    21.0     24.0  23.3     24.7     23.4   \n",
      "Pennsylvania                    23.0     23.4  23.4     24.2     23.3   \n",
      "Maryland                        28.0     23.3  23.1     24.2      2.3   \n",
      "Vermont                         29.0     23.3  23.1     24.4     23.2   \n",
      "Massachusetts                   29.0     25.4  25.3     25.9     24.7   \n",
      "Michigan                        29.0     24.1  23.7     24.5     23.8   \n",
      "Virginia                        29.0     23.5  23.3     24.6     23.5   \n",
      "Washington                      29.0     20.9  21.9     22.1     22.0   \n",
      "California                      31.0     22.5  22.7     23.1     22.2   \n",
      "New York                        31.0     23.8  24.0     24.6     23.9   \n",
      "Connecticut                     31.0     25.5  24.6     25.6     24.6   \n",
      "District of Columbia            32.0     24.4  23.5     24.9     23.5   \n",
      "New Jersey                      34.0     23.8  23.8     24.1     23.2   \n",
      "Indiana                         35.0     22.0  22.4     23.2     22.3   \n",
      "Idaho                           38.0     21.9  21.8     23.0     22.1   \n",
      "Oregon                          40.0     21.2  21.5     22.4     21.7   \n",
      "Texas                           45.0     19.5  20.7     21.1     20.9   \n",
      "Georgia                         55.0     21.0  20.9     22.0     21.3   \n",
      "Arizona                         62.0     18.6  19.8     20.1     19.8   \n",
      "Alaska                          65.0     18.7  19.8     20.4     19.9   \n",
      "New Mexico                      66.0     18.6  19.4     20.4     20.0   \n",
      "Iowa                            67.0     21.2  21.3     22.6     22.1   \n",
      "West Virginia                   69.0     20.0  19.4     21.2     20.5   \n",
      "Kansas                          73.0     21.1  21.3     22.3     21.7   \n",
      "Florida                         73.0     19.0  19.4     21.0     19.4   \n",
      "Ohio                            75.0     21.2  21.6     22.5     22.0   \n",
      "South Dakota                    80.0     20.7  21.5     22.3     22.0   \n",
      "Nebraska                        84.0     20.9  20.9     21.9     21.5   \n",
      "Hawaii                          90.0     17.8  19.2     19.2     19.3   \n",
      "Illinois                        93.0     21.0  21.2     21.6     21.3   \n",
      "North Dakota                    98.0     19.0  20.4     20.5     20.6   \n",
      "South Carolina                 100.0     17.5  18.6     19.1     18.9   \n",
      "Utah                           100.0     19.5  19.9     20.8     20.6   \n",
      "Tennessee                      100.0     19.5  19.2     20.1     19.9   \n",
      "Alabama                        100.0     18.9  18.4     19.7     19.4   \n",
      "Missouri                       100.0     19.8  19.9     20.8     20.5   \n",
      "North Carolina                 100.0     17.8  19.3     19.6     19.3   \n",
      "Nevada                         100.0     16.3  18.0     18.1     18.2   \n",
      "Montana                        100.0     19.0  20.2     21.0     20.5   \n",
      "Wisconsin                      100.0     19.7  20.4     20.6     20.9   \n",
      "Mississippi                    100.0     18.2  18.1     18.8     18.8   \n",
      "Minnesota                      100.0     20.4  21.5     21.8     21.6   \n",
      "Louisiana                      100.0     19.4  18.8     19.8     19.6   \n",
      "Kentucky                       100.0     19.6  19.4     20.5     20.1   \n",
      "Colorado                       100.0     20.1  20.3     21.2     20.9   \n",
      "Arkansas                       100.0     18.9  19.0     19.7     19.5   \n",
      "Oklahoma                       100.0     18.5  18.8     20.1     19.6   \n",
      "Wyoming                        100.0     19.4  19.8     20.8     20.6   \n",
      "\n",
      "                      Composite  \n",
      "State                            \n",
      "Maine                      24.3  \n",
      "New Hampshire              25.5  \n",
      "Delaware                   24.1  \n",
      "Rhode Island               24.0  \n",
      "Pennsylvania               23.7  \n",
      "Maryland                   23.6  \n",
      "Vermont                    23.6  \n",
      "Massachusetts              25.4  \n",
      "Michigan                   24.1  \n",
      "Virginia                   23.8  \n",
      "Washington                 21.9  \n",
      "California                 22.8  \n",
      "New York                   24.2  \n",
      "Connecticut                25.2  \n",
      "District of Columbia       24.2  \n",
      "New Jersey                 23.9  \n",
      "Indiana                    22.6  \n",
      "Idaho                      22.3  \n",
      "Oregon                     21.8  \n",
      "Texas                      20.7  \n",
      "Georgia                    21.4  \n",
      "Arizona                    19.7  \n",
      "Alaska                     19.8  \n",
      "New Mexico                 19.7  \n",
      "Iowa                       21.9  \n",
      "West Virginia              20.4  \n",
      "Kansas                     21.7  \n",
      "Florida                    19.8  \n",
      "Ohio                       22.0  \n",
      "South Dakota               21.8  \n",
      "Nebraska                   21.4  \n",
      "Hawaii                     19.0  \n",
      "Illinois                   21.4  \n",
      "North Dakota               20.3  \n",
      "South Carolina             18.7  \n",
      "Utah                       20.3  \n",
      "Tennessee                  19.8  \n",
      "Alabama                    19.2  \n",
      "Missouri                   20.4  \n",
      "North Carolina             19.1  \n",
      "Nevada                     17.8  \n",
      "Montana                    20.3  \n",
      "Wisconsin                  20.5  \n",
      "Mississippi                18.6  \n",
      "Minnesota                  21.5  \n",
      "Louisiana                  19.5  \n",
      "Kentucky                   20.0  \n",
      "Colorado                   20.8  \n",
      "Arkansas                   19.4  \n",
      "Oklahoma                   19.4  \n",
      "Wyoming                    20.2   States has set as index.\n",
      "                      Participation%  Evidence-Based Reading and Writing  \\\n",
      "State                                                                      \n",
      "North Dakota                     2.0                                 635   \n",
      "Mississippi                      2.0                                 634   \n",
      "Iowa                             2.0                                 641   \n",
      "Missouri                         3.0                                 640   \n",
      "Utah                             3.0                                 624   \n",
      "South Dakota                     3.0                                 612   \n",
      "Nebraska                         3.0                                 629   \n",
      "Wisconsin                        3.0                                 642   \n",
      "Minnesota                        3.0                                 644   \n",
      "Wyoming                          3.0                                 626   \n",
      "Arkansas                         3.0                                 614   \n",
      "Kansas                           4.0                                 632   \n",
      "Kentucky                         4.0                                 631   \n",
      "Louisiana                        4.0                                 611   \n",
      "Alabama                          5.0                                 593   \n",
      "Tennessee                        5.0                                 623   \n",
      "Oklahoma                         7.0                                 530   \n",
      "Illinois                         9.0                                 559   \n",
      "Montana                         10.0                                 605   \n",
      "Colorado                        11.0                                 606   \n",
      "New Mexico                      11.0                                 577   \n",
      "Ohio                            12.0                                 578   \n",
      "West Virginia                   14.0                                 558   \n",
      "Nevada                          26.0                                 563   \n",
      "Arizona                         30.0                                 563   \n",
      "Alaska                          38.0                                 547   \n",
      "Oregon                          43.0                                 560   \n",
      "North Carolina                  49.0                                 546   \n",
      "South Carolina                  50.0                                 543   \n",
      "California                      53.0                                 531   \n",
      "Hawaii                          55.0                                 544   \n",
      "Vermont                         60.0                                 562   \n",
      "Georgia                         61.0                                 535   \n",
      "Texas                           62.0                                 513   \n",
      "Indiana                         63.0                                 542   \n",
      "Washington                      64.0                                 541   \n",
      "Virginia                        65.0                                 561   \n",
      "Pennsylvania                    65.0                                 540   \n",
      "New York                        67.0                                 528   \n",
      "Maryland                        69.0                                 536   \n",
      "New Jersey                      70.0                                 530   \n",
      "Rhode Island                    71.0                                 539   \n",
      "Massachusetts                   76.0                                 555   \n",
      "Florida                         83.0                                 520   \n",
      "Idaho                           93.0                                 513   \n",
      "Maine                           95.0                                 513   \n",
      "New Hampshire                   96.0                                 532   \n",
      "Michigan                       100.0                                 509   \n",
      "District of Columbia           100.0                                 482   \n",
      "Delaware                       100.0                                 503   \n",
      "Connecticut                    100.0                                 530   \n",
      "\n",
      "                      Math  Total  \n",
      "State                              \n",
      "North Dakota           621   1256  \n",
      "Mississippi            607   1242  \n",
      "Iowa                   635   1275  \n",
      "Missouri               631   1271  \n",
      "Utah                   614   1238  \n",
      "South Dakota           603   1216  \n",
      "Nebraska               625   1253  \n",
      "Wisconsin              649   1291  \n",
      "Minnesota              651   1295  \n",
      "Wyoming                604   1230  \n",
      "Arkansas               594   1208  \n",
      "Kansas                 628   1260  \n",
      "Kentucky               616   1247  \n",
      "Louisiana              586   1198  \n",
      "Alabama                572   1165  \n",
      "Tennessee              604   1228  \n",
      "Oklahoma               517   1047  \n",
      "Illinois               556   1115  \n",
      "Montana                591   1196  \n",
      "Colorado               595   1201  \n",
      "New Mexico             561   1138  \n",
      "Ohio                   570   1149  \n",
      "West Virginia          528   1086  \n",
      "Nevada                 553   1116  \n",
      "Arizona                553   1116  \n",
      "Alaska                 533   1080  \n",
      "Oregon                 548   1108  \n",
      "North Carolina         535   1081  \n",
      "South Carolina         521   1064  \n",
      "California             524   1055  \n",
      "Hawaii                 541   1085  \n",
      "Vermont                551   1114  \n",
      "Georgia                515   1050  \n",
      "Texas                  507   1020  \n",
      "Indiana                532   1074  \n",
      "Washington             534   1075  \n",
      "Virginia               541   1102  \n",
      "Pennsylvania           531   1071  \n",
      "New York               523   1052  \n",
      "Maryland                52   1060  \n",
      "New Jersey             526   1056  \n",
      "Rhode Island           524   1062  \n",
      "Massachusetts          551   1107  \n",
      "Florida                497   1017  \n",
      "Idaho                  493   1005  \n",
      "Maine                  499   1012  \n",
      "New Hampshire          520   1052  \n",
      "Michigan               495   1005  \n",
      "District of Columbia   468    950  \n",
      "Delaware               492    996  \n",
      "Connecticut            512   1041   States has set as index.\n"
     ]
    }
   ],
   "source": [
    "#code\n",
    "# Set states as index since states are unique values. This way,\n",
    "# it is easier to retrieve rows by using state as search criteria.\n",
    "def set_states_as_index(df):\n",
    "    try:\n",
    "        df.set_index('State', inplace = True)\n",
    "        print(f'{df} States has set as index.')\n",
    "    except:\n",
    "        print(f'States of {df} is already an index.')\n",
    "\n",
    "# Uncomment the below 2 statements to set states as index.        \n",
    "set_states_as_index(act2017)\n",
    "set_states_as_index(sat2017)\n"
   ]
  },
  {
   "cell_type": "code",
   "execution_count": 23,
   "metadata": {},
   "outputs": [
    {
     "name": "stdout",
     "output_type": "stream",
     "text": [
      "No action required.\n"
     ]
    }
   ],
   "source": [
    "#code\n",
    "# Remove x from last row of 'Composite' column in act2017 and \n",
    "# convert the entire column to float.\n",
    "if act2017.loc['Wyoming']['Composite'] == 20.2:\n",
    "    print('No action required.')\n",
    "else:\n",
    "    act2017['Composite'] = act2017['Composite'].apply(lambda _: float(_.replace('x','')))"
   ]
  },
  {
   "cell_type": "markdown",
   "metadata": {},
   "source": [
    "- Display the data types again to confirm they are correct."
   ]
  },
  {
   "cell_type": "code",
   "execution_count": 24,
   "metadata": {},
   "outputs": [
    {
     "name": "stdout",
     "output_type": "stream",
     "text": [
      "<class 'pandas.core.frame.DataFrame'>\n",
      "Index: 51 entries, North Dakota to Connecticut\n",
      "Data columns (total 4 columns):\n",
      "Participation%                        51 non-null float64\n",
      "Evidence-Based Reading and Writing    51 non-null int64\n",
      "Math                                  51 non-null int64\n",
      "Total                                 51 non-null int64\n",
      "dtypes: float64(1), int64(3)\n",
      "memory usage: 2.0+ KB\n",
      "None\n",
      "\n",
      "\n",
      "<class 'pandas.core.frame.DataFrame'>\n",
      "Index: 51 entries, Maine to Wyoming\n",
      "Data columns (total 6 columns):\n",
      "Participation%    51 non-null float64\n",
      "English           51 non-null float64\n",
      "Math              51 non-null float64\n",
      "Reading           51 non-null float64\n",
      "Science           51 non-null float64\n",
      "Composite         51 non-null float64\n",
      "dtypes: float64(6)\n",
      "memory usage: 5.3+ KB\n",
      "None\n"
     ]
    }
   ],
   "source": [
    "#Code:\n",
    "# Print out the dataframe structure for both dataframes.\n",
    "print(sat2017.info()); print('\\n')\n",
    "print(act2017.info())"
   ]
  },
  {
   "cell_type": "markdown",
   "metadata": {},
   "source": [
    "#### 7. Rename Columns\n",
    "Change the names of the columns to more expressive names so that you can tell the difference the SAT columns and the ACT columns. Your solution should map all column names being changed at once (no repeated singular name-changes). **We will be combining these data with some of the data from 2018, and so you should name columns in an appropriate way**.\n",
    "\n",
    "**Guidelines**:\n",
    "- Column names should be all lowercase (you will thank yourself when you start pushing data to SQL later in the course)\n",
    "- Column names should not contain spaces (underscores will suffice--this allows for using the `df.column_name` method to access columns in addition to `df['column_name']`.\n",
    "- Column names should be unique and informative (the only feature that we actually share between dataframes is the state)."
   ]
  },
  {
   "cell_type": "code",
   "execution_count": 25,
   "metadata": {},
   "outputs": [
    {
     "name": "stdout",
     "output_type": "stream",
     "text": [
      "Index(['Participation%', 'Evidence-Based Reading and Writing', 'Math',\n",
      "       'Total'],\n",
      "      dtype='object')\n"
     ]
    },
    {
     "data": {
      "text/plain": [
       "array(['2017_ACT_Parti%', '2017_ACT_English', '2017_ACT_Math',\n",
       "       '2017_ACT_Reading', '2017_ACT_Science', '2017_ACT_Composite'],\n",
       "      dtype=object)"
      ]
     },
     "execution_count": 25,
     "metadata": {},
     "output_type": "execute_result"
    }
   ],
   "source": [
    "#code\n",
    "# First get the existing list of column headers with the below code.\n",
    "sat2017.columns.values\n",
    "# A list of column headers will be generated. Simply copy the list.\n",
    "\n",
    "# Here are the column headers from sat2017 in a list from the above code.\n",
    "# ['Participation%', 'Evidence-Based Reading and Writing', 'Math', 'Total']\n",
    "# Modify the list with new column headers.\n",
    "newcolheaders = ['2017_SAT_Parti%', '2017_SAT_EBRW', '2017_SAT_Math', '2017_SAT_Total']\n",
    "# Now rename all the columns at one-go.\n",
    "print(sat2017.columns)\n",
    "sat2017.columns = newcolheaders\n",
    "sat2017.columns.values\n",
    "\n",
    "# Repeat for dataframe  act2017\n",
    "act2017.columns.values\n",
    "# Exsiting column headers\n",
    "# ['Participation%', 'English', 'Math', 'Reading', 'Science', 'Composite']\n",
    "newcolheaders = ['2017_ACT_Parti%', '2017_ACT_English', '2017_ACT_Math', \n",
    "                 '2017_ACT_Reading', '2017_ACT_Science', '2017_ACT_Composite']\n",
    "act2017.columns = newcolheaders\n",
    "act2017.columns.values\n"
   ]
  },
  {
   "cell_type": "code",
   "execution_count": 26,
   "metadata": {},
   "outputs": [
    {
     "data": {
      "text/html": [
       "<div>\n",
       "<style scoped>\n",
       "    .dataframe tbody tr th:only-of-type {\n",
       "        vertical-align: middle;\n",
       "    }\n",
       "\n",
       "    .dataframe tbody tr th {\n",
       "        vertical-align: top;\n",
       "    }\n",
       "\n",
       "    .dataframe thead th {\n",
       "        text-align: right;\n",
       "    }\n",
       "</style>\n",
       "<table border=\"1\" class=\"dataframe\">\n",
       "  <thead>\n",
       "    <tr style=\"text-align: right;\">\n",
       "      <th></th>\n",
       "      <th>2017_ACT_Parti%</th>\n",
       "      <th>2017_ACT_English</th>\n",
       "      <th>2017_ACT_Math</th>\n",
       "      <th>2017_ACT_Reading</th>\n",
       "      <th>2017_ACT_Science</th>\n",
       "      <th>2017_ACT_Composite</th>\n",
       "    </tr>\n",
       "    <tr>\n",
       "      <th>State</th>\n",
       "      <th></th>\n",
       "      <th></th>\n",
       "      <th></th>\n",
       "      <th></th>\n",
       "      <th></th>\n",
       "      <th></th>\n",
       "    </tr>\n",
       "  </thead>\n",
       "  <tbody>\n",
       "    <tr>\n",
       "      <td>Maine</td>\n",
       "      <td>8.0</td>\n",
       "      <td>24.2</td>\n",
       "      <td>24.0</td>\n",
       "      <td>24.8</td>\n",
       "      <td>23.7</td>\n",
       "      <td>24.3</td>\n",
       "    </tr>\n",
       "    <tr>\n",
       "      <td>New Hampshire</td>\n",
       "      <td>18.0</td>\n",
       "      <td>25.4</td>\n",
       "      <td>25.1</td>\n",
       "      <td>26.0</td>\n",
       "      <td>24.9</td>\n",
       "      <td>25.5</td>\n",
       "    </tr>\n",
       "    <tr>\n",
       "      <td>Delaware</td>\n",
       "      <td>18.0</td>\n",
       "      <td>24.1</td>\n",
       "      <td>23.4</td>\n",
       "      <td>24.8</td>\n",
       "      <td>23.6</td>\n",
       "      <td>24.1</td>\n",
       "    </tr>\n",
       "  </tbody>\n",
       "</table>\n",
       "</div>"
      ],
      "text/plain": [
       "               2017_ACT_Parti%  2017_ACT_English  2017_ACT_Math  \\\n",
       "State                                                             \n",
       "Maine                      8.0              24.2           24.0   \n",
       "New Hampshire             18.0              25.4           25.1   \n",
       "Delaware                  18.0              24.1           23.4   \n",
       "\n",
       "               2017_ACT_Reading  2017_ACT_Science  2017_ACT_Composite  \n",
       "State                                                                  \n",
       "Maine                      24.8              23.7                24.3  \n",
       "New Hampshire              26.0              24.9                25.5  \n",
       "Delaware                   24.8              23.6                24.1  "
      ]
     },
     "execution_count": 26,
     "metadata": {},
     "output_type": "execute_result"
    }
   ],
   "source": [
    "act2017.head(3)"
   ]
  },
  {
   "cell_type": "markdown",
   "metadata": {},
   "source": [
    "#### 8. Create a data dictionary\n",
    "\n",
    "Now that we've fixed our data, and given it appropriate names, let's create a [data dictionary](http://library.ucmerced.edu/node/10249). \n",
    "\n",
    "A data dictionary provides a quick overview of features/variables/columns, alongside data types and descriptions. The more descriptive you can be, the more useful this document is.\n",
    "\n",
    "Example of a Fictional Data Dictionary Entry: \n",
    "\n",
    "|Feature|Type|Dataset|Description|\n",
    "|---|---|---|---|\n",
    "|**county_pop**|*integer*|2010 census|The population of the county (units in thousands, where 2.5 represents 2500 people).| \n",
    "|**per_poverty**|*float*|2010 census|The percent of the county over the age of 18 living below the 200% of official US poverty rate (units percent to two decimal places 98.10 means 98.1%)|\n",
    "\n",
    "[Here's a quick link to a short guide for formatting markdown in Jupyter notebooks](https://jupyter-notebook.readthedocs.io/en/stable/examples/Notebook/Working%20With%20Markdown%20Cells.html).\n",
    "\n",
    "Provided is the skeleton for formatting a markdown table, with columns headers that will help you create a data dictionary to quickly summarize your data, as well as some examples. **This would be a great thing to copy and paste into your custom README for this project.**"
   ]
  },
  {
   "cell_type": "markdown",
   "metadata": {},
   "source": [
    "|Feature|Type|Dataset|Description|\n",
    "|---|---|---|---|\n",
    "|State|object|ACT/SAT|States of America|\n",
    "|Participation|float|ACT/SAT|Students' participation rate in % that has taken the ACT/SAT exam\n",
    "|EBRW**|float|SAT|Combination of reading and writing score\n",
    "|Math|float|ACT/SAT|Math score\n",
    "|English|float|ACT|English score\n",
    "|Reading|float|ACT|Reading score\n",
    "|Science|float|ACT|Science score\n",
    "|Total|float|SAT|Total SAT score for EBRW and Math\n",
    "|Composite|float|ACT|Total ACT score for the ACT 4 subjects\n",
    "\n",
    "** EBRW: Evidence-Based Reading and Writing\n",
    "\n",
    "\n"
   ]
  },
  {
   "cell_type": "markdown",
   "metadata": {},
   "source": [
    "#### 9. Drop unnecessary rows\n",
    "\n",
    "One of our dataframes contains an extra row. Identify and remove this from the dataframe."
   ]
  },
  {
   "cell_type": "code",
   "execution_count": 27,
   "metadata": {},
   "outputs": [
    {
     "name": "stdout",
     "output_type": "stream",
     "text": [
      "Target dataframe does not contain National\n"
     ]
    }
   ],
   "source": [
    "# Remove row with 'State' == National from act2017 so as to be consistent with\n",
    "# sat2017 which does not have overall 'National' score result.\n",
    "def remove_state_from_df(df, state):\n",
    "    try:\n",
    "        df.drop(index = df[df['State'] == state].index, inplace=True)\n",
    "    except:\n",
    "        print(f'Target dataframe does not contain {state}')\n",
    "\n",
    "remove_state_from_df('act2017', state='National')"
   ]
  },
  {
   "cell_type": "markdown",
   "metadata": {},
   "source": [
    "#### 10. Merge Dataframes\n",
    "\n",
    "Join the 2017 ACT and SAT dataframes using the state in each dataframe as the key. Assign this to a new variable."
   ]
  },
  {
   "cell_type": "code",
   "execution_count": 28,
   "metadata": {},
   "outputs": [
    {
     "name": "stdout",
     "output_type": "stream",
     "text": [
      "       2017_ACT_Parti%  2017_ACT_English  2017_ACT_Math  2017_ACT_Reading  \\\n",
      "State                                                                       \n",
      "Maine              8.0              24.2           24.0              24.8   \n",
      "\n",
      "       2017_ACT_Science  2017_ACT_Composite  \n",
      "State                                        \n",
      "Maine              23.7                24.3  \n"
     ]
    }
   ],
   "source": [
    "# Merge act2017 and sat2017 dataframes\n",
    "print(act2017.head(1))\n",
    "act_sat2017 = pd.merge(act2017, sat2017, how = 'left', on = 'State')"
   ]
  },
  {
   "cell_type": "code",
   "execution_count": 29,
   "metadata": {},
   "outputs": [
    {
     "data": {
      "text/html": [
       "<div>\n",
       "<style scoped>\n",
       "    .dataframe tbody tr th:only-of-type {\n",
       "        vertical-align: middle;\n",
       "    }\n",
       "\n",
       "    .dataframe tbody tr th {\n",
       "        vertical-align: top;\n",
       "    }\n",
       "\n",
       "    .dataframe thead th {\n",
       "        text-align: right;\n",
       "    }\n",
       "</style>\n",
       "<table border=\"1\" class=\"dataframe\">\n",
       "  <thead>\n",
       "    <tr style=\"text-align: right;\">\n",
       "      <th></th>\n",
       "      <th>2017_ACT_Parti%</th>\n",
       "      <th>2017_ACT_English</th>\n",
       "      <th>2017_ACT_Math</th>\n",
       "      <th>2017_ACT_Reading</th>\n",
       "      <th>2017_ACT_Science</th>\n",
       "      <th>2017_ACT_Composite</th>\n",
       "      <th>2017_SAT_Parti%</th>\n",
       "      <th>2017_SAT_EBRW</th>\n",
       "      <th>2017_SAT_Math</th>\n",
       "      <th>2017_SAT_Total</th>\n",
       "    </tr>\n",
       "    <tr>\n",
       "      <th>State</th>\n",
       "      <th></th>\n",
       "      <th></th>\n",
       "      <th></th>\n",
       "      <th></th>\n",
       "      <th></th>\n",
       "      <th></th>\n",
       "      <th></th>\n",
       "      <th></th>\n",
       "      <th></th>\n",
       "      <th></th>\n",
       "    </tr>\n",
       "  </thead>\n",
       "  <tbody>\n",
       "    <tr>\n",
       "      <td>Maine</td>\n",
       "      <td>8.0</td>\n",
       "      <td>24.2</td>\n",
       "      <td>24.0</td>\n",
       "      <td>24.8</td>\n",
       "      <td>23.7</td>\n",
       "      <td>24.3</td>\n",
       "      <td>95.0</td>\n",
       "      <td>513</td>\n",
       "      <td>499</td>\n",
       "      <td>1012</td>\n",
       "    </tr>\n",
       "    <tr>\n",
       "      <td>New Hampshire</td>\n",
       "      <td>18.0</td>\n",
       "      <td>25.4</td>\n",
       "      <td>25.1</td>\n",
       "      <td>26.0</td>\n",
       "      <td>24.9</td>\n",
       "      <td>25.5</td>\n",
       "      <td>96.0</td>\n",
       "      <td>532</td>\n",
       "      <td>520</td>\n",
       "      <td>1052</td>\n",
       "    </tr>\n",
       "    <tr>\n",
       "      <td>Delaware</td>\n",
       "      <td>18.0</td>\n",
       "      <td>24.1</td>\n",
       "      <td>23.4</td>\n",
       "      <td>24.8</td>\n",
       "      <td>23.6</td>\n",
       "      <td>24.1</td>\n",
       "      <td>100.0</td>\n",
       "      <td>503</td>\n",
       "      <td>492</td>\n",
       "      <td>996</td>\n",
       "    </tr>\n",
       "    <tr>\n",
       "      <td>Rhode Island</td>\n",
       "      <td>21.0</td>\n",
       "      <td>24.0</td>\n",
       "      <td>23.3</td>\n",
       "      <td>24.7</td>\n",
       "      <td>23.4</td>\n",
       "      <td>24.0</td>\n",
       "      <td>71.0</td>\n",
       "      <td>539</td>\n",
       "      <td>524</td>\n",
       "      <td>1062</td>\n",
       "    </tr>\n",
       "    <tr>\n",
       "      <td>Pennsylvania</td>\n",
       "      <td>23.0</td>\n",
       "      <td>23.4</td>\n",
       "      <td>23.4</td>\n",
       "      <td>24.2</td>\n",
       "      <td>23.3</td>\n",
       "      <td>23.7</td>\n",
       "      <td>65.0</td>\n",
       "      <td>540</td>\n",
       "      <td>531</td>\n",
       "      <td>1071</td>\n",
       "    </tr>\n",
       "  </tbody>\n",
       "</table>\n",
       "</div>"
      ],
      "text/plain": [
       "               2017_ACT_Parti%  2017_ACT_English  2017_ACT_Math  \\\n",
       "State                                                             \n",
       "Maine                      8.0              24.2           24.0   \n",
       "New Hampshire             18.0              25.4           25.1   \n",
       "Delaware                  18.0              24.1           23.4   \n",
       "Rhode Island              21.0              24.0           23.3   \n",
       "Pennsylvania              23.0              23.4           23.4   \n",
       "\n",
       "               2017_ACT_Reading  2017_ACT_Science  2017_ACT_Composite  \\\n",
       "State                                                                   \n",
       "Maine                      24.8              23.7                24.3   \n",
       "New Hampshire              26.0              24.9                25.5   \n",
       "Delaware                   24.8              23.6                24.1   \n",
       "Rhode Island               24.7              23.4                24.0   \n",
       "Pennsylvania               24.2              23.3                23.7   \n",
       "\n",
       "               2017_SAT_Parti%  2017_SAT_EBRW  2017_SAT_Math  2017_SAT_Total  \n",
       "State                                                                         \n",
       "Maine                     95.0            513            499            1012  \n",
       "New Hampshire             96.0            532            520            1052  \n",
       "Delaware                 100.0            503            492             996  \n",
       "Rhode Island              71.0            539            524            1062  \n",
       "Pennsylvania              65.0            540            531            1071  "
      ]
     },
     "execution_count": 29,
     "metadata": {},
     "output_type": "execute_result"
    }
   ],
   "source": [
    "act_sat2017.head(5)"
   ]
  },
  {
   "cell_type": "markdown",
   "metadata": {},
   "source": [
    "#### 11. Save your cleaned, merged dataframe\n",
    "\n",
    "Use a relative path to save out your data as `combined_2017.csv`."
   ]
  },
  {
   "cell_type": "code",
   "execution_count": 30,
   "metadata": {},
   "outputs": [],
   "source": [
    "# Saving combined results of act2017 and sat2017 in csv format.\n",
    "act_sat2017.to_csv('D:\\\\1GA_DSI_Local\\\\classes\\\\project_1\\\\data\\\\output\\\\act_sat_combined_2017.csv')"
   ]
  },
  {
   "cell_type": "markdown",
   "metadata": {},
   "source": [
    "## 2018 Data Import and Cleaning"
   ]
  },
  {
   "cell_type": "markdown",
   "metadata": {},
   "source": [
    "Links to the 2018 ACT and SAT data are provided in the README. These data live in PDFs, and so you'll get to enjoy practicing some *manual* data collection. Save these data as a CSV in your `data` directory, and import, explore, and clean these data in the same way you did above. **Make sure you comment on your steps so it is clear *why* you are doing each process**."
   ]
  },
  {
   "cell_type": "code",
   "execution_count": 31,
   "metadata": {},
   "outputs": [],
   "source": [
    "# I picked act_2018.csv instead of act_2018_updated.csv because I want to practice\n",
    "# data cleaning as act_2018 has duplicated state (Maine) and type error of District of 'c'olumbia \n",
    "act2018 = pd.read_csv('D:\\\\1GA_DSI_Local\\\\classes\\\\project_1\\\\data\\\\act_2018.csv')\n",
    "sat2018 = pd.read_csv('D:\\\\1GA_DSI_Local\\\\classes\\\\project_1\\\\data\\\\sat_2018.csv')"
   ]
  },
  {
   "cell_type": "code",
   "execution_count": 32,
   "metadata": {},
   "outputs": [
    {
     "data": {
      "text/plain": [
       "Index(['State', 'Participation', 'Composite'], dtype='object')"
      ]
     },
     "execution_count": 32,
     "metadata": {},
     "output_type": "execute_result"
    }
   ],
   "source": [
    "# See how many columns and name of column headers\n",
    "act2018.columns"
   ]
  },
  {
   "cell_type": "code",
   "execution_count": 33,
   "metadata": {},
   "outputs": [
    {
     "name": "stdout",
     "output_type": "stream",
     "text": [
      "2017_ACT_Parti%       51\n",
      "2017_ACT_English      51\n",
      "2017_ACT_Math         51\n",
      "2017_ACT_Reading      51\n",
      "2017_ACT_Science      51\n",
      "2017_ACT_Composite    51\n",
      "dtype: int64\n",
      "State            52\n",
      "Participation    52\n",
      "Composite        52\n",
      "dtype: int64\n"
     ]
    },
    {
     "data": {
      "text/plain": [
       "Maine            2\n",
       "New Hampshire    1\n",
       "New Mexico       1\n",
       "Name: State, dtype: int64"
      ]
     },
     "execution_count": 33,
     "metadata": {},
     "output_type": "execute_result"
    }
   ],
   "source": [
    "print(act2017.count())\n",
    "print(act2018.count())\n",
    "act2018['State'].value_counts().head(3)\n",
    "# There is a duplicate row in act2018; State is Maine"
   ]
  },
  {
   "cell_type": "code",
   "execution_count": 34,
   "metadata": {},
   "outputs": [
    {
     "name": "stdout",
     "output_type": "stream",
     "text": [
      "    State Participation  Composite\n",
      "19  Maine            7%       24.0\n",
      "20  Maine            7%       24.0\n",
      "    State Participation  Composite\n",
      "20  Maine            7%       24.0\n"
     ]
    }
   ],
   "source": [
    "# Remove duplicated Maine state.\n",
    "filt = act2018['State'] == 'Maine'\n",
    "print(act2018.loc[filt])\n",
    "act2018.drop(index = 19, inplace = True)\n",
    "print(act2018.loc[filt])"
   ]
  },
  {
   "cell_type": "code",
   "execution_count": 35,
   "metadata": {},
   "outputs": [
    {
     "data": {
      "text/html": [
       "<div>\n",
       "<style scoped>\n",
       "    .dataframe tbody tr th:only-of-type {\n",
       "        vertical-align: middle;\n",
       "    }\n",
       "\n",
       "    .dataframe tbody tr th {\n",
       "        vertical-align: top;\n",
       "    }\n",
       "\n",
       "    .dataframe thead th {\n",
       "        text-align: right;\n",
       "    }\n",
       "</style>\n",
       "<table border=\"1\" class=\"dataframe\">\n",
       "  <thead>\n",
       "    <tr style=\"text-align: right;\">\n",
       "      <th></th>\n",
       "      <th>State</th>\n",
       "      <th>Participation</th>\n",
       "      <th>Composite</th>\n",
       "    </tr>\n",
       "  </thead>\n",
       "  <tbody>\n",
       "    <tr>\n",
       "      <td>0</td>\n",
       "      <td>Alabama</td>\n",
       "      <td>100%</td>\n",
       "      <td>19.1</td>\n",
       "    </tr>\n",
       "    <tr>\n",
       "      <td>1</td>\n",
       "      <td>Alaska</td>\n",
       "      <td>33%</td>\n",
       "      <td>20.8</td>\n",
       "    </tr>\n",
       "    <tr>\n",
       "      <td>2</td>\n",
       "      <td>Arizona</td>\n",
       "      <td>66%</td>\n",
       "      <td>19.2</td>\n",
       "    </tr>\n",
       "    <tr>\n",
       "      <td>3</td>\n",
       "      <td>Arkansas</td>\n",
       "      <td>100%</td>\n",
       "      <td>19.4</td>\n",
       "    </tr>\n",
       "    <tr>\n",
       "      <td>4</td>\n",
       "      <td>California</td>\n",
       "      <td>27%</td>\n",
       "      <td>22.7</td>\n",
       "    </tr>\n",
       "    <tr>\n",
       "      <td>5</td>\n",
       "      <td>Colorado</td>\n",
       "      <td>30%</td>\n",
       "      <td>23.9</td>\n",
       "    </tr>\n",
       "    <tr>\n",
       "      <td>6</td>\n",
       "      <td>Connecticut</td>\n",
       "      <td>26%</td>\n",
       "      <td>25.6</td>\n",
       "    </tr>\n",
       "    <tr>\n",
       "      <td>7</td>\n",
       "      <td>Delaware</td>\n",
       "      <td>17%</td>\n",
       "      <td>23.8</td>\n",
       "    </tr>\n",
       "    <tr>\n",
       "      <td>8</td>\n",
       "      <td>District of columbia</td>\n",
       "      <td>32%</td>\n",
       "      <td>23.6</td>\n",
       "    </tr>\n",
       "  </tbody>\n",
       "</table>\n",
       "</div>"
      ],
      "text/plain": [
       "                  State Participation  Composite\n",
       "0               Alabama          100%       19.1\n",
       "1                Alaska           33%       20.8\n",
       "2               Arizona           66%       19.2\n",
       "3              Arkansas          100%       19.4\n",
       "4            California           27%       22.7\n",
       "5              Colorado           30%       23.9\n",
       "6           Connecticut           26%       25.6\n",
       "7              Delaware           17%       23.8\n",
       "8  District of columbia           32%       23.6"
      ]
     },
     "execution_count": 35,
     "metadata": {},
     "output_type": "execute_result"
    }
   ],
   "source": [
    "# Spotted the type error of District of 'c'olumbia\n",
    "act2018.head(9)"
   ]
  },
  {
   "cell_type": "code",
   "execution_count": 36,
   "metadata": {},
   "outputs": [
    {
     "data": {
      "text/plain": [
       "'District of Columbia'"
      ]
     },
     "execution_count": 36,
     "metadata": {},
     "output_type": "execute_result"
    }
   ],
   "source": [
    "# Clean up state 'District of Columbia' by changing the 'c' to upper case.\n",
    "act2018.iloc[8,0] = 'District of Columbia'\n",
    "act2018.iloc[8,0]"
   ]
  },
  {
   "cell_type": "code",
   "execution_count": 37,
   "metadata": {},
   "outputs": [],
   "source": [
    "# Remove % from 'Participation' column and tag a '%' symbol\n",
    "# to the 'Participation' column header for both dataframes.\n",
    "remove_pct_symbol(act2018)\n",
    "addpct_to_col_header(act2018, 'Participation')"
   ]
  },
  {
   "cell_type": "code",
   "execution_count": 38,
   "metadata": {},
   "outputs": [
    {
     "data": {
      "text/html": [
       "<div>\n",
       "<style scoped>\n",
       "    .dataframe tbody tr th:only-of-type {\n",
       "        vertical-align: middle;\n",
       "    }\n",
       "\n",
       "    .dataframe tbody tr th {\n",
       "        vertical-align: top;\n",
       "    }\n",
       "\n",
       "    .dataframe thead th {\n",
       "        text-align: right;\n",
       "    }\n",
       "</style>\n",
       "<table border=\"1\" class=\"dataframe\">\n",
       "  <thead>\n",
       "    <tr style=\"text-align: right;\">\n",
       "      <th></th>\n",
       "      <th>State</th>\n",
       "      <th>Participation%</th>\n",
       "      <th>Composite</th>\n",
       "    </tr>\n",
       "  </thead>\n",
       "  <tbody>\n",
       "    <tr>\n",
       "      <td>0</td>\n",
       "      <td>Alabama</td>\n",
       "      <td>100.0</td>\n",
       "      <td>19.1</td>\n",
       "    </tr>\n",
       "    <tr>\n",
       "      <td>1</td>\n",
       "      <td>Alaska</td>\n",
       "      <td>33.0</td>\n",
       "      <td>20.8</td>\n",
       "    </tr>\n",
       "    <tr>\n",
       "      <td>2</td>\n",
       "      <td>Arizona</td>\n",
       "      <td>66.0</td>\n",
       "      <td>19.2</td>\n",
       "    </tr>\n",
       "  </tbody>\n",
       "</table>\n",
       "</div>"
      ],
      "text/plain": [
       "     State  Participation%  Composite\n",
       "0  Alabama           100.0       19.1\n",
       "1   Alaska            33.0       20.8\n",
       "2  Arizona            66.0       19.2"
      ]
     },
     "execution_count": 38,
     "metadata": {},
     "output_type": "execute_result"
    }
   ],
   "source": [
    "# Check results\n",
    "act2018.head(3)"
   ]
  },
  {
   "cell_type": "code",
   "execution_count": 39,
   "metadata": {},
   "outputs": [
    {
     "name": "stdout",
     "output_type": "stream",
     "text": [
      "                      Participation%  Composite\n",
      "State                                          \n",
      "Alabama                        100.0       19.1\n",
      "Alaska                          33.0       20.8\n",
      "Arizona                         66.0       19.2\n",
      "Arkansas                       100.0       19.4\n",
      "California                      27.0       22.7\n",
      "Colorado                        30.0       23.9\n",
      "Connecticut                     26.0       25.6\n",
      "Delaware                        17.0       23.8\n",
      "District of Columbia            32.0       23.6\n",
      "Florida                         66.0       19.9\n",
      "Georgia                         53.0       21.4\n",
      "Hawaii                          89.0       18.9\n",
      "Idaho                           36.0       22.3\n",
      "Illinois                        43.0       23.9\n",
      "Indiana                         32.0       22.5\n",
      "Iowa                            68.0       21.8\n",
      "Kansas                          71.0       21.6\n",
      "Kentucky                       100.0       20.2\n",
      "Louisiana                      100.0       19.2\n",
      "Maine                            7.0       24.0\n",
      "Maryland                        31.0       22.5\n",
      "Massachusetts                   25.0       25.5\n",
      "Michigan                        22.0       24.2\n",
      "Minnesota                       99.0       21.3\n",
      "Mississippi                    100.0       18.6\n",
      "Missouri                       100.0       20.0\n",
      "Montana                        100.0       20.0\n",
      "Nebraska                       100.0       20.1\n",
      "Nevada                         100.0       17.7\n",
      "New Hampshire                   16.0       25.1\n",
      "New Jersey                      31.0       23.7\n",
      "New Mexico                      67.0       19.4\n",
      "New York                        27.0       24.5\n",
      "North Carolina                 100.0       19.1\n",
      "North Dakota                    98.0       20.3\n",
      "Ohio                           100.0       20.3\n",
      "Oklahoma                       100.0       19.3\n",
      "Oregon                          42.0       21.3\n",
      "Pennsylvania                    20.0       23.5\n",
      "Rhode Island                    15.0       24.2\n",
      "South Carolina                 100.0       18.3\n",
      "South Dakota                    77.0       21.9\n",
      "Tennessee                      100.0       19.6\n",
      "Texas                           45.0       20.7\n",
      "Utah                           100.0       20.4\n",
      "Vermont                         24.0       24.1\n",
      "Virginia                        24.0       23.9\n",
      "Washington                      24.0       22.2\n",
      "West Virginia                   65.0       20.3\n",
      "Wisconsin                      100.0       20.5\n",
      "Wyoming                        100.0       20.0 States has set as index.\n"
     ]
    }
   ],
   "source": [
    "# Set states as index since states are unique values. This way,\n",
    "# it is easier to retrieve rows by using state as search criteria.\n",
    "set_states_as_index(act2018)"
   ]
  },
  {
   "cell_type": "code",
   "execution_count": 40,
   "metadata": {},
   "outputs": [
    {
     "data": {
      "text/plain": [
       "array(['2018_ACT_Parti%', '2018_ACT_Composite'], dtype=object)"
      ]
     },
     "execution_count": 40,
     "metadata": {},
     "output_type": "execute_result"
    }
   ],
   "source": [
    "# Rename column headers for dataframe act2018 to be consistent with act2017 \n",
    "act2018.columns.values\n",
    "# Exsiting column headers\n",
    "# ['Participation%', 'Composite']\n",
    "newcolheaders = ['2018_ACT_Parti%', '2018_ACT_Composite']\n",
    "act2018.columns = newcolheaders\n",
    "act2018.columns.values"
   ]
  },
  {
   "cell_type": "code",
   "execution_count": 41,
   "metadata": {},
   "outputs": [
    {
     "data": {
      "text/html": [
       "<div>\n",
       "<style scoped>\n",
       "    .dataframe tbody tr th:only-of-type {\n",
       "        vertical-align: middle;\n",
       "    }\n",
       "\n",
       "    .dataframe tbody tr th {\n",
       "        vertical-align: top;\n",
       "    }\n",
       "\n",
       "    .dataframe thead th {\n",
       "        text-align: right;\n",
       "    }\n",
       "</style>\n",
       "<table border=\"1\" class=\"dataframe\">\n",
       "  <thead>\n",
       "    <tr style=\"text-align: right;\">\n",
       "      <th></th>\n",
       "      <th>2018_ACT_Parti%</th>\n",
       "      <th>2018_ACT_Composite</th>\n",
       "    </tr>\n",
       "    <tr>\n",
       "      <th>State</th>\n",
       "      <th></th>\n",
       "      <th></th>\n",
       "    </tr>\n",
       "  </thead>\n",
       "  <tbody>\n",
       "    <tr>\n",
       "      <td>Alabama</td>\n",
       "      <td>100.0</td>\n",
       "      <td>19.1</td>\n",
       "    </tr>\n",
       "  </tbody>\n",
       "</table>\n",
       "</div>"
      ],
      "text/plain": [
       "         2018_ACT_Parti%  2018_ACT_Composite\n",
       "State                                       \n",
       "Alabama            100.0                19.1"
      ]
     },
     "execution_count": 41,
     "metadata": {},
     "output_type": "execute_result"
    }
   ],
   "source": [
    "act2018.head(1)"
   ]
  },
  {
   "cell_type": "code",
   "execution_count": 42,
   "metadata": {},
   "outputs": [
    {
     "name": "stdout",
     "output_type": "stream",
     "text": [
      "<class 'pandas.core.frame.DataFrame'>\n",
      "RangeIndex: 51 entries, 0 to 50\n",
      "Data columns (total 5 columns):\n",
      "State                                 51 non-null object\n",
      "Participation                         51 non-null object\n",
      "Evidence-Based Reading and Writing    51 non-null int64\n",
      "Math                                  51 non-null int64\n",
      "Total                                 51 non-null int64\n",
      "dtypes: int64(3), object(2)\n",
      "memory usage: 2.1+ KB\n"
     ]
    }
   ],
   "source": [
    "# Take a look at the dtype\n",
    "sat2018.info()"
   ]
  },
  {
   "cell_type": "code",
   "execution_count": 43,
   "metadata": {},
   "outputs": [
    {
     "data": {
      "text/plain": [
       "State                                 51\n",
       "Participation                         51\n",
       "Evidence-Based Reading and Writing    51\n",
       "Math                                  51\n",
       "Total                                 51\n",
       "dtype: int64"
      ]
     },
     "execution_count": 43,
     "metadata": {},
     "output_type": "execute_result"
    }
   ],
   "source": [
    "# Check that there is no missing values\n",
    "sat2018.notnull().count()"
   ]
  },
  {
   "cell_type": "code",
   "execution_count": 44,
   "metadata": {},
   "outputs": [
    {
     "data": {
      "text/html": [
       "<div>\n",
       "<style scoped>\n",
       "    .dataframe tbody tr th:only-of-type {\n",
       "        vertical-align: middle;\n",
       "    }\n",
       "\n",
       "    .dataframe tbody tr th {\n",
       "        vertical-align: top;\n",
       "    }\n",
       "\n",
       "    .dataframe thead th {\n",
       "        text-align: right;\n",
       "    }\n",
       "</style>\n",
       "<table border=\"1\" class=\"dataframe\">\n",
       "  <thead>\n",
       "    <tr style=\"text-align: right;\">\n",
       "      <th></th>\n",
       "      <th>State</th>\n",
       "      <th>Participation</th>\n",
       "      <th>Evidence-Based Reading and Writing</th>\n",
       "      <th>Math</th>\n",
       "      <th>Total</th>\n",
       "    </tr>\n",
       "  </thead>\n",
       "  <tbody>\n",
       "    <tr>\n",
       "      <td>0</td>\n",
       "      <td>Alabama</td>\n",
       "      <td>6%</td>\n",
       "      <td>595</td>\n",
       "      <td>571</td>\n",
       "      <td>1166</td>\n",
       "    </tr>\n",
       "    <tr>\n",
       "      <td>1</td>\n",
       "      <td>Alaska</td>\n",
       "      <td>43%</td>\n",
       "      <td>562</td>\n",
       "      <td>544</td>\n",
       "      <td>1106</td>\n",
       "    </tr>\n",
       "    <tr>\n",
       "      <td>2</td>\n",
       "      <td>Arizona</td>\n",
       "      <td>29%</td>\n",
       "      <td>577</td>\n",
       "      <td>572</td>\n",
       "      <td>1149</td>\n",
       "    </tr>\n",
       "  </tbody>\n",
       "</table>\n",
       "</div>"
      ],
      "text/plain": [
       "     State Participation  Evidence-Based Reading and Writing  Math  Total\n",
       "0  Alabama            6%                                 595   571   1166\n",
       "1   Alaska           43%                                 562   544   1106\n",
       "2  Arizona           29%                                 577   572   1149"
      ]
     },
     "execution_count": 44,
     "metadata": {},
     "output_type": "execute_result"
    }
   ],
   "source": [
    "# A quick look at the df structure\n",
    "sat2018.head(3)"
   ]
  },
  {
   "cell_type": "code",
   "execution_count": 45,
   "metadata": {},
   "outputs": [
    {
     "name": "stdout",
     "output_type": "stream",
     "text": [
      "                     Participation  Evidence-Based Reading and Writing  Math  \\\n",
      "State                                                                          \n",
      "Alabama                         6%                                 595   571   \n",
      "Alaska                         43%                                 562   544   \n",
      "Arizona                        29%                                 577   572   \n",
      "Arkansas                        5%                                 592   576   \n",
      "California                     60%                                 540   536   \n",
      "Colorado                      100%                                 519   506   \n",
      "Connecticut                   100%                                 535   519   \n",
      "Delaware                      100%                                 505   492   \n",
      "District of Columbia           92%                                 497   480   \n",
      "Florida                        56%                                 550   549   \n",
      "Georgia                        70%                                 542   522   \n",
      "Hawaii                         56%                                 480   530   \n",
      "Idaho                         100%                                 508   493   \n",
      "Illinois                       99%                                 513   506   \n",
      "Indiana                        63%                                 542   532   \n",
      "Iowa                            3%                                 634   631   \n",
      "Kansas                          4%                                 633   631   \n",
      "Kentucky                        4%                                 630   618   \n",
      "Louisiana                       4%                                 615   595   \n",
      "Maine                          99%                                 512   501   \n",
      "Maryland                       76%                                 545   535   \n",
      "Massachusetts                  80%                                 562   563   \n",
      "Michigan                      100%                                 511   499   \n",
      "Minnesota                       4%                                 643   655   \n",
      "Mississippi                     3%                                 630   606   \n",
      "Missouri                        4%                                 633   629   \n",
      "Montana                        10%                                 606   592   \n",
      "Nebraska                        3%                                 629   623   \n",
      "Nevada                         23%                                 574   566   \n",
      "New Hampshire                  96%                                 535   528   \n",
      "New Jersey                     82%                                 547   547   \n",
      "New Mexico                     16%                                 552   540   \n",
      "New York                       79%                                 534   534   \n",
      "North Carolina                 52%                                 554   543   \n",
      "North Dakota                    2%                                 640   643   \n",
      "Oklahoma                        8%                                 541   521   \n",
      "Ohio                           18%                                 552   547   \n",
      "Oregon                         48%                                 564   553   \n",
      "Pennsylvania                   70%                                 547   539   \n",
      "Rhode Island                   97%                                 513   505   \n",
      "South Carolina                 55%                                 547   523   \n",
      "South Dakota                    3%                                 622   618   \n",
      "Tennessee                       6%                                 624   607   \n",
      "Texas                          66%                                 520   512   \n",
      "Utah                            4%                                 480   530   \n",
      "Vermont                        64%                                 565   554   \n",
      "Virginia                       68%                                 567   550   \n",
      "Washington                     69%                                 543   538   \n",
      "West Virginia                  28%                                 513   486   \n",
      "Wisconsin                       3%                                 641   653   \n",
      "Wyoming                         3%                                 633   625   \n",
      "\n",
      "                      Total  \n",
      "State                        \n",
      "Alabama                1166  \n",
      "Alaska                 1106  \n",
      "Arizona                1149  \n",
      "Arkansas               1169  \n",
      "California             1076  \n",
      "Colorado               1025  \n",
      "Connecticut            1053  \n",
      "Delaware                998  \n",
      "District of Columbia    977  \n",
      "Florida                1099  \n",
      "Georgia                1064  \n",
      "Hawaii                 1010  \n",
      "Idaho                  1001  \n",
      "Illinois               1019  \n",
      "Indiana                1074  \n",
      "Iowa                   1265  \n",
      "Kansas                 1265  \n",
      "Kentucky               1248  \n",
      "Louisiana              1210  \n",
      "Maine                  1013  \n",
      "Maryland               1080  \n",
      "Massachusetts          1125  \n",
      "Michigan               1011  \n",
      "Minnesota              1298  \n",
      "Mississippi            1236  \n",
      "Missouri               1262  \n",
      "Montana                1198  \n",
      "Nebraska               1252  \n",
      "Nevada                 1140  \n",
      "New Hampshire          1063  \n",
      "New Jersey             1094  \n",
      "New Mexico             1093  \n",
      "New York               1068  \n",
      "North Carolina         1098  \n",
      "North Dakota           1283  \n",
      "Oklahoma               1062  \n",
      "Ohio                   1099  \n",
      "Oregon                 1117  \n",
      "Pennsylvania           1086  \n",
      "Rhode Island           1018  \n",
      "South Carolina         1070  \n",
      "South Dakota           1240  \n",
      "Tennessee              1231  \n",
      "Texas                  1032  \n",
      "Utah                   1010  \n",
      "Vermont                1120  \n",
      "Virginia               1117  \n",
      "Washington             1081  \n",
      "West Virginia           999  \n",
      "Wisconsin              1294  \n",
      "Wyoming                1257   States has set as index.\n"
     ]
    }
   ],
   "source": [
    "# Set states as index since states are unique values. This way,\n",
    "# it is easier to retrieve rows by using state as search criteria.\n",
    "set_states_as_index(sat2018)"
   ]
  },
  {
   "cell_type": "code",
   "execution_count": 46,
   "metadata": {},
   "outputs": [],
   "source": [
    "# Remove % from Participation column and tag % to the column header\n",
    "remove_pct_symbol(sat2018)\n",
    "addpct_to_col_header(sat2018, 'Participation')"
   ]
  },
  {
   "cell_type": "code",
   "execution_count": 47,
   "metadata": {},
   "outputs": [
    {
     "data": {
      "text/html": [
       "<div>\n",
       "<style scoped>\n",
       "    .dataframe tbody tr th:only-of-type {\n",
       "        vertical-align: middle;\n",
       "    }\n",
       "\n",
       "    .dataframe tbody tr th {\n",
       "        vertical-align: top;\n",
       "    }\n",
       "\n",
       "    .dataframe thead th {\n",
       "        text-align: right;\n",
       "    }\n",
       "</style>\n",
       "<table border=\"1\" class=\"dataframe\">\n",
       "  <thead>\n",
       "    <tr style=\"text-align: right;\">\n",
       "      <th></th>\n",
       "      <th>Participation%</th>\n",
       "      <th>Evidence-Based Reading and Writing</th>\n",
       "      <th>Math</th>\n",
       "      <th>Total</th>\n",
       "    </tr>\n",
       "    <tr>\n",
       "      <th>State</th>\n",
       "      <th></th>\n",
       "      <th></th>\n",
       "      <th></th>\n",
       "      <th></th>\n",
       "    </tr>\n",
       "  </thead>\n",
       "  <tbody>\n",
       "    <tr>\n",
       "      <td>Alabama</td>\n",
       "      <td>6.0</td>\n",
       "      <td>595</td>\n",
       "      <td>571</td>\n",
       "      <td>1166</td>\n",
       "    </tr>\n",
       "    <tr>\n",
       "      <td>Alaska</td>\n",
       "      <td>43.0</td>\n",
       "      <td>562</td>\n",
       "      <td>544</td>\n",
       "      <td>1106</td>\n",
       "    </tr>\n",
       "    <tr>\n",
       "      <td>Arizona</td>\n",
       "      <td>29.0</td>\n",
       "      <td>577</td>\n",
       "      <td>572</td>\n",
       "      <td>1149</td>\n",
       "    </tr>\n",
       "  </tbody>\n",
       "</table>\n",
       "</div>"
      ],
      "text/plain": [
       "         Participation%  Evidence-Based Reading and Writing  Math  Total\n",
       "State                                                                   \n",
       "Alabama             6.0                                 595   571   1166\n",
       "Alaska             43.0                                 562   544   1106\n",
       "Arizona            29.0                                 577   572   1149"
      ]
     },
     "execution_count": 47,
     "metadata": {},
     "output_type": "execute_result"
    }
   ],
   "source": [
    "# Check results\n",
    "sat2018.head(3)"
   ]
  },
  {
   "cell_type": "code",
   "execution_count": 48,
   "metadata": {},
   "outputs": [
    {
     "data": {
      "text/plain": [
       "array(['2018_SAT_Parti%', '2018_SAT_EBRW', '2018_SAT_Math',\n",
       "       '2018_SAT_Total'], dtype=object)"
      ]
     },
     "execution_count": 48,
     "metadata": {},
     "output_type": "execute_result"
    }
   ],
   "source": [
    "# First get the existing list of column headers with the below code.\n",
    "sat2018.columns.values\n",
    "# A list of column headers will be generated. Simply copy the list.\n",
    "\n",
    "# Here are the column headers from sat2017 in a list from the above code.\n",
    "# ['Participation%', 'Evidence-Based Reading and Writing', 'Math', 'Total']\n",
    "# Modify the list with new column headers.\n",
    "newcolheaders = ['2018_SAT_Parti%', '2018_SAT_EBRW', '2018_SAT_Math', '2018_SAT_Total']\n",
    "# Now rename all the columns at one-go.\n",
    "sat2018.columns = newcolheaders\n",
    "sat2018.columns.values"
   ]
  },
  {
   "cell_type": "code",
   "execution_count": 49,
   "metadata": {},
   "outputs": [
    {
     "data": {
      "text/html": [
       "<div>\n",
       "<style scoped>\n",
       "    .dataframe tbody tr th:only-of-type {\n",
       "        vertical-align: middle;\n",
       "    }\n",
       "\n",
       "    .dataframe tbody tr th {\n",
       "        vertical-align: top;\n",
       "    }\n",
       "\n",
       "    .dataframe thead th {\n",
       "        text-align: right;\n",
       "    }\n",
       "</style>\n",
       "<table border=\"1\" class=\"dataframe\">\n",
       "  <thead>\n",
       "    <tr style=\"text-align: right;\">\n",
       "      <th></th>\n",
       "      <th>2018_SAT_Parti%</th>\n",
       "      <th>2018_SAT_EBRW</th>\n",
       "      <th>2018_SAT_Math</th>\n",
       "      <th>2018_SAT_Total</th>\n",
       "    </tr>\n",
       "    <tr>\n",
       "      <th>State</th>\n",
       "      <th></th>\n",
       "      <th></th>\n",
       "      <th></th>\n",
       "      <th></th>\n",
       "    </tr>\n",
       "  </thead>\n",
       "  <tbody>\n",
       "    <tr>\n",
       "      <td>Alabama</td>\n",
       "      <td>6.0</td>\n",
       "      <td>595</td>\n",
       "      <td>571</td>\n",
       "      <td>1166</td>\n",
       "    </tr>\n",
       "  </tbody>\n",
       "</table>\n",
       "</div>"
      ],
      "text/plain": [
       "         2018_SAT_Parti%  2018_SAT_EBRW  2018_SAT_Math  2018_SAT_Total\n",
       "State                                                                 \n",
       "Alabama              6.0            595            571            1166"
      ]
     },
     "execution_count": 49,
     "metadata": {},
     "output_type": "execute_result"
    }
   ],
   "source": [
    "# Check results\n",
    "sat2018.head(1)"
   ]
  },
  {
   "cell_type": "markdown",
   "metadata": {},
   "source": [
    "#### Combine your 2017 and 2018 data into a single dataframe\n",
    "Joining on state names should work, assuming you formatted all your state names identically. Make sure none of your columns (other than state) have identical names. Do yourself a favor and decide if you're encoding participation rates as floats or integers and standardize this across your datasets.\n",
    "\n",
    "Save the contents of this merged dataframe as `final.csv`.\n",
    "\n",
    "**Use this combined dataframe for the remainder of the project**."
   ]
  },
  {
   "cell_type": "code",
   "execution_count": 50,
   "metadata": {},
   "outputs": [
    {
     "name": "stdout",
     "output_type": "stream",
     "text": [
      "<class 'pandas.core.frame.DataFrame'>\n",
      "Index: 51 entries, Maine to Wyoming\n",
      "Data columns (total 6 columns):\n",
      "2017_ACT_Parti%       51 non-null float64\n",
      "2017_ACT_English      51 non-null float64\n",
      "2017_ACT_Math         51 non-null float64\n",
      "2017_ACT_Reading      51 non-null float64\n",
      "2017_ACT_Science      51 non-null float64\n",
      "2017_ACT_Composite    51 non-null float64\n",
      "dtypes: float64(6)\n",
      "memory usage: 5.3+ KB\n",
      "None\n",
      "<class 'pandas.core.frame.DataFrame'>\n",
      "Index: 51 entries, Alabama to Wyoming\n",
      "Data columns (total 2 columns):\n",
      "2018_ACT_Parti%       51 non-null float64\n",
      "2018_ACT_Composite    51 non-null float64\n",
      "dtypes: float64(2)\n",
      "memory usage: 1.2+ KB\n",
      "None\n"
     ]
    }
   ],
   "source": [
    "# Check to ensure participation rates for both dataframes are the same dtype\n",
    "print(act2017.info())\n",
    "print(act2018.info())"
   ]
  },
  {
   "cell_type": "code",
   "execution_count": 51,
   "metadata": {},
   "outputs": [],
   "source": [
    "# Merge act2017 and act2018 together using state as the common index\n",
    "act_combined = pd.merge(act2017, act2018, how = 'left', on = 'State')"
   ]
  },
  {
   "cell_type": "code",
   "execution_count": 52,
   "metadata": {},
   "outputs": [],
   "source": [
    "# Saving combined results of act2017 and sat2017 in csv format.\n",
    "act_combined.to_csv('D:\\\\1GA_DSI_Local\\\\classes\\\\project_1\\\\data\\\\output\\\\act_combined.csv')"
   ]
  },
  {
   "cell_type": "code",
   "execution_count": 53,
   "metadata": {},
   "outputs": [
    {
     "name": "stdout",
     "output_type": "stream",
     "text": [
      "<class 'pandas.core.frame.DataFrame'>\n",
      "Index: 51 entries, North Dakota to Connecticut\n",
      "Data columns (total 4 columns):\n",
      "2017_SAT_Parti%    51 non-null float64\n",
      "2017_SAT_EBRW      51 non-null int64\n",
      "2017_SAT_Math      51 non-null int64\n",
      "2017_SAT_Total     51 non-null int64\n",
      "dtypes: float64(1), int64(3)\n",
      "memory usage: 2.0+ KB\n",
      "None\n",
      "<class 'pandas.core.frame.DataFrame'>\n",
      "Index: 51 entries, Alabama to Wyoming\n",
      "Data columns (total 4 columns):\n",
      "2018_SAT_Parti%    51 non-null float64\n",
      "2018_SAT_EBRW      51 non-null int64\n",
      "2018_SAT_Math      51 non-null int64\n",
      "2018_SAT_Total     51 non-null int64\n",
      "dtypes: float64(1), int64(3)\n",
      "memory usage: 2.0+ KB\n",
      "None\n"
     ]
    }
   ],
   "source": [
    "# Check to ensure participation rates for both dataframes are the same dtype\n",
    "print(sat2017.info())\n",
    "print(sat2018.info())"
   ]
  },
  {
   "cell_type": "code",
   "execution_count": 54,
   "metadata": {},
   "outputs": [],
   "source": [
    "# Merge sat2017 and sat2018 together using state as the common index\n",
    "sat_combined = pd.merge(sat2017, sat2018, how = 'left', on = 'State')"
   ]
  },
  {
   "cell_type": "code",
   "execution_count": 55,
   "metadata": {},
   "outputs": [],
   "source": [
    "# Saving combined results of act2017 and sat2017 in csv format.\n",
    "sat_combined.to_csv('D:\\\\1GA_DSI_Local\\\\classes\\\\project_1\\\\data\\\\output\\\\sat_combined.csv')"
   ]
  },
  {
   "cell_type": "code",
   "execution_count": 56,
   "metadata": {},
   "outputs": [],
   "source": [
    "# Merge act2017, act2018, sat2017 and sat2018 together using state as the common index\n",
    "final = pd.merge(act_combined, sat_combined, how = 'left', on = 'State')"
   ]
  },
  {
   "cell_type": "code",
   "execution_count": 57,
   "metadata": {},
   "outputs": [],
   "source": [
    "# Saving combined results of act and sat final.csv.\n",
    "final.to_csv('D:\\\\1GA_DSI_Local\\\\classes\\\\project_1\\\\data\\\\output\\\\final.csv')"
   ]
  },
  {
   "cell_type": "markdown",
   "metadata": {},
   "source": [
    "## Exploratory Data Analysis\n",
    "\n",
    "\n",
    "### Summary Statistics\n",
    "Transpose the output of pandas `describe` method to create a quick overview of each numeric feature."
   ]
  },
  {
   "cell_type": "code",
   "execution_count": 58,
   "metadata": {},
   "outputs": [
    {
     "data": {
      "text/html": [
       "<div>\n",
       "<style scoped>\n",
       "    .dataframe tbody tr th:only-of-type {\n",
       "        vertical-align: middle;\n",
       "    }\n",
       "\n",
       "    .dataframe tbody tr th {\n",
       "        vertical-align: top;\n",
       "    }\n",
       "\n",
       "    .dataframe thead th {\n",
       "        text-align: right;\n",
       "    }\n",
       "</style>\n",
       "<table border=\"1\" class=\"dataframe\">\n",
       "  <thead>\n",
       "    <tr style=\"text-align: right;\">\n",
       "      <th></th>\n",
       "      <th>2017_ACT_Parti%</th>\n",
       "      <th>2017_ACT_English</th>\n",
       "      <th>2017_ACT_Math</th>\n",
       "      <th>2017_ACT_Reading</th>\n",
       "      <th>2017_ACT_Science</th>\n",
       "      <th>2017_ACT_Composite</th>\n",
       "      <th>2018_ACT_Parti%</th>\n",
       "      <th>2018_ACT_Composite</th>\n",
       "      <th>2017_SAT_Parti%</th>\n",
       "      <th>2017_SAT_EBRW</th>\n",
       "      <th>2017_SAT_Math</th>\n",
       "      <th>2017_SAT_Total</th>\n",
       "      <th>2018_SAT_Parti%</th>\n",
       "      <th>2018_SAT_EBRW</th>\n",
       "      <th>2018_SAT_Math</th>\n",
       "      <th>2018_SAT_Total</th>\n",
       "    </tr>\n",
       "  </thead>\n",
       "  <tbody>\n",
       "    <tr>\n",
       "      <td>count</td>\n",
       "      <td>51.000000</td>\n",
       "      <td>51.000000</td>\n",
       "      <td>51.000000</td>\n",
       "      <td>51.000000</td>\n",
       "      <td>51.000000</td>\n",
       "      <td>51.000000</td>\n",
       "      <td>51.000000</td>\n",
       "      <td>51.000000</td>\n",
       "      <td>51.000000</td>\n",
       "      <td>51.000000</td>\n",
       "      <td>51.000000</td>\n",
       "      <td>51.000000</td>\n",
       "      <td>51.000000</td>\n",
       "      <td>51.000000</td>\n",
       "      <td>51.000000</td>\n",
       "      <td>51.000000</td>\n",
       "    </tr>\n",
       "    <tr>\n",
       "      <td>mean</td>\n",
       "      <td>65.254902</td>\n",
       "      <td>20.931373</td>\n",
       "      <td>21.182353</td>\n",
       "      <td>22.013725</td>\n",
       "      <td>21.041176</td>\n",
       "      <td>21.519608</td>\n",
       "      <td>61.725490</td>\n",
       "      <td>21.496078</td>\n",
       "      <td>39.803922</td>\n",
       "      <td>569.117647</td>\n",
       "      <td>547.627451</td>\n",
       "      <td>1126.098039</td>\n",
       "      <td>45.745098</td>\n",
       "      <td>563.686275</td>\n",
       "      <td>556.235294</td>\n",
       "      <td>1120.019608</td>\n",
       "    </tr>\n",
       "    <tr>\n",
       "      <td>std</td>\n",
       "      <td>32.140842</td>\n",
       "      <td>2.353677</td>\n",
       "      <td>1.981989</td>\n",
       "      <td>2.067271</td>\n",
       "      <td>3.182463</td>\n",
       "      <td>2.020695</td>\n",
       "      <td>34.037085</td>\n",
       "      <td>2.111583</td>\n",
       "      <td>35.276632</td>\n",
       "      <td>45.666901</td>\n",
       "      <td>84.909119</td>\n",
       "      <td>92.494812</td>\n",
       "      <td>37.314256</td>\n",
       "      <td>47.502627</td>\n",
       "      <td>47.772623</td>\n",
       "      <td>94.155083</td>\n",
       "    </tr>\n",
       "    <tr>\n",
       "      <td>min</td>\n",
       "      <td>8.000000</td>\n",
       "      <td>16.300000</td>\n",
       "      <td>18.000000</td>\n",
       "      <td>18.100000</td>\n",
       "      <td>2.300000</td>\n",
       "      <td>17.800000</td>\n",
       "      <td>7.000000</td>\n",
       "      <td>17.700000</td>\n",
       "      <td>2.000000</td>\n",
       "      <td>482.000000</td>\n",
       "      <td>52.000000</td>\n",
       "      <td>950.000000</td>\n",
       "      <td>2.000000</td>\n",
       "      <td>480.000000</td>\n",
       "      <td>480.000000</td>\n",
       "      <td>977.000000</td>\n",
       "    </tr>\n",
       "    <tr>\n",
       "      <td>25%</td>\n",
       "      <td>31.000000</td>\n",
       "      <td>19.000000</td>\n",
       "      <td>19.400000</td>\n",
       "      <td>20.450000</td>\n",
       "      <td>19.900000</td>\n",
       "      <td>19.800000</td>\n",
       "      <td>28.500000</td>\n",
       "      <td>19.950000</td>\n",
       "      <td>4.000000</td>\n",
       "      <td>533.500000</td>\n",
       "      <td>522.000000</td>\n",
       "      <td>1055.500000</td>\n",
       "      <td>4.500000</td>\n",
       "      <td>534.500000</td>\n",
       "      <td>522.500000</td>\n",
       "      <td>1057.500000</td>\n",
       "    </tr>\n",
       "    <tr>\n",
       "      <td>50%</td>\n",
       "      <td>69.000000</td>\n",
       "      <td>20.700000</td>\n",
       "      <td>20.900000</td>\n",
       "      <td>21.800000</td>\n",
       "      <td>21.300000</td>\n",
       "      <td>21.400000</td>\n",
       "      <td>66.000000</td>\n",
       "      <td>21.300000</td>\n",
       "      <td>38.000000</td>\n",
       "      <td>559.000000</td>\n",
       "      <td>548.000000</td>\n",
       "      <td>1107.000000</td>\n",
       "      <td>52.000000</td>\n",
       "      <td>552.000000</td>\n",
       "      <td>544.000000</td>\n",
       "      <td>1098.000000</td>\n",
       "    </tr>\n",
       "    <tr>\n",
       "      <td>75%</td>\n",
       "      <td>100.000000</td>\n",
       "      <td>23.300000</td>\n",
       "      <td>23.100000</td>\n",
       "      <td>24.150000</td>\n",
       "      <td>22.750000</td>\n",
       "      <td>23.600000</td>\n",
       "      <td>100.000000</td>\n",
       "      <td>23.650000</td>\n",
       "      <td>66.000000</td>\n",
       "      <td>613.000000</td>\n",
       "      <td>599.000000</td>\n",
       "      <td>1212.000000</td>\n",
       "      <td>77.500000</td>\n",
       "      <td>610.500000</td>\n",
       "      <td>593.500000</td>\n",
       "      <td>1204.000000</td>\n",
       "    </tr>\n",
       "    <tr>\n",
       "      <td>max</td>\n",
       "      <td>100.000000</td>\n",
       "      <td>25.500000</td>\n",
       "      <td>25.300000</td>\n",
       "      <td>26.000000</td>\n",
       "      <td>24.900000</td>\n",
       "      <td>25.500000</td>\n",
       "      <td>100.000000</td>\n",
       "      <td>25.600000</td>\n",
       "      <td>100.000000</td>\n",
       "      <td>644.000000</td>\n",
       "      <td>651.000000</td>\n",
       "      <td>1295.000000</td>\n",
       "      <td>100.000000</td>\n",
       "      <td>643.000000</td>\n",
       "      <td>655.000000</td>\n",
       "      <td>1298.000000</td>\n",
       "    </tr>\n",
       "  </tbody>\n",
       "</table>\n",
       "</div>"
      ],
      "text/plain": [
       "       2017_ACT_Parti%  2017_ACT_English  2017_ACT_Math  2017_ACT_Reading  \\\n",
       "count        51.000000         51.000000      51.000000         51.000000   \n",
       "mean         65.254902         20.931373      21.182353         22.013725   \n",
       "std          32.140842          2.353677       1.981989          2.067271   \n",
       "min           8.000000         16.300000      18.000000         18.100000   \n",
       "25%          31.000000         19.000000      19.400000         20.450000   \n",
       "50%          69.000000         20.700000      20.900000         21.800000   \n",
       "75%         100.000000         23.300000      23.100000         24.150000   \n",
       "max         100.000000         25.500000      25.300000         26.000000   \n",
       "\n",
       "       2017_ACT_Science  2017_ACT_Composite  2018_ACT_Parti%  \\\n",
       "count         51.000000           51.000000        51.000000   \n",
       "mean          21.041176           21.519608        61.725490   \n",
       "std            3.182463            2.020695        34.037085   \n",
       "min            2.300000           17.800000         7.000000   \n",
       "25%           19.900000           19.800000        28.500000   \n",
       "50%           21.300000           21.400000        66.000000   \n",
       "75%           22.750000           23.600000       100.000000   \n",
       "max           24.900000           25.500000       100.000000   \n",
       "\n",
       "       2018_ACT_Composite  2017_SAT_Parti%  2017_SAT_EBRW  2017_SAT_Math  \\\n",
       "count           51.000000        51.000000      51.000000      51.000000   \n",
       "mean            21.496078        39.803922     569.117647     547.627451   \n",
       "std              2.111583        35.276632      45.666901      84.909119   \n",
       "min             17.700000         2.000000     482.000000      52.000000   \n",
       "25%             19.950000         4.000000     533.500000     522.000000   \n",
       "50%             21.300000        38.000000     559.000000     548.000000   \n",
       "75%             23.650000        66.000000     613.000000     599.000000   \n",
       "max             25.600000       100.000000     644.000000     651.000000   \n",
       "\n",
       "       2017_SAT_Total  2018_SAT_Parti%  2018_SAT_EBRW  2018_SAT_Math  \\\n",
       "count       51.000000        51.000000      51.000000      51.000000   \n",
       "mean      1126.098039        45.745098     563.686275     556.235294   \n",
       "std         92.494812        37.314256      47.502627      47.772623   \n",
       "min        950.000000         2.000000     480.000000     480.000000   \n",
       "25%       1055.500000         4.500000     534.500000     522.500000   \n",
       "50%       1107.000000        52.000000     552.000000     544.000000   \n",
       "75%       1212.000000        77.500000     610.500000     593.500000   \n",
       "max       1295.000000       100.000000     643.000000     655.000000   \n",
       "\n",
       "       2018_SAT_Total  \n",
       "count       51.000000  \n",
       "mean      1120.019608  \n",
       "std         94.155083  \n",
       "min        977.000000  \n",
       "25%       1057.500000  \n",
       "50%       1098.000000  \n",
       "75%       1204.000000  \n",
       "max       1298.000000  "
      ]
     },
     "execution_count": 58,
     "metadata": {},
     "output_type": "execute_result"
    }
   ],
   "source": [
    "#Code:\n",
    "final.describe()"
   ]
  },
  {
   "cell_type": "code",
   "execution_count": null,
   "metadata": {},
   "outputs": [],
   "source": []
  },
  {
   "cell_type": "markdown",
   "metadata": {},
   "source": [
    "#### Manually calculate standard deviation\n",
    "\n",
    "$$\\sigma = \\sqrt{\\frac{1}{n}\\sum_{i=1}^n(x_i - \\mu)^2}$$\n",
    "\n",
    "- Write a function to calculate standard deviation using the formula above"
   ]
  },
  {
   "cell_type": "code",
   "execution_count": 59,
   "metadata": {},
   "outputs": [
    {
     "name": "stdout",
     "output_type": "stream",
     "text": [
      "14.142135623730951\n"
     ]
    }
   ],
   "source": [
    "# Population Standard deviation function\n",
    "def std_dev(data):\n",
    "    p_mean = data.mean()\n",
    "    n = len(data)\n",
    "    sum_of_diff_xu = 0\n",
    "    for x in data:\n",
    "        sum_of_diff_xu += (x - p_mean) ** 2\n",
    "    \n",
    "    return (sum_of_diff_xu/ n) ** 0.5\n",
    "\n",
    "data = np.arange(10, 60, 10)\n",
    "print(std_dev(data))"
   ]
  },
  {
   "cell_type": "markdown",
   "metadata": {},
   "source": [
    "- Use a **dictionary comprehension** to apply your standard deviation function to each numeric column in the dataframe.  **No loops**  \n",
    "- Assign the output to variable `sd` as a dictionary where: \n",
    "    - Each column name is now a key \n",
    "    - That standard deviation of the column is the value \n",
    "     \n",
    "*Example Output :* `{'ACT_Math': 120, 'ACT_Reading': 120, ...}`"
   ]
  },
  {
   "cell_type": "code",
   "execution_count": 60,
   "metadata": {},
   "outputs": [
    {
     "name": "stdout",
     "output_type": "stream",
     "text": [
      "<class 'dict'>\n"
     ]
    },
    {
     "data": {
      "text/plain": [
       "{'2017_ACT_Parti%': 31.824176,\n",
       " '2017_ACT_English': 2.330488,\n",
       " '2017_ACT_Math': 1.962462,\n",
       " '2017_ACT_Reading': 2.046903,\n",
       " '2017_ACT_Science': 3.151108,\n",
       " '2017_ACT_Composite': 2.000786,\n",
       " '2018_ACT_Parti%': 33.701736,\n",
       " '2018_ACT_Composite': 2.090779,\n",
       " '2017_SAT_Parti%': 34.929071,\n",
       " '2017_SAT_EBRW': 45.21697,\n",
       " '2017_SAT_Math': 84.072555,\n",
       " '2017_SAT_Total': 91.583511,\n",
       " '2018_SAT_Parti%': 36.946619,\n",
       " '2018_SAT_EBRW': 47.03461,\n",
       " '2018_SAT_Math': 47.301946,\n",
       " '2018_SAT_Total': 93.227424}"
      ]
     },
     "execution_count": 60,
     "metadata": {},
     "output_type": "execute_result"
    }
   ],
   "source": [
    "# Use a dictionary comprehension to apply your standard deviation function \n",
    "# to each numeric column in the dataframe.\n",
    "col_list = list(final.columns)\n",
    "sd = {}\n",
    "sd.update({col_list[i]: round(std_dev(final.iloc[:,i]),6) for i in range(0,16)}) \n",
    "\n",
    "print(type(sd))\n",
    "sd"
   ]
  },
  {
   "cell_type": "code",
   "execution_count": 61,
   "metadata": {},
   "outputs": [
    {
     "data": {
      "text/plain": [
       "2017_ACT_Parti%       32.140842\n",
       "2017_ACT_English       2.353677\n",
       "2017_ACT_Math          1.981989\n",
       "2017_ACT_Reading       2.067271\n",
       "2017_ACT_Science       3.182463\n",
       "2017_ACT_Composite     2.020695\n",
       "2018_ACT_Parti%       34.037085\n",
       "2018_ACT_Composite     2.111583\n",
       "2017_SAT_Parti%       35.276632\n",
       "2017_SAT_EBRW         45.666901\n",
       "2017_SAT_Math         84.909119\n",
       "2017_SAT_Total        92.494812\n",
       "2018_SAT_Parti%       37.314256\n",
       "2018_SAT_EBRW         47.502627\n",
       "2018_SAT_Math         47.772623\n",
       "2018_SAT_Total        94.155083\n",
       "dtype: float64"
      ]
     },
     "execution_count": 61,
     "metadata": {},
     "output_type": "execute_result"
    }
   ],
   "source": [
    "# Ceck results\n",
    "final.std()"
   ]
  },
  {
   "cell_type": "markdown",
   "metadata": {},
   "source": [
    "Do your manually calculated standard deviations match up with the output from pandas `describe`? What about numpy's `std` method?"
   ]
  },
  {
   "cell_type": "markdown",
   "metadata": {},
   "source": [
    "Answer:\n",
    "Sight difference in the decimals but, overall, can match up."
   ]
  },
  {
   "cell_type": "markdown",
   "metadata": {},
   "source": [
    "#### Investigate trends in the data\n",
    "Using sorting and/or masking (along with the `.head` method to not print our entire dataframe), consider the following questions:\n",
    "\n",
    "- Which states have the highest and lowest participation rates for the:\n",
    "    - 2017 SAT?\n",
    "    - 2018 SAT?\n",
    "    - 2017 ACT?\n",
    "    - 2018 ACT?\n",
    "- Which states have the highest and lowest mean total/composite scores for the:\n",
    "    - 2017 SAT?\n",
    "    - 2018 SAT?\n",
    "    - 2017 ACT?\n",
    "    - 2018 ACT?\n",
    "- Do any states with 100% participation on a given test have a rate change year-to-year?\n",
    "- Do any states show have >50% participation on *both* tests either year?\n",
    "\n",
    "Based on what you've just observed, have you identified any states that you're especially interested in? **Make a note of these and state *why* you think they're interesting**.\n",
    "\n",
    "**You should comment on your findings at each step in a markdown cell below your code block**. Make sure you include at least one example of sorting your dataframe by a column, and one example of using boolean filtering (i.e., masking) to select a subset of the dataframe."
   ]
  },
  {
   "cell_type": "code",
   "execution_count": 63,
   "metadata": {},
   "outputs": [
    {
     "data": {
      "text/html": [
       "<div>\n",
       "<style scoped>\n",
       "    .dataframe tbody tr th:only-of-type {\n",
       "        vertical-align: middle;\n",
       "    }\n",
       "\n",
       "    .dataframe tbody tr th {\n",
       "        vertical-align: top;\n",
       "    }\n",
       "\n",
       "    .dataframe thead th {\n",
       "        text-align: right;\n",
       "    }\n",
       "</style>\n",
       "<table border=\"1\" class=\"dataframe\">\n",
       "  <thead>\n",
       "    <tr style=\"text-align: right;\">\n",
       "      <th></th>\n",
       "      <th>2017_ACT_Parti%</th>\n",
       "      <th>2017_ACT_English</th>\n",
       "      <th>2017_ACT_Math</th>\n",
       "      <th>2017_ACT_Reading</th>\n",
       "      <th>2017_ACT_Science</th>\n",
       "      <th>2017_ACT_Composite</th>\n",
       "      <th>2018_ACT_Parti%</th>\n",
       "      <th>2018_ACT_Composite</th>\n",
       "      <th>2017_SAT_Parti%</th>\n",
       "      <th>2017_SAT_EBRW</th>\n",
       "      <th>2017_SAT_Math</th>\n",
       "      <th>2017_SAT_Total</th>\n",
       "      <th>2018_SAT_Parti%</th>\n",
       "      <th>2018_SAT_EBRW</th>\n",
       "      <th>2018_SAT_Math</th>\n",
       "      <th>2018_SAT_Total</th>\n",
       "      <th>State</th>\n",
       "    </tr>\n",
       "    <tr>\n",
       "      <th>State</th>\n",
       "      <th></th>\n",
       "      <th></th>\n",
       "      <th></th>\n",
       "      <th></th>\n",
       "      <th></th>\n",
       "      <th></th>\n",
       "      <th></th>\n",
       "      <th></th>\n",
       "      <th></th>\n",
       "      <th></th>\n",
       "      <th></th>\n",
       "      <th></th>\n",
       "      <th></th>\n",
       "      <th></th>\n",
       "      <th></th>\n",
       "      <th></th>\n",
       "      <th></th>\n",
       "    </tr>\n",
       "  </thead>\n",
       "  <tbody>\n",
       "    <tr>\n",
       "      <td>Maine</td>\n",
       "      <td>8.0</td>\n",
       "      <td>24.2</td>\n",
       "      <td>24.0</td>\n",
       "      <td>24.8</td>\n",
       "      <td>23.7</td>\n",
       "      <td>24.3</td>\n",
       "      <td>7.0</td>\n",
       "      <td>24.0</td>\n",
       "      <td>95.0</td>\n",
       "      <td>513</td>\n",
       "      <td>499</td>\n",
       "      <td>1012</td>\n",
       "      <td>99.0</td>\n",
       "      <td>512</td>\n",
       "      <td>501</td>\n",
       "      <td>1013</td>\n",
       "      <td>Maine</td>\n",
       "    </tr>\n",
       "    <tr>\n",
       "      <td>New Hampshire</td>\n",
       "      <td>18.0</td>\n",
       "      <td>25.4</td>\n",
       "      <td>25.1</td>\n",
       "      <td>26.0</td>\n",
       "      <td>24.9</td>\n",
       "      <td>25.5</td>\n",
       "      <td>16.0</td>\n",
       "      <td>25.1</td>\n",
       "      <td>96.0</td>\n",
       "      <td>532</td>\n",
       "      <td>520</td>\n",
       "      <td>1052</td>\n",
       "      <td>96.0</td>\n",
       "      <td>535</td>\n",
       "      <td>528</td>\n",
       "      <td>1063</td>\n",
       "      <td>New Hampshire</td>\n",
       "    </tr>\n",
       "    <tr>\n",
       "      <td>Delaware</td>\n",
       "      <td>18.0</td>\n",
       "      <td>24.1</td>\n",
       "      <td>23.4</td>\n",
       "      <td>24.8</td>\n",
       "      <td>23.6</td>\n",
       "      <td>24.1</td>\n",
       "      <td>17.0</td>\n",
       "      <td>23.8</td>\n",
       "      <td>100.0</td>\n",
       "      <td>503</td>\n",
       "      <td>492</td>\n",
       "      <td>996</td>\n",
       "      <td>100.0</td>\n",
       "      <td>505</td>\n",
       "      <td>492</td>\n",
       "      <td>998</td>\n",
       "      <td>Delaware</td>\n",
       "    </tr>\n",
       "    <tr>\n",
       "      <td>Rhode Island</td>\n",
       "      <td>21.0</td>\n",
       "      <td>24.0</td>\n",
       "      <td>23.3</td>\n",
       "      <td>24.7</td>\n",
       "      <td>23.4</td>\n",
       "      <td>24.0</td>\n",
       "      <td>15.0</td>\n",
       "      <td>24.2</td>\n",
       "      <td>71.0</td>\n",
       "      <td>539</td>\n",
       "      <td>524</td>\n",
       "      <td>1062</td>\n",
       "      <td>97.0</td>\n",
       "      <td>513</td>\n",
       "      <td>505</td>\n",
       "      <td>1018</td>\n",
       "      <td>Rhode Island</td>\n",
       "    </tr>\n",
       "    <tr>\n",
       "      <td>Pennsylvania</td>\n",
       "      <td>23.0</td>\n",
       "      <td>23.4</td>\n",
       "      <td>23.4</td>\n",
       "      <td>24.2</td>\n",
       "      <td>23.3</td>\n",
       "      <td>23.7</td>\n",
       "      <td>20.0</td>\n",
       "      <td>23.5</td>\n",
       "      <td>65.0</td>\n",
       "      <td>540</td>\n",
       "      <td>531</td>\n",
       "      <td>1071</td>\n",
       "      <td>70.0</td>\n",
       "      <td>547</td>\n",
       "      <td>539</td>\n",
       "      <td>1086</td>\n",
       "      <td>Pennsylvania</td>\n",
       "    </tr>\n",
       "  </tbody>\n",
       "</table>\n",
       "</div>"
      ],
      "text/plain": [
       "               2017_ACT_Parti%  2017_ACT_English  2017_ACT_Math  \\\n",
       "State                                                             \n",
       "Maine                      8.0              24.2           24.0   \n",
       "New Hampshire             18.0              25.4           25.1   \n",
       "Delaware                  18.0              24.1           23.4   \n",
       "Rhode Island              21.0              24.0           23.3   \n",
       "Pennsylvania              23.0              23.4           23.4   \n",
       "\n",
       "               2017_ACT_Reading  2017_ACT_Science  2017_ACT_Composite  \\\n",
       "State                                                                   \n",
       "Maine                      24.8              23.7                24.3   \n",
       "New Hampshire              26.0              24.9                25.5   \n",
       "Delaware                   24.8              23.6                24.1   \n",
       "Rhode Island               24.7              23.4                24.0   \n",
       "Pennsylvania               24.2              23.3                23.7   \n",
       "\n",
       "               2018_ACT_Parti%  2018_ACT_Composite  2017_SAT_Parti%  \\\n",
       "State                                                                 \n",
       "Maine                      7.0                24.0             95.0   \n",
       "New Hampshire             16.0                25.1             96.0   \n",
       "Delaware                  17.0                23.8            100.0   \n",
       "Rhode Island              15.0                24.2             71.0   \n",
       "Pennsylvania              20.0                23.5             65.0   \n",
       "\n",
       "               2017_SAT_EBRW  2017_SAT_Math  2017_SAT_Total  2018_SAT_Parti%  \\\n",
       "State                                                                          \n",
       "Maine                    513            499            1012             99.0   \n",
       "New Hampshire            532            520            1052             96.0   \n",
       "Delaware                 503            492             996            100.0   \n",
       "Rhode Island             539            524            1062             97.0   \n",
       "Pennsylvania             540            531            1071             70.0   \n",
       "\n",
       "               2018_SAT_EBRW  2018_SAT_Math  2018_SAT_Total          State  \n",
       "State                                                                       \n",
       "Maine                    512            501            1013          Maine  \n",
       "New Hampshire            535            528            1063  New Hampshire  \n",
       "Delaware                 505            492             998       Delaware  \n",
       "Rhode Island             513            505            1018   Rhode Island  \n",
       "Pennsylvania             547            539            1086   Pennsylvania  "
      ]
     },
     "execution_count": 63,
     "metadata": {},
     "output_type": "execute_result"
    }
   ],
   "source": [
    "# Make a copy of the final df, set the index as a new column.\n",
    "final_c = final.copy()\n",
    "final_c['State'] = final_c.index\n",
    "#final_c.reset_index(drop=True, inplace = True)\n",
    "final_c.head(5)"
   ]
  },
  {
   "cell_type": "code",
   "execution_count": 64,
   "metadata": {},
   "outputs": [
    {
     "data": {
      "text/html": [
       "<div>\n",
       "<style scoped>\n",
       "    .dataframe tbody tr th:only-of-type {\n",
       "        vertical-align: middle;\n",
       "    }\n",
       "\n",
       "    .dataframe tbody tr th {\n",
       "        vertical-align: top;\n",
       "    }\n",
       "\n",
       "    .dataframe thead th {\n",
       "        text-align: right;\n",
       "    }\n",
       "</style>\n",
       "<table border=\"1\" class=\"dataframe\">\n",
       "  <thead>\n",
       "    <tr style=\"text-align: right;\">\n",
       "      <th></th>\n",
       "      <th>State</th>\n",
       "      <th>2017_SAT_Parti%</th>\n",
       "    </tr>\n",
       "  </thead>\n",
       "  <tbody>\n",
       "    <tr>\n",
       "      <td>43</td>\n",
       "      <td>Mississippi</td>\n",
       "      <td>2.0</td>\n",
       "    </tr>\n",
       "    <tr>\n",
       "      <td>24</td>\n",
       "      <td>Iowa</td>\n",
       "      <td>2.0</td>\n",
       "    </tr>\n",
       "    <tr>\n",
       "      <td>33</td>\n",
       "      <td>North Dakota</td>\n",
       "      <td>2.0</td>\n",
       "    </tr>\n",
       "    <tr>\n",
       "      <td>50</td>\n",
       "      <td>Wyoming</td>\n",
       "      <td>3.0</td>\n",
       "    </tr>\n",
       "  </tbody>\n",
       "</table>\n",
       "</div>"
      ],
      "text/plain": [
       "           State  2017_SAT_Parti%\n",
       "43   Mississippi              2.0\n",
       "24          Iowa              2.0\n",
       "33  North Dakota              2.0\n",
       "50       Wyoming              3.0"
      ]
     },
     "execution_count": 64,
     "metadata": {},
     "output_type": "execute_result"
    }
   ],
   "source": [
    "# Mississippi, Iowa and North Dakota has the lowest participation rate for SAT 2017\n",
    "df = final[['2017_ACT_Parti%', '2018_ACT_Parti%', '2017_SAT_Parti%', '2018_SAT_Parti%']]\n",
    "df.reset_index(inplace = True)\n",
    "df.sort_values(by = '2017_SAT_Parti%', ascending = True).head(4)[['State','2017_SAT_Parti%']]"
   ]
  },
  {
   "cell_type": "code",
   "execution_count": 65,
   "metadata": {},
   "outputs": [
    {
     "data": {
      "text/html": [
       "<div>\n",
       "<style scoped>\n",
       "    .dataframe tbody tr th:only-of-type {\n",
       "        vertical-align: middle;\n",
       "    }\n",
       "\n",
       "    .dataframe tbody tr th {\n",
       "        vertical-align: top;\n",
       "    }\n",
       "\n",
       "    .dataframe thead th {\n",
       "        text-align: right;\n",
       "    }\n",
       "</style>\n",
       "<table border=\"1\" class=\"dataframe\">\n",
       "  <thead>\n",
       "    <tr style=\"text-align: right;\">\n",
       "      <th></th>\n",
       "      <th>State</th>\n",
       "      <th>2017_SAT_Parti%</th>\n",
       "    </tr>\n",
       "  </thead>\n",
       "  <tbody>\n",
       "    <tr>\n",
       "      <td>14</td>\n",
       "      <td>District of Columbia</td>\n",
       "      <td>100.0</td>\n",
       "    </tr>\n",
       "    <tr>\n",
       "      <td>8</td>\n",
       "      <td>Michigan</td>\n",
       "      <td>100.0</td>\n",
       "    </tr>\n",
       "    <tr>\n",
       "      <td>2</td>\n",
       "      <td>Delaware</td>\n",
       "      <td>100.0</td>\n",
       "    </tr>\n",
       "    <tr>\n",
       "      <td>13</td>\n",
       "      <td>Connecticut</td>\n",
       "      <td>100.0</td>\n",
       "    </tr>\n",
       "    <tr>\n",
       "      <td>1</td>\n",
       "      <td>New Hampshire</td>\n",
       "      <td>96.0</td>\n",
       "    </tr>\n",
       "  </tbody>\n",
       "</table>\n",
       "</div>"
      ],
      "text/plain": [
       "                   State  2017_SAT_Parti%\n",
       "14  District of Columbia            100.0\n",
       "8               Michigan            100.0\n",
       "2               Delaware            100.0\n",
       "13           Connecticut            100.0\n",
       "1          New Hampshire             96.0"
      ]
     },
     "execution_count": 65,
     "metadata": {},
     "output_type": "execute_result"
    }
   ],
   "source": [
    "#District of Columbia, Michigan, Delaware, Connecticut has the highest participation rate for SAT 2017\n",
    "df.sort_values(by = '2017_SAT_Parti%', ascending = False).head(5)[['State', '2017_SAT_Parti%']]"
   ]
  },
  {
   "cell_type": "code",
   "execution_count": 66,
   "metadata": {},
   "outputs": [
    {
     "data": {
      "text/html": [
       "<div>\n",
       "<style scoped>\n",
       "    .dataframe tbody tr th:only-of-type {\n",
       "        vertical-align: middle;\n",
       "    }\n",
       "\n",
       "    .dataframe tbody tr th {\n",
       "        vertical-align: top;\n",
       "    }\n",
       "\n",
       "    .dataframe thead th {\n",
       "        text-align: right;\n",
       "    }\n",
       "</style>\n",
       "<table border=\"1\" class=\"dataframe\">\n",
       "  <thead>\n",
       "    <tr style=\"text-align: right;\">\n",
       "      <th></th>\n",
       "      <th>State</th>\n",
       "      <th>2017_ACT_Parti%</th>\n",
       "    </tr>\n",
       "  </thead>\n",
       "  <tbody>\n",
       "    <tr>\n",
       "      <td>0</td>\n",
       "      <td>Maine</td>\n",
       "      <td>8.0</td>\n",
       "    </tr>\n",
       "    <tr>\n",
       "      <td>1</td>\n",
       "      <td>New Hampshire</td>\n",
       "      <td>18.0</td>\n",
       "    </tr>\n",
       "  </tbody>\n",
       "</table>\n",
       "</div>"
      ],
      "text/plain": [
       "           State  2017_ACT_Parti%\n",
       "0          Maine              8.0\n",
       "1  New Hampshire             18.0"
      ]
     },
     "execution_count": 66,
     "metadata": {},
     "output_type": "execute_result"
    }
   ],
   "source": [
    "# Only Maine has the lowest participation rate for ACT 2017\n",
    "df.sort_values(by ='2017_ACT_Parti%', ascending = True).head(2)[['State', '2017_ACT_Parti%']]"
   ]
  },
  {
   "cell_type": "code",
   "execution_count": 68,
   "metadata": {},
   "outputs": [
    {
     "data": {
      "text/html": [
       "<div>\n",
       "<style scoped>\n",
       "    .dataframe tbody tr th:only-of-type {\n",
       "        vertical-align: middle;\n",
       "    }\n",
       "\n",
       "    .dataframe tbody tr th {\n",
       "        vertical-align: top;\n",
       "    }\n",
       "\n",
       "    .dataframe thead th {\n",
       "        text-align: right;\n",
       "    }\n",
       "</style>\n",
       "<table border=\"1\" class=\"dataframe\">\n",
       "  <thead>\n",
       "    <tr style=\"text-align: right;\">\n",
       "      <th></th>\n",
       "      <th>State</th>\n",
       "      <th>2017_ACT_Parti%</th>\n",
       "    </tr>\n",
       "  </thead>\n",
       "  <tbody>\n",
       "    <tr>\n",
       "      <td>50</td>\n",
       "      <td>Wyoming</td>\n",
       "      <td>100.0</td>\n",
       "    </tr>\n",
       "    <tr>\n",
       "      <td>42</td>\n",
       "      <td>Wisconsin</td>\n",
       "      <td>100.0</td>\n",
       "    </tr>\n",
       "    <tr>\n",
       "      <td>34</td>\n",
       "      <td>South Carolina</td>\n",
       "      <td>100.0</td>\n",
       "    </tr>\n",
       "    <tr>\n",
       "      <td>35</td>\n",
       "      <td>Utah</td>\n",
       "      <td>100.0</td>\n",
       "    </tr>\n",
       "    <tr>\n",
       "      <td>36</td>\n",
       "      <td>Tennessee</td>\n",
       "      <td>100.0</td>\n",
       "    </tr>\n",
       "    <tr>\n",
       "      <td>37</td>\n",
       "      <td>Alabama</td>\n",
       "      <td>100.0</td>\n",
       "    </tr>\n",
       "    <tr>\n",
       "      <td>38</td>\n",
       "      <td>Missouri</td>\n",
       "      <td>100.0</td>\n",
       "    </tr>\n",
       "    <tr>\n",
       "      <td>40</td>\n",
       "      <td>Nevada</td>\n",
       "      <td>100.0</td>\n",
       "    </tr>\n",
       "    <tr>\n",
       "      <td>41</td>\n",
       "      <td>Montana</td>\n",
       "      <td>100.0</td>\n",
       "    </tr>\n",
       "    <tr>\n",
       "      <td>39</td>\n",
       "      <td>North Carolina</td>\n",
       "      <td>100.0</td>\n",
       "    </tr>\n",
       "    <tr>\n",
       "      <td>43</td>\n",
       "      <td>Mississippi</td>\n",
       "      <td>100.0</td>\n",
       "    </tr>\n",
       "    <tr>\n",
       "      <td>44</td>\n",
       "      <td>Minnesota</td>\n",
       "      <td>100.0</td>\n",
       "    </tr>\n",
       "    <tr>\n",
       "      <td>45</td>\n",
       "      <td>Louisiana</td>\n",
       "      <td>100.0</td>\n",
       "    </tr>\n",
       "    <tr>\n",
       "      <td>46</td>\n",
       "      <td>Kentucky</td>\n",
       "      <td>100.0</td>\n",
       "    </tr>\n",
       "    <tr>\n",
       "      <td>47</td>\n",
       "      <td>Colorado</td>\n",
       "      <td>100.0</td>\n",
       "    </tr>\n",
       "    <tr>\n",
       "      <td>48</td>\n",
       "      <td>Arkansas</td>\n",
       "      <td>100.0</td>\n",
       "    </tr>\n",
       "    <tr>\n",
       "      <td>49</td>\n",
       "      <td>Oklahoma</td>\n",
       "      <td>100.0</td>\n",
       "    </tr>\n",
       "    <tr>\n",
       "      <td>33</td>\n",
       "      <td>North Dakota</td>\n",
       "      <td>98.0</td>\n",
       "    </tr>\n",
       "  </tbody>\n",
       "</table>\n",
       "</div>"
      ],
      "text/plain": [
       "             State  2017_ACT_Parti%\n",
       "50         Wyoming            100.0\n",
       "42       Wisconsin            100.0\n",
       "34  South Carolina            100.0\n",
       "35            Utah            100.0\n",
       "36       Tennessee            100.0\n",
       "37         Alabama            100.0\n",
       "38        Missouri            100.0\n",
       "40          Nevada            100.0\n",
       "41         Montana            100.0\n",
       "39  North Carolina            100.0\n",
       "43     Mississippi            100.0\n",
       "44       Minnesota            100.0\n",
       "45       Louisiana            100.0\n",
       "46        Kentucky            100.0\n",
       "47        Colorado            100.0\n",
       "48        Arkansas            100.0\n",
       "49        Oklahoma            100.0\n",
       "33    North Dakota             98.0"
      ]
     },
     "execution_count": 68,
     "metadata": {},
     "output_type": "execute_result"
    }
   ],
   "source": [
    "# There are 17 states with highest participation rate of 100% for ACT 2017\n",
    "df.sort_values(by ='2017_ACT_Parti%', ascending = False).head(18)[['State', '2017_ACT_Parti%']]"
   ]
  },
  {
   "cell_type": "code",
   "execution_count": 69,
   "metadata": {},
   "outputs": [
    {
     "data": {
      "text/html": [
       "<div>\n",
       "<style scoped>\n",
       "    .dataframe tbody tr th:only-of-type {\n",
       "        vertical-align: middle;\n",
       "    }\n",
       "\n",
       "    .dataframe tbody tr th {\n",
       "        vertical-align: top;\n",
       "    }\n",
       "\n",
       "    .dataframe thead th {\n",
       "        text-align: right;\n",
       "    }\n",
       "</style>\n",
       "<table border=\"1\" class=\"dataframe\">\n",
       "  <thead>\n",
       "    <tr style=\"text-align: right;\">\n",
       "      <th></th>\n",
       "      <th>State</th>\n",
       "      <th>2018_SAT_Parti%</th>\n",
       "    </tr>\n",
       "  </thead>\n",
       "  <tbody>\n",
       "    <tr>\n",
       "      <td>33</td>\n",
       "      <td>North Dakota</td>\n",
       "      <td>2.0</td>\n",
       "    </tr>\n",
       "    <tr>\n",
       "      <td>50</td>\n",
       "      <td>Wyoming</td>\n",
       "      <td>3.0</td>\n",
       "    </tr>\n",
       "  </tbody>\n",
       "</table>\n",
       "</div>"
      ],
      "text/plain": [
       "           State  2018_SAT_Parti%\n",
       "33  North Dakota              2.0\n",
       "50       Wyoming              3.0"
      ]
     },
     "execution_count": 69,
     "metadata": {},
     "output_type": "execute_result"
    }
   ],
   "source": [
    "# North Dakota has the lowest participation rate for SAT 2018\n",
    "df.sort_values(by='2018_SAT_Parti%', ascending = True).head(2)[['State', '2018_SAT_Parti%']]"
   ]
  },
  {
   "cell_type": "code",
   "execution_count": 70,
   "metadata": {},
   "outputs": [
    {
     "data": {
      "text/html": [
       "<div>\n",
       "<style scoped>\n",
       "    .dataframe tbody tr th:only-of-type {\n",
       "        vertical-align: middle;\n",
       "    }\n",
       "\n",
       "    .dataframe tbody tr th {\n",
       "        vertical-align: top;\n",
       "    }\n",
       "\n",
       "    .dataframe thead th {\n",
       "        text-align: right;\n",
       "    }\n",
       "</style>\n",
       "<table border=\"1\" class=\"dataframe\">\n",
       "  <thead>\n",
       "    <tr style=\"text-align: right;\">\n",
       "      <th></th>\n",
       "      <th>State</th>\n",
       "      <th>2018_SAT_Parti%</th>\n",
       "    </tr>\n",
       "  </thead>\n",
       "  <tbody>\n",
       "    <tr>\n",
       "      <td>8</td>\n",
       "      <td>Michigan</td>\n",
       "      <td>100.0</td>\n",
       "    </tr>\n",
       "    <tr>\n",
       "      <td>2</td>\n",
       "      <td>Delaware</td>\n",
       "      <td>100.0</td>\n",
       "    </tr>\n",
       "    <tr>\n",
       "      <td>47</td>\n",
       "      <td>Colorado</td>\n",
       "      <td>100.0</td>\n",
       "    </tr>\n",
       "    <tr>\n",
       "      <td>17</td>\n",
       "      <td>Idaho</td>\n",
       "      <td>100.0</td>\n",
       "    </tr>\n",
       "    <tr>\n",
       "      <td>13</td>\n",
       "      <td>Connecticut</td>\n",
       "      <td>100.0</td>\n",
       "    </tr>\n",
       "    <tr>\n",
       "      <td>0</td>\n",
       "      <td>Maine</td>\n",
       "      <td>99.0</td>\n",
       "    </tr>\n",
       "  </tbody>\n",
       "</table>\n",
       "</div>"
      ],
      "text/plain": [
       "          State  2018_SAT_Parti%\n",
       "8      Michigan            100.0\n",
       "2      Delaware            100.0\n",
       "47     Colorado            100.0\n",
       "17        Idaho            100.0\n",
       "13  Connecticut            100.0\n",
       "0         Maine             99.0"
      ]
     },
     "execution_count": 70,
     "metadata": {},
     "output_type": "execute_result"
    }
   ],
   "source": [
    "# Michigan, Delaware, Colorado, Idaho, Connecticut and Maine \n",
    "# has the highest participation rate for SAT 2018\n",
    "df.sort_values(by='2018_SAT_Parti%', ascending = False).head(6)[['State', '2018_SAT_Parti%']]"
   ]
  },
  {
   "cell_type": "code",
   "execution_count": 71,
   "metadata": {},
   "outputs": [
    {
     "data": {
      "text/html": [
       "<div>\n",
       "<style scoped>\n",
       "    .dataframe tbody tr th:only-of-type {\n",
       "        vertical-align: middle;\n",
       "    }\n",
       "\n",
       "    .dataframe tbody tr th {\n",
       "        vertical-align: top;\n",
       "    }\n",
       "\n",
       "    .dataframe thead th {\n",
       "        text-align: right;\n",
       "    }\n",
       "</style>\n",
       "<table border=\"1\" class=\"dataframe\">\n",
       "  <thead>\n",
       "    <tr style=\"text-align: right;\">\n",
       "      <th></th>\n",
       "      <th>State</th>\n",
       "      <th>2018_ACT_Parti%</th>\n",
       "    </tr>\n",
       "  </thead>\n",
       "  <tbody>\n",
       "    <tr>\n",
       "      <td>0</td>\n",
       "      <td>Maine</td>\n",
       "      <td>7.0</td>\n",
       "    </tr>\n",
       "    <tr>\n",
       "      <td>3</td>\n",
       "      <td>Rhode Island</td>\n",
       "      <td>15.0</td>\n",
       "    </tr>\n",
       "  </tbody>\n",
       "</table>\n",
       "</div>"
      ],
      "text/plain": [
       "          State  2018_ACT_Parti%\n",
       "0         Maine              7.0\n",
       "3  Rhode Island             15.0"
      ]
     },
     "execution_count": 71,
     "metadata": {},
     "output_type": "execute_result"
    }
   ],
   "source": [
    "# Only Maine has the lowest participation rate for ACT 2018\n",
    "df.sort_values(by='2018_ACT_Parti%', ascending = True).head(2)[['State', '2018_ACT_Parti%']]"
   ]
  },
  {
   "cell_type": "code",
   "execution_count": 136,
   "metadata": {
    "scrolled": true
   },
   "outputs": [
    {
     "data": {
      "text/html": [
       "<div>\n",
       "<style scoped>\n",
       "    .dataframe tbody tr th:only-of-type {\n",
       "        vertical-align: middle;\n",
       "    }\n",
       "\n",
       "    .dataframe tbody tr th {\n",
       "        vertical-align: top;\n",
       "    }\n",
       "\n",
       "    .dataframe thead th {\n",
       "        text-align: right;\n",
       "    }\n",
       "</style>\n",
       "<table border=\"1\" class=\"dataframe\">\n",
       "  <thead>\n",
       "    <tr style=\"text-align: right;\">\n",
       "      <th></th>\n",
       "      <th>State</th>\n",
       "      <th>2018_ACT_Parti%</th>\n",
       "    </tr>\n",
       "  </thead>\n",
       "  <tbody>\n",
       "    <tr>\n",
       "      <td>50</td>\n",
       "      <td>Wyoming</td>\n",
       "      <td>100.0</td>\n",
       "    </tr>\n",
       "    <tr>\n",
       "      <td>40</td>\n",
       "      <td>Nevada</td>\n",
       "      <td>100.0</td>\n",
       "    </tr>\n",
       "    <tr>\n",
       "      <td>28</td>\n",
       "      <td>Ohio</td>\n",
       "      <td>100.0</td>\n",
       "    </tr>\n",
       "    <tr>\n",
       "      <td>30</td>\n",
       "      <td>Nebraska</td>\n",
       "      <td>100.0</td>\n",
       "    </tr>\n",
       "    <tr>\n",
       "      <td>34</td>\n",
       "      <td>South Carolina</td>\n",
       "      <td>100.0</td>\n",
       "    </tr>\n",
       "    <tr>\n",
       "      <td>35</td>\n",
       "      <td>Utah</td>\n",
       "      <td>100.0</td>\n",
       "    </tr>\n",
       "    <tr>\n",
       "      <td>36</td>\n",
       "      <td>Tennessee</td>\n",
       "      <td>100.0</td>\n",
       "    </tr>\n",
       "    <tr>\n",
       "      <td>38</td>\n",
       "      <td>Missouri</td>\n",
       "      <td>100.0</td>\n",
       "    </tr>\n",
       "    <tr>\n",
       "      <td>39</td>\n",
       "      <td>North Carolina</td>\n",
       "      <td>100.0</td>\n",
       "    </tr>\n",
       "    <tr>\n",
       "      <td>37</td>\n",
       "      <td>Alabama</td>\n",
       "      <td>100.0</td>\n",
       "    </tr>\n",
       "    <tr>\n",
       "      <td>41</td>\n",
       "      <td>Montana</td>\n",
       "      <td>100.0</td>\n",
       "    </tr>\n",
       "    <tr>\n",
       "      <td>42</td>\n",
       "      <td>Wisconsin</td>\n",
       "      <td>100.0</td>\n",
       "    </tr>\n",
       "    <tr>\n",
       "      <td>43</td>\n",
       "      <td>Mississippi</td>\n",
       "      <td>100.0</td>\n",
       "    </tr>\n",
       "    <tr>\n",
       "      <td>45</td>\n",
       "      <td>Louisiana</td>\n",
       "      <td>100.0</td>\n",
       "    </tr>\n",
       "    <tr>\n",
       "      <td>46</td>\n",
       "      <td>Kentucky</td>\n",
       "      <td>100.0</td>\n",
       "    </tr>\n",
       "    <tr>\n",
       "      <td>48</td>\n",
       "      <td>Arkansas</td>\n",
       "      <td>100.0</td>\n",
       "    </tr>\n",
       "    <tr>\n",
       "      <td>49</td>\n",
       "      <td>Oklahoma</td>\n",
       "      <td>100.0</td>\n",
       "    </tr>\n",
       "    <tr>\n",
       "      <td>44</td>\n",
       "      <td>Minnesota</td>\n",
       "      <td>99.0</td>\n",
       "    </tr>\n",
       "  </tbody>\n",
       "</table>\n",
       "</div>"
      ],
      "text/plain": [
       "             State  2018_ACT_Parti%\n",
       "50         Wyoming            100.0\n",
       "40          Nevada            100.0\n",
       "28            Ohio            100.0\n",
       "30        Nebraska            100.0\n",
       "34  South Carolina            100.0\n",
       "35            Utah            100.0\n",
       "36       Tennessee            100.0\n",
       "38        Missouri            100.0\n",
       "39  North Carolina            100.0\n",
       "37         Alabama            100.0\n",
       "41         Montana            100.0\n",
       "42       Wisconsin            100.0\n",
       "43     Mississippi            100.0\n",
       "45       Louisiana            100.0\n",
       "46        Kentucky            100.0\n",
       "48        Arkansas            100.0\n",
       "49        Oklahoma            100.0\n",
       "44       Minnesota             99.0"
      ]
     },
     "execution_count": 136,
     "metadata": {},
     "output_type": "execute_result"
    }
   ],
   "source": [
    "# There are 18 states with highest participation rate of 100% for ACT 2018\n",
    "df.sort_values(by='2018_ACT_Parti%', ascending = False).head(18)[['State', '2018_ACT_Parti%']]"
   ]
  },
  {
   "cell_type": "code",
   "execution_count": 72,
   "metadata": {},
   "outputs": [
    {
     "name": "stderr",
     "output_type": "stream",
     "text": [
      "C:\\ProgramData\\Anaconda3\\lib\\site-packages\\ipykernel_launcher.py:5: SettingWithCopyWarning: \n",
      "A value is trying to be set on a copy of a slice from a DataFrame.\n",
      "Try using .loc[row_indexer,col_indexer] = value instead\n",
      "\n",
      "See the caveats in the documentation: http://pandas.pydata.org/pandas-docs/stable/user_guide/indexing.html#returning-a-view-versus-a-copy\n",
      "  \"\"\"\n"
     ]
    }
   ],
   "source": [
    "# States that have the highest and lowest mean total/composite scores for ACT and SAT 2018/ 2018.\n",
    "# Extracting a dataframe out from the final dataframe, make the index 'State' as a column and \n",
    "# drop the index.\n",
    "df = final[['2017_ACT_Composite', '2018_ACT_Composite', '2017_SAT_Total', '2018_SAT_Total']] \n",
    "df['State'] = df.index\n",
    "df.reset_index(drop=True, inplace = True)"
   ]
  },
  {
   "cell_type": "code",
   "execution_count": 73,
   "metadata": {
    "scrolled": true
   },
   "outputs": [
    {
     "name": "stdout",
     "output_type": "stream",
     "text": [
      "2017 lowest mean score for ACT was Alabama 17.8\n",
      "2017 highest mean score for ACT was Wyoming 25.5\n",
      "2017 lowest mean score for SAT was Alabama 950\n",
      "2017 highest mean score for SAT was Wyoming 1295\n",
      "2018 lowest mean score for ACT was Alabama 17.7\n",
      "2018 highest mean score for ACT was Wyoming 25.6\n",
      "2018 lowest mean score for SAT was Alabama 977\n",
      "2018 highest mean score for SAT was Wyoming 1298\n"
     ]
    }
   ],
   "source": [
    "# States that have the highest and lowest mean total/composite scores for ACT and SAT 2018/ 2018.\n",
    "\n",
    "def display_results(year, exam, level, state, score):\n",
    "    print(f'{year} {level} mean score for {exam} was {state} {score}')\n",
    "\n",
    "state, score = df.min()[['State', '2017_ACT_Composite']]\n",
    "display_results(2017, 'ACT', 'lowest', state, score)\n",
    "\n",
    "state, score = df.max()[['State', '2017_ACT_Composite']]\n",
    "display_results(2017, 'ACT', 'highest', state, score)\n",
    "\n",
    "state, score = df.min()[['State', '2017_SAT_Total']]\n",
    "display_results(2017, 'SAT', 'lowest', state, score)\n",
    "\n",
    "state, score = df.max()[['State', '2017_SAT_Total']]\n",
    "display_results(2017, 'SAT', 'highest', state, score)\n",
    "\n",
    "state, score = df.min()[['State', '2018_ACT_Composite']]\n",
    "display_results(2018, 'ACT', 'lowest', state, score)\n",
    "\n",
    "state, score = df.max()[['State', '2018_ACT_Composite']]\n",
    "display_results(2018, 'ACT', 'highest', state, score)\n",
    "\n",
    "state, score = df.min()[['State', '2018_SAT_Total']]\n",
    "display_results(2018, 'SAT', 'lowest', state, score)\n",
    "\n",
    "state, score = df.max()[['State', '2018_SAT_Total']]\n",
    "display_results(2018, 'SAT', 'highest', state, score)\n"
   ]
  },
  {
   "cell_type": "markdown",
   "metadata": {},
   "source": [
    "Do any states with 100% participation on a given test have a rate change year-to-year?"
   ]
  },
  {
   "cell_type": "code",
   "execution_count": 74,
   "metadata": {
    "scrolled": true
   },
   "outputs": [],
   "source": [
    "# Make a new df from final_c.\n",
    "df1 = final_c[['State', '2017_ACT_Parti%', '2018_ACT_Parti%', '2017_SAT_Parti%', '2018_SAT_Parti%']] \n",
    "df1.reset_index(drop=True, inplace = True)"
   ]
  },
  {
   "cell_type": "code",
   "execution_count": 75,
   "metadata": {},
   "outputs": [
    {
     "name": "stdout",
     "output_type": "stream",
     "text": [
      "        State  2017_ACT_Parti%  2018_ACT_Parti%\n",
      "44  Minnesota            100.0             99.0\n",
      "47   Colorado            100.0             30.0\n",
      "       State  2018_ACT_Parti%  2017_ACT_Parti%\n",
      "28      Ohio            100.0             75.0\n",
      "30  Nebraska            100.0             84.0\n"
     ]
    }
   ],
   "source": [
    "# Do any states with 100% participation on a given test have a rate change year-to-year?\n",
    "# Yes, there are: 2017 vs 2018; there are 2 states. 2018 vs 2017; there are 2 states.\n",
    "filt = (df1['2017_ACT_Parti%'] == 100) & (df1['2018_ACT_Parti%'] != 100)\n",
    "act17vs18 = df1.loc[filt][['State', '2017_ACT_Parti%', '2018_ACT_Parti%']]\n",
    "\n",
    "filt = (df1['2018_ACT_Parti%'] == 100) & (df1['2017_ACT_Parti%'] != 100)\n",
    "act18vs17 = df1.loc[filt][['State', '2018_ACT_Parti%', '2017_ACT_Parti%']]\n",
    "\n",
    "print(act17vs18)\n",
    "print(act18vs17)"
   ]
  },
  {
   "cell_type": "code",
   "execution_count": 76,
   "metadata": {},
   "outputs": [
    {
     "name": "stdout",
     "output_type": "stream",
     "text": [
      "                   State  2017_SAT_Parti%  2018_SAT_Parti%\n",
      "14  District of Columbia            100.0             92.0\n",
      "\n",
      "\n",
      "       State  2018_SAT_Parti%  2017_SAT_Parti%\n",
      "17     Idaho            100.0             93.0\n",
      "47  Colorado            100.0             11.0\n"
     ]
    }
   ],
   "source": [
    "# Do any states with 100% participation on a given test have a rate change year-to-year?\n",
    "# Yes, there are: 2017 vs 2018; there is 1 state. 2018 vs 2017; there are 2 states.\n",
    "filt = (df1['2017_SAT_Parti%'] == 100) & (df1['2018_SAT_Parti%'] != 100)\n",
    "sat17vs18 = df1.loc[filt][['State', '2017_SAT_Parti%', '2018_SAT_Parti%']]\n",
    "\n",
    "filt = (df1['2018_SAT_Parti%'] == 100) & (df1['2017_SAT_Parti%'] != 100)\n",
    "sat18vs17 = df1.loc[filt][['State', '2018_SAT_Parti%', '2017_SAT_Parti%']]\n",
    "\n",
    "print(sat17vs18); print('\\n')\n",
    "print(sat18vs17)"
   ]
  },
  {
   "cell_type": "markdown",
   "metadata": {},
   "source": [
    "Do any states show have >50% participation on both tests either year?"
   ]
  },
  {
   "cell_type": "code",
   "execution_count": 77,
   "metadata": {},
   "outputs": [
    {
     "name": "stdout",
     "output_type": "stream",
     "text": [
      "             State  2017_ACT_Parti%  2018_ACT_Parti%\n",
      "20         Georgia             55.0             53.0\n",
      "21         Arizona             62.0             66.0\n",
      "22          Alaska             65.0             33.0\n",
      "23      New Mexico             66.0             67.0\n",
      "24            Iowa             67.0             68.0\n",
      "25   West Virginia             69.0             65.0\n",
      "26          Kansas             73.0             71.0\n",
      "27         Florida             73.0             66.0\n",
      "28            Ohio             75.0            100.0\n",
      "29    South Dakota             80.0             77.0\n",
      "30        Nebraska             84.0            100.0\n",
      "31          Hawaii             90.0             89.0\n",
      "32        Illinois             93.0             43.0\n",
      "33    North Dakota             98.0             98.0\n",
      "34  South Carolina            100.0            100.0\n",
      "35            Utah            100.0            100.0\n",
      "36       Tennessee            100.0            100.0\n",
      "37         Alabama            100.0            100.0\n",
      "38        Missouri            100.0            100.0\n",
      "39  North Carolina            100.0            100.0\n",
      "40          Nevada            100.0            100.0\n",
      "41         Montana            100.0            100.0\n",
      "42       Wisconsin            100.0            100.0\n",
      "43     Mississippi            100.0            100.0\n",
      "44       Minnesota            100.0             99.0\n",
      "45       Louisiana            100.0            100.0\n",
      "46        Kentucky            100.0            100.0\n",
      "47        Colorado            100.0             30.0\n",
      "48        Arkansas            100.0            100.0\n",
      "49        Oklahoma            100.0            100.0\n",
      "50         Wyoming            100.0            100.0\n",
      "                   State  2017_SAT_Parti%  2018_SAT_Parti%\n",
      "0                  Maine             95.0             99.0\n",
      "1          New Hampshire             96.0             96.0\n",
      "2               Delaware            100.0            100.0\n",
      "3           Rhode Island             71.0             97.0\n",
      "4           Pennsylvania             65.0             70.0\n",
      "5               Maryland             69.0             76.0\n",
      "6                Vermont             60.0             64.0\n",
      "7          Massachusetts             76.0             80.0\n",
      "8               Michigan            100.0            100.0\n",
      "9               Virginia             65.0             68.0\n",
      "10            Washington             64.0             69.0\n",
      "11            California             53.0             60.0\n",
      "12              New York             67.0             79.0\n",
      "13           Connecticut            100.0            100.0\n",
      "14  District of Columbia            100.0             92.0\n",
      "15            New Jersey             70.0             82.0\n",
      "16               Indiana             63.0             63.0\n",
      "17                 Idaho             93.0            100.0\n",
      "19                 Texas             62.0             66.0\n",
      "20               Georgia             61.0             70.0\n",
      "27               Florida             83.0             56.0\n",
      "31                Hawaii             55.0             56.0\n",
      "32              Illinois              9.0             99.0\n",
      "34        South Carolina             50.0             55.0\n",
      "39        North Carolina             49.0             52.0\n",
      "47              Colorado             11.0            100.0\n"
     ]
    }
   ],
   "source": [
    "# Do any states show have >50% participation on both tests either year?\n",
    "filt = (df1['2017_ACT_Parti%'] > 50) | (df1['2018_ACT_Parti%'] > 50)\n",
    "print(df1.loc[filt][['State', '2017_ACT_Parti%', '2018_ACT_Parti%']])\n",
    "\n",
    "filt = (df1['2017_SAT_Parti%'] > 50) | (df1['2018_SAT_Parti%'] > 50)\n",
    "print(df1.loc[filt][['State', '2017_SAT_Parti%', '2018_SAT_Parti%']])\n"
   ]
  },
  {
   "cell_type": "markdown",
   "metadata": {},
   "source": [
    "Based on what you've just observed, have you identified any states that you're \n",
    "especially interested in? Make a note of these and state why you think they're interesting.\n",
    "\n",
    "Answer:\n",
    "Per observation, Colorado is very interesting because participation rate dropped from 100% in 2017 to only 30% in 2018 for ACT. There was a massive exodus from ACT and migrated to SAT for 2 states;\n",
    "\n",
    "ACT:  \n",
    "Colorado from 100% in 2017 to 30% in 2018  \n",
    "Illinois from 93% in 2017 to 43% in 2018\n",
    "\n",
    "SAT:  \n",
    "Colorado from 11% in 2017 to 100% in 2018  \n",
    "Illinois from 9% in 2017 to 99% in 2018"
   ]
  },
  {
   "cell_type": "markdown",
   "metadata": {},
   "source": [
    "You should comment on your findings at each step in a markdown cell below your code block. Make sure you include at least one example of sorting your dataframe by a column, and one example of using boolean filtering (i.e., masking) to select a subset of the dataframe."
   ]
  },
  {
   "cell_type": "code",
   "execution_count": null,
   "metadata": {},
   "outputs": [],
   "source": []
  },
  {
   "cell_type": "markdown",
   "metadata": {},
   "source": [
    "## Visualize the data\n",
    "\n",
    "There's not a magic bullet recommendation for the right number of plots to understand a given dataset, but visualizing your data is *always* a good idea. Not only does it allow you to quickly convey your findings (even if you have a non-technical audience), it will often reveal trends in your data that escaped you when you were looking only at numbers.\n",
    "\n",
    "Some recommendations on plotting:\n",
    "- Plots have titles\n",
    "- Plots have axis labels\n",
    "- Plots have appropriate tick labels\n",
    "- All text is legible in a plot\n",
    "- Plots demonstrate meaningful and valid relationships\n",
    "- Plots are interpreted to aid understanding\n",
    "\n",
    "There is such a thing as too many plots, and there are a *lot* of bad plots. You might make some! (But hopefully not with the guided prompts below)."
   ]
  },
  {
   "cell_type": "markdown",
   "metadata": {},
   "source": [
    "#### Use Seaborn's heatmap with pandas `.corr()` to visualize correlations between all numeric features\n",
    "\n",
    "Heatmaps are generally not appropriate for presentations, and should often be excluded from reports as they can be visually overwhelming. **However**, they can be extremely useful in identify relationships of potential interest (as well as identifying potential collinearity before modeling).\n",
    "\n",
    "*example*:\n",
    "```python\n",
    "sns.heatmap(df.corr())\n",
    "```\n",
    "\n",
    "Please take time to format your output, adding a title. Look through some of the additional arguments and options. (Axis labels aren't really necessary, as long as the title is informative)."
   ]
  },
  {
   "cell_type": "code",
   "execution_count": 78,
   "metadata": {
    "scrolled": true
   },
   "outputs": [
    {
     "data": {
      "text/plain": [
       "Text(66.453125, 0.5, 'ACT/ SAT Participation Rate')"
      ]
     },
     "execution_count": 78,
     "metadata": {},
     "output_type": "execute_result"
    },
    {
     "data": {
      "image/png": "[encoded data removed]",
      "text/plain": [
       "<Figure size 720x576 with 2 Axes>"
      ]
     },
     "metadata": {
      "needs_background": "light"
     },
     "output_type": "display_data"
    }
   ],
   "source": [
    "# Establish size of figure.\n",
    "plt.figure(figsize=(10,8))\n",
    "ax = sns.heatmap(final_c.corr(),\n",
    "                vmin=-1, vmax=1, center=0,\n",
    "                cmap=sns.diverging_palette(20, 220, n=200),\n",
    "                 square = True\n",
    "                )\n",
    "ax.set_xticklabels(\n",
    "    ax.get_xticklabels(),\n",
    "    rotation=45,\n",
    "    horizontalalignment='right'\n",
    ");\n",
    "plt.title('2017/ 2018 Pariticipation Rates and Scores For ACT/ SAT', fontsize = 20)\n",
    "plt.xlabel('ACT/ SAT Test Scores', fontsize = 20)\n",
    "plt.ylabel('ACT/ SAT Participation Rate', fontsize = 20)"
   ]
  },
  {
   "cell_type": "markdown",
   "metadata": {},
   "source": [
    "Answer:  \n",
    "\n",
    "Green means positively and red means negatively correlated.\n",
    "Heatmap is quite hard to read and interpret thus can put business off easily.\n",
    "However, it provides a quick visual aid to spot whether correlations existing between features.\n",
    "Fromn the above heatmap, it looks like the respective tests are positively correlated to itself."
   ]
  },
  {
   "cell_type": "markdown",
   "metadata": {},
   "source": [
    "#### Define a custom function to subplot histograms\n",
    "\n",
    "We have data for two tests for two years. We only have composite (and not subtest scores) for the 2018 ACT. We should write a function that will take the names of 2+ columns and subplot histograms. While you can use pandas plotting or Seaborn here, matplotlib gives you greater control over all aspects of your plots.\n",
    "\n",
    "[Helpful Link for Plotting Multiple Figures](https://matplotlib.org/users/pyplot_tutorial.html#working-with-multiple-figures-and-axes)\n",
    "\n",
    "Here's some starter code:"
   ]
  },
  {
   "cell_type": "code",
   "execution_count": 79,
   "metadata": {},
   "outputs": [],
   "source": [
    "def subplot_histograms(dataframe, list_of_columns, list_of_titles, list_of_xlabels, list_of_ylabels):\n",
    "    nrows = int(np.ceil(len(list_of_columns)/2)) # Makes sure you have enough rows\n",
    "    fig, ax = plt.subplots(nrows=nrows, ncols=2,figsize=(15,15)) # To specify  figsize\n",
    "    ax = ax.ravel() # Ravel turns a matrix into a vector, which is easier to iterate\n",
    "    for i, column in enumerate(list_of_columns): # Gives us an index value to get into all our lists\n",
    "        ax[i].hist(dataframe[column])\n",
    "        ax[i].set_xlabel(list_of_xlabels[i], fontsize=20)\n",
    "        ax[i].set_ylabel(list_of_ylabels[i], fontsize=20)\n",
    "        ax[i].set_title(list_of_titles[i], fontsize=20)"
   ]
  },
  {
   "cell_type": "markdown",
   "metadata": {},
   "source": [
    "#### Plot and interpret histograms \n",
    "For each of the following:\n",
    "- Participation rates for SAT & ACT\n",
    "- Math scores for SAT & ACT\n",
    "- Reading/verbal scores for SAT & ACT"
   ]
  },
  {
   "cell_type": "code",
   "execution_count": 188,
   "metadata": {},
   "outputs": [],
   "source": []
  },
  {
   "cell_type": "code",
   "execution_count": 80,
   "metadata": {},
   "outputs": [
    {
     "data": {
      "image/png": "[encoded data removed]",
      "text/plain": [
       "<Figure size 1080x1080 with 4 Axes>"
      ]
     },
     "metadata": {
      "needs_background": "light"
     },
     "output_type": "display_data"
    }
   ],
   "source": [
    "# Subplot Participation rates for SAT & ACT\n",
    "# df1 consist of SAT/ ACT participation rates for 2017/ 2018\n",
    "\n",
    "subplot_histograms(df1,\n",
    "                   ['2017_ACT_Parti%', '2018_ACT_Parti%', '2017_SAT_Parti%', '2018_SAT_Parti%'],\n",
    "                   \n",
    "                   ['2017 ACT participation by state', '2018 ACT participation by state', '2017 SAT participation by state', '2018 SAT participation by state'],\n",
    "                   \n",
    "                   ['Participation rate', 'Participation rate', 'Participation rate', 'Participation rate'],\n",
    "                   ['Number of States', 'Number of States', 'Number of States', 'Number of States'])\n",
    "\n",
    "plt.tight_layout(pad=1, w_pad=1, h_pad=1.0)\n"
   ]
  },
  {
   "cell_type": "markdown",
   "metadata": {},
   "source": []
  },
  {
   "cell_type": "code",
   "execution_count": 81,
   "metadata": {},
   "outputs": [],
   "source": [
    "# Add 2017_ACT_English and 2017_ACT_Reading scores together and place the results in a new column '2017_ACT_ER' in df final_c\n",
    "final_c['2017_ACT_ER'] = final_c['2017_ACT_English'] + final_c['2017_ACT_Reading']"
   ]
  },
  {
   "cell_type": "code",
   "execution_count": 82,
   "metadata": {},
   "outputs": [
    {
     "data": {
      "image/png": "[encoded data removed]",
      "text/plain": [
       "<Figure size 1080x1080 with 4 Axes>"
      ]
     },
     "metadata": {
      "needs_background": "light"
     },
     "output_type": "display_data"
    }
   ],
   "source": [
    "# Subplot Math scores for SAT & ACT(2017 & 2018) & ACT 2017 only\n",
    "# Due to the use of data file 'act_2018.csv' which did not include scores for the individual subjects thus,\n",
    "# only ACT 2017 individual subjects are plotted.\n",
    "\n",
    "subplot_histograms(final,\n",
    "                   ['2017_ACT_Math', '2017_SAT_Math', '2018_SAT_Math'],\n",
    "                   \n",
    "                   ['2017 ACT Math by state', '2017 SAT Math by state', '2018 SAT Math by state'],\n",
    "                   \n",
    "                   ['Math Score', 'Math Score', 'Math Score'])\n",
    "plt.tight_layout(pad=1, w_pad=1, h_pad=1.0)"
   ]
  },
  {
   "cell_type": "markdown",
   "metadata": {},
   "source": [
    "Math scores are almost the same for both tests. The 2017_SAT_Math has an outlier. A quick check on the internet shows that there was a typo in the Math score; which should 524 instead of 52.\n",
    "\n",
    "https://blog.collegevine.com/here-are-the-average-sat-scores-by-state/"
   ]
  },
  {
   "cell_type": "code",
   "execution_count": 83,
   "metadata": {},
   "outputs": [
    {
     "data": {
      "image/png": "[encoded data removed]",
      "text/plain": [
       "<Figure size 1080x1080 with 4 Axes>"
      ]
     },
     "metadata": {
      "needs_background": "light"
     },
     "output_type": "display_data"
    }
   ],
   "source": [
    "# Subplot Reading/verbal scores for SAT (2017 & 2018) & ACT 2017 only\n",
    "# Due to the use of data file 'act_2018.csv' which did not include scores for the individual subjects thus,\n",
    "# only ACT 2017 individual subjects are plotted.\n",
    "\n",
    "subplot_histograms(final_c,\n",
    "                   ['2017_ACT_ER', '2017_SAT_EBRW', '2018_SAT_EBRW'],\n",
    "                   \n",
    "                   ['2017 ACT English & Reading', '2017 SAT EBRW', '2018 SAT EBRW'],\n",
    "                   \n",
    "                   ['English Reading Score', 'EBRW Score', 'EBRW Score'])\n",
    "plt.tight_layout(pad=1, w_pad=1, h_pad=1.0)\n"
   ]
  },
  {
   "cell_type": "markdown",
   "metadata": {},
   "source": [
    "From the graph, the reading and writing skills of students for both tests are almost the same."
   ]
  },
  {
   "cell_type": "markdown",
   "metadata": {},
   "source": [
    "#### Plot and interpret scatter plots\n",
    "\n",
    "For each of the following:\n",
    "- SAT vs. ACT math scores for 2017\n",
    "- SAT vs. ACT verbal/reading scores for 2017\n",
    "- SAT vs. ACT total/composite scores for 2017\n",
    "- Total scores for SAT 2017 vs. 2018\n",
    "- Composite scores for ACT 2017 vs. 2018\n",
    "\n",
    "Plot the two variables against each other using matplotlib or Seaborn\n",
    "\n",
    "Your plots should show:\n",
    "- Two clearly labeled axes\n",
    "- A proper title\n",
    "- Using colors and symbols that are clear and unmistakable\n",
    "\n",
    "**Feel free to write a custom function, and subplot if you'd like.** Functions save both time and space.\n"
   ]
  },
  {
   "cell_type": "code",
   "execution_count": 84,
   "metadata": {
    "scrolled": true
   },
   "outputs": [
    {
     "data": {
      "text/plain": [
       "Text(0.5, 1.0, 'SAT vs. ACT math scores for 2017')"
      ]
     },
     "execution_count": 84,
     "metadata": {},
     "output_type": "execute_result"
    },
    {
     "data": {
      "image/png": "[encoded data removed]",
      "text/plain": [
       "<Figure size 432x288 with 1 Axes>"
      ]
     },
     "metadata": {
      "needs_background": "light"
     },
     "output_type": "display_data"
    }
   ],
   "source": [
    "# SAT vs. ACT math scores for 2017\n",
    "ax = sns.scatterplot(x = final['2017_ACT_Math'], y = final['2017_SAT_Math'], data = final)\n",
    "plt.title('SAT vs. ACT math scores for 2017', fontsize = 14) "
   ]
  },
  {
   "cell_type": "markdown",
   "metadata": {},
   "source": [
    "Other than the outlier for SAT which was mentioned above ie, a type error where it should be 524 instead of 52 for Maryland, scores are spread out between around 500 and 650 for SAT and between 18 and 25 for ACT. It is difficult to tell which test has a smaller (ie, consistent) dispersion. \n",
    "\n",
    "However, Coefficient of Variation should be able to help in this regards. It shows the extent of variability in relation to the mean of the population. \n",
    "\n",
    "Formula: The coefficient of variation (CV) is defined as the ratio of the standard deviation to the mean.\n",
    "\n",
    "CoV for SAT (with outlier not fixed) = 15.6%\n",
    "Cov for SAT (mean is 556.88 after correcting outlier) = 15.2%\n",
    "CoV for ACT = 9%\n",
    "\n",
    "The distribution of ACT scores is not as dispersed as SAT. \n",
    "\n",
    "Coefficient of variation gives a sense of \"relative variability,\" as reported by the GraphPad Statistical software website. It can be expressed either as a fraction or a percent.\n",
    "\n",
    "Coefficient of variance (CV) is used to understand the scatter of variables that are expressed in different units. For example, the coefficient of variation for blood pressure can be compared with the coefficient of variation for pulse rate. In this case, blood pressure and pulse rate are two different variables as in ACT and SAT.\n",
    "\n",
    "(http://en.wikipedia.org/wiki/Coefficient_of_variation). Since this is independent of the unit of measure of a sample/distribution, it is perfect for comparison of the dispersion.\n"
   ]
  },
  {
   "cell_type": "code",
   "execution_count": null,
   "metadata": {},
   "outputs": [],
   "source": [
    "def subplot_histograms(dataframe, list_of_columns, list_of_titles, list_of_xlabels):\n",
    "    nrows = int(np.ceil(len(list_of_columns)/2)) # Makes sure you have enough rows\n",
    "    fig, ax = plt.subplots(nrows=nrows, ncols=2,figsize=(15,15)) # To specify  figsize\n",
    "    ax = ax.ravel() # Ravel turns a matrix into a vector, which is easier to iterate\n",
    "    for i, column in enumerate(list_of_columns): # Gives us an index value to get into all our lists\n",
    "        ax[i].hist(dataframe[column])\n",
    "        ax[i].set_xlabel(list_of_xlabels[i], fontsize=20)\n",
    "        ax[i].set_title(list_of_titles[i], fontsize=20)"
   ]
  },
  {
   "cell_type": "code",
   "execution_count": 91,
   "metadata": {},
   "outputs": [
    {
     "data": {
      "text/plain": [
       "Text(0.5, 1.0, 'SAT vs. ACT verbal/reading scores for 2017')"
      ]
     },
     "execution_count": 91,
     "metadata": {},
     "output_type": "execute_result"
    },
    {
     "data": {
      "image/png": "[encoded data removed]",
      "text/plain": [
       "<Figure size 432x288 with 1 Axes>"
      ]
     },
     "metadata": {
      "needs_background": "light"
     },
     "output_type": "display_data"
    }
   ],
   "source": [
    "# SAT vs. ACT verbal/reading scores for 2017\n",
    "ax = sns.scatterplot(x = final['2017_ACT_English'] + final['2017_ACT_Reading'], y = final['2017_SAT_EBRW'], data = final)\n",
    "plt.xlabel('2017 ACT English including Reading score', fontsize = 12)\n",
    "plt.title('SAT vs. ACT verbal/reading scores for 2017', fontsize = 14)"
   ]
  },
  {
   "cell_type": "code",
   "execution_count": 92,
   "metadata": {},
   "outputs": [
    {
     "data": {
      "text/plain": [
       "Text(0.5, 1.0, 'SAT vs. ACT verbal/reading scores for 2017')"
      ]
     },
     "execution_count": 92,
     "metadata": {},
     "output_type": "execute_result"
    },
    {
     "data": {
      "image/png": "[encoded data removed]",
      "text/plain": [
       "<Figure size 432x288 with 1 Axes>"
      ]
     },
     "metadata": {
      "needs_background": "light"
     },
     "output_type": "display_data"
    }
   ],
   "source": [
    "# SAT vs. ACT total/composite scores for 2017\n",
    "ax = sns.scatterplot(x = final['2017_ACT_Composite'] + final['2018_ACT_Composite'], y = final['2017_SAT_EBRW'], data = final)\n",
    "plt.xlabel('2017 ACT English including Reading score', fontsize = 12)\n",
    "plt.title('SAT vs. ACT verbal/reading scores for 2017', fontsize = 14)"
   ]
  },
  {
   "cell_type": "code",
   "execution_count": 93,
   "metadata": {},
   "outputs": [
    {
     "data": {
      "text/plain": [
       "Text(0.5, 1.0, '2017/ 1018 SAT Scores')"
      ]
     },
     "execution_count": 93,
     "metadata": {},
     "output_type": "execute_result"
    },
    {
     "data": {
      "image/png": "[encoded data removed]",
      "text/plain": [
       "<Figure size 432x288 with 1 Axes>"
      ]
     },
     "metadata": {
      "needs_background": "light"
     },
     "output_type": "display_data"
    }
   ],
   "source": [
    "# Total scores for SAT 2017 vs. 2018\n",
    "ax = sns.scatterplot(x = final['2017_SAT_Total'], y = final['2018_SAT_Total'], data = final)\n",
    "plt.xlabel('2017 SAT Scores', fontsize = 14)\n",
    "plt.ylabel('2018 SAT Scores', fontsize = 14)\n",
    "plt.title('2017/ 1018 SAT Scores', fontsize = 14)"
   ]
  },
  {
   "cell_type": "markdown",
   "metadata": {},
   "source": [
    "From the graph above, other than the distinct 4 outliers, it shows that the range of scores between the low and high end is about the same for the 2 years ie, between 1,000 and 1,300. "
   ]
  },
  {
   "cell_type": "code",
   "execution_count": 94,
   "metadata": {},
   "outputs": [
    {
     "data": {
      "text/plain": [
       "Text(0.5, 1.0, '2017/ 1018 ACT Composite')"
      ]
     },
     "execution_count": 94,
     "metadata": {},
     "output_type": "execute_result"
    },
    {
     "data": {
      "image/png": "[encoded data removed]",
      "text/plain": [
       "<Figure size 432x288 with 1 Axes>"
      ]
     },
     "metadata": {
      "needs_background": "light"
     },
     "output_type": "display_data"
    }
   ],
   "source": [
    "# Composite scores for ACT 2017 vs. 2018\n",
    "ax = sns.scatterplot(x = final['2017_ACT_Composite'], y = final['2018_ACT_Composite'], data = final)\n",
    "plt.xlabel('2017 ACT Composite', fontsize = 14)\n",
    "plt.ylabel('2018 ACT Composite', fontsize = 14)\n",
    "plt.title('2017/ 1018 ACT Composite', fontsize = 14)"
   ]
  },
  {
   "cell_type": "markdown",
   "metadata": {},
   "source": [
    "The trend looks similar to that of SAT. That is, other than a few outliers, it shows that the range of scores between the low and high end is about the same for the 2 years ie, between 18.5 and 24.5. "
   ]
  },
  {
   "cell_type": "markdown",
   "metadata": {},
   "source": [
    "#### Plot and interpret boxplots\n",
    "\n",
    "For each numeric variable in the dataframe create a boxplot using Seaborn. Boxplots demonstrate central tendency and spread in variables. In a certain sense, these are somewhat redundant with histograms, but you may be better able to identify clear outliers or differences in IQR, etc.\n",
    "\n",
    "Multiple values can be plotted to a single boxplot as long as they are of the same relative scale (meaning they have similar min/max values).\n",
    "\n",
    "Each boxplot should:\n",
    "- Only include variables of a similar scale\n",
    "- Have clear labels for each variable\n",
    "- Have appropriate titles and labels"
   ]
  },
  {
   "cell_type": "code",
   "execution_count": 98,
   "metadata": {},
   "outputs": [
    {
     "data": {
      "image/png": "[encoded data removed]",
      "text/plain": [
       "<Figure size 1296x720 with 1 Axes>"
      ]
     },
     "metadata": {
      "needs_background": "light"
     },
     "output_type": "display_data"
    }
   ],
   "source": [
    "# Box plot for participation rate for both tests.\n",
    "def box_plotter(list_of_columns, title, xlabel, ylabel):\n",
    "    plt.figure(figsize=(18,10))\n",
    "    participation = sns.boxplot(data=final[list_of_columns])\n",
    "    plt.title(title, fontsize=28)\n",
    "    plt.xlabel(xlabel, fontsize=16)\n",
    "    plt.ylabel(ylabel, fontsize=16)\n",
    "\n",
    "box_plotter(['2017_SAT_Parti%', '2017_ACT_Parti%', '2018_SAT_Parti%', '2018_ACT_Parti%'],\n",
    "              'Participation rates in SAT and ACT for 2017 and 2018',\n",
    "             'Year and test',\n",
    "             'Participation rate')"
   ]
  },
  {
   "cell_type": "markdown",
   "metadata": {},
   "source": [
    "#### Feel free to do additional plots below\n",
    "*(do research and choose your own chart types & variables)*\n",
    "\n",
    "Are there any additional trends or relationships you haven't explored? Was there something interesting you saw that you'd like to dive further into? It's likely that there are a few more plots you might want to generate to support your narrative and recommendations that you are building toward. **As always, make sure you're interpreting your plots as you go**."
   ]
  },
  {
   "cell_type": "code",
   "execution_count": null,
   "metadata": {},
   "outputs": [],
   "source": []
  },
  {
   "cell_type": "markdown",
   "metadata": {},
   "source": [
    "#### (Optional): Using Tableau, create a choropleth map for each variable using a map of the US. \n",
    "\n",
    "Save this plot as an image file in an images directory, provide a relative path, and insert the image into notebook in markdown."
   ]
  },
  {
   "cell_type": "code",
   "execution_count": 319,
   "metadata": {
    "scrolled": true
   },
   "outputs": [
    {
     "data": {
      "image/png": "[encoded data removed]",
      "text/plain": [
       "<Figure size 1080x1080 with 4 Axes>"
      ]
     },
     "metadata": {},
     "output_type": "display_data"
    }
   ],
   "source": [
    "#plt.hist(final['2018_SAT_Total'])\n",
    "subplot_histograms(final,\n",
    "                   ['2018_SAT_Total', '2017_SAT_Total', '2018_ACT_Composite', '2017_ACT_Composite'],\n",
    "                   \n",
    "                   ['2018 SAT Scores', '2017 SAT Scores', '2018 ACT Scores', '2017 ACT Scores'],\n",
    "                   \n",
    "                   ['2018 SAT Scores', '2017 SAT Scores', '2018 ACT Scores', '2017 ACT Scores'])\n",
    "plt.tight_layout(pad=1, w_pad=1, h_pad=1.0)"
   ]
  },
  {
   "cell_type": "code",
   "execution_count": 325,
   "metadata": {},
   "outputs": [
    {
     "data": {
      "text/plain": [
       "[<matplotlib.lines.Line2D at 0x16d3b427188>]"
      ]
     },
     "execution_count": 325,
     "metadata": {},
     "output_type": "execute_result"
    },
    {
     "data": {
      "image/png": "[encoded data removed]",
      "text/plain": [
       "<Figure size 432x288 with 1 Axes>"
      ]
     },
     "metadata": {},
     "output_type": "display_data"
    }
   ],
   "source": [
    "# Plot a scatter graph to see is there a correlation between \n",
    "# participation rate and scores. The graph clearly show that there\n",
    "# is a negative correlation between participation rate and scores.\n",
    "sat_x = final['2018_SAT_Parti%']\n",
    "sat_y = final['2018_SAT_Total']\n",
    "plt.scatter(sat_x, sat_y)\n",
    "plt.plot(np.unique(sat_x), np.poly1d(np.polyfit(sat_x, sat_y, 1))(np.unique(sat_x)))"
   ]
  },
  {
   "cell_type": "code",
   "execution_count": 326,
   "metadata": {},
   "outputs": [
    {
     "data": {
      "text/plain": [
       "[<matplotlib.lines.Line2D at 0x16d37ad12c8>]"
      ]
     },
     "execution_count": 326,
     "metadata": {},
     "output_type": "execute_result"
    },
    {
     "data": {
      "image/png": "[encoded data removed]",
      "text/plain": [
       "<Figure size 432x288 with 1 Axes>"
      ]
     },
     "metadata": {},
     "output_type": "display_data"
    }
   ],
   "source": [
    "# Plot a scatter graph to see is there a correlation between \n",
    "# participation rate and scores. The graph clearly show that there\n",
    "# is a negative correlation between participation rate and scores.\n",
    "sat_x = final['2018_ACT_Parti%']\n",
    "sat_y = final['2018_ACT_Composite']\n",
    "plt.scatter(sat_x, sat_y)\n",
    "plt.plot(np.unique(sat_x), np.poly1d(np.polyfit(sat_x, sat_y, 1))(np.unique(sat_x)))"
   ]
  },
  {
   "cell_type": "code",
   "execution_count": 141,
   "metadata": {},
   "outputs": [
    {
     "data": {
      "image/png": "[encoded data removed]",
      "text/plain": [
       "<Figure size 720x576 with 4 Axes>"
      ]
     },
     "metadata": {
      "needs_background": "light"
     },
     "output_type": "display_data"
    }
   ],
   "source": [
    "# Distribution plot for 2017/ 2018 ACT/ SAT Participation rate\n",
    "fig = plt.figure(figsize=(10, 8))\n",
    "\n",
    "plt.subplot(2, 2, 1)\n",
    "sns.distplot(final['2017_ACT_Parti%'])\n",
    "#plt.title('2017_ACT_Parti%')\n",
    "\n",
    "plt.subplot(2, 2, 2)\n",
    "sns.distplot(final['2018_ACT_Parti%'])\n",
    "#plt.title('2018_ACT_Parti%')\n",
    "\n",
    "plt.subplot(2, 2, 3)\n",
    "sns.distplot(final['2017_SAT_Parti%'])\n",
    "\n",
    "plt.subplot(2, 2, 4)\n",
    "sns.distplot(final['2018_SAT_Parti%'])\n",
    "\n",
    "plt.show()"
   ]
  },
  {
   "cell_type": "markdown",
   "metadata": {},
   "source": [
    "## Descriptive and Inferential Statistics"
   ]
  },
  {
   "cell_type": "markdown",
   "metadata": {},
   "source": [
    "#### Summarizing Distributions\n",
    "\n",
    "Above, we used pandas `describe` to provide quick summary statistics of our numeric columns. We also demonstrated many visual relationships.\n",
    "\n",
    "As data scientists, having a complete understanding of data is imperative prior to modeling.\n",
    "\n",
    "While we will continue to build our analytic tools, we know that measures of *central tendency*, *spread*, and *shape/skewness* provide a quick summary of distributions.\n",
    "\n",
    "For each variable in your data, summarize the underlying distributions (in words & statistics)\n",
    " - Be thorough in your verbal description of these distributions.\n",
    " - Be sure to back up these summaries with statistics."
   ]
  },
  {
   "cell_type": "markdown",
   "metadata": {},
   "source": [
    "Answers:  \n",
    "\n",
    "From the graphs above, scores for ACT and SAT is a bimodal distribution ie, there are twin peaks.\n",
    "For SAT, overall highest scores revolve between 1,000 and 1,100 and the second peak at 1,200. And it is consistent for both years. Similarly, ACT has the same behavior. One peak between 19.5 and 20.5 and another between 23 and 24.\n",
    "\n",
    "Referring to the participation rates for both tests, it is negatively correlated.\n",
    "As explained by Dr Fred Zhang at PrepScholar, participation rate has a huge impact on scores. \n",
    "https://blog.prepscholar.com/average-sat-and-act-scores-by-stated-adjusted-for-participation-rate\n",
    "Students has a tendancy to take the test that they have confident in. Thus if it is not mandatory for students to take a particular test, only 'good' students will take say, SAT. As a result, low participation rate foe that state but will high score. For states that make it mandatory to take cetain test, the participation rate is high but the average scores suffer. This explains the bimodal distribution for both tests - a small group of high score students (perhaps, well prepared) that form a peak and the rest of the average score students that form another peak (not so prepared).\n"
   ]
  },
  {
   "cell_type": "markdown",
   "metadata": {},
   "source": [
    "We generally assuming that data we sample from a population will be normally distributed. Do we observe this trend?"
   ]
  },
  {
   "cell_type": "markdown",
   "metadata": {},
   "source": [
    "Answer: Refer to answers above."
   ]
  },
  {
   "cell_type": "code",
   "execution_count": 143,
   "metadata": {},
   "outputs": [
    {
     "data": {
      "image/png": "[encoded data removed]",
      "text/plain": [
       "<Figure size 720x576 with 3 Axes>"
      ]
     },
     "metadata": {
      "needs_background": "light"
     },
     "output_type": "display_data"
    }
   ],
   "source": [
    "# Distribution plot for 2017 ACT Math, Reading, and English\n",
    "fig = plt.figure(figsize=(10, 8))\n",
    "\n",
    "plt.subplot(2, 2, 1)\n",
    "sns.distplot(final['2017_ACT_Math'])\n",
    "\n",
    "plt.subplot(2, 2, 2)\n",
    "sns.distplot(final['2017_ACT_Reading'])\n",
    "\n",
    "plt.subplot(2, 2, 3)\n",
    "sns.distplot(final['2017_ACT_English'])\n",
    "\n",
    "plt.show()"
   ]
  },
  {
   "cell_type": "code",
   "execution_count": 123,
   "metadata": {},
   "outputs": [
    {
     "data": {
      "image/png": "[encoded data removed]",
      "text/plain": [
       "<Figure size 432x288 with 2 Axes>"
      ]
     },
     "metadata": {
      "needs_background": "light"
     },
     "output_type": "display_data"
    }
   ],
   "source": [
    "# Distribution plot for 2017 ACT Math, Reading, and English\n",
    "fig = plt.figure()\n",
    "\n",
    "plt.subplot(2, 2, 1)\n",
    "sns.distplot(final['2017_SAT_Math'])\n",
    "plt.title('After Correction of Outlier')\n",
    "\n",
    "plt.subplot(2, 2, 2)\n",
    "sns.distplot(final['2017_SAT_EBRW'])\n",
    "\n",
    "plt.show()"
   ]
  },
  {
   "cell_type": "code",
   "execution_count": 128,
   "metadata": {},
   "outputs": [
    {
     "name": "stdout",
     "output_type": "stream",
     "text": [
      "State\n",
      "Maine                   499\n",
      "Delaware                492\n",
      "Michigan                495\n",
      "District of Columbia    468\n",
      "Idaho                   493\n",
      "Florida                 497\n",
      "Name: 2017_SAT_Math, dtype: int64\n"
     ]
    },
    {
     "data": {
      "text/plain": [
       "<matplotlib.axes._subplots.AxesSubplot at 0x1a44d010708>"
      ]
     },
     "execution_count": 128,
     "metadata": {},
     "output_type": "execute_result"
    },
    {
     "data": {
      "image/png": "[encoded data removed]",
      "text/plain": [
       "<Figure size 432x288 with 1 Axes>"
      ]
     },
     "metadata": {
      "needs_background": "light"
     },
     "output_type": "display_data"
    }
   ],
   "source": [
    "# Locate outlier\n",
    "print(final[final['2017_SAT_Math'] < 500]['2017_SAT_Math'])\n",
    "\n",
    "# Correct outlier and assign results to a temporary variable\n",
    "df_sat_math = final['2017_SAT_Math']\n",
    "df_sat_math.iloc[5,] = 524\n",
    "df_sat_math.iloc[5,]\n",
    "\n",
    "# Replot with corrected data\n",
    "sns.distplot(df_sat_math)"
   ]
  },
  {
   "cell_type": "markdown",
   "metadata": {},
   "source": [
    "Does This Assumption Hold for:\n",
    "    - Math\n",
    "    - Reading\n",
    "    - Rates\n",
    "Explain your answers for each distribution and how you think this will affect estimates made from these data."
   ]
  },
  {
   "cell_type": "markdown",
   "metadata": {},
   "source": [
    "Answer:\n",
    "With the outlier in the SAT 2017 Math, the other subjects for ACT and SAT resembling the average score distribution ie, Bimodal distribution.\n",
    "\n",
    "After correcting the outlier ie replace 52 with 524 for Maryland and plot again, the graph for SAT Math 2017 looks better but, it is also a Bimodal distribtion.\n",
    "\n",
    "To fix it ie, make the distribution normal, states can implement or improve their prep course/ program to assist students to perform better during exam."
   ]
  },
  {
   "cell_type": "markdown",
   "metadata": {},
   "source": [
    "#### Estimate Limits of Data\n",
    "\n",
    "Suppose we only seek to understand the relationship between SAT and ACT participation rates in 2017. \n",
    "\n",
    "##### Does it make sense to conduct statistical inference given these data specifically? \n",
    "\n",
    "Why or why not?\n",
    "\n",
    "*(think about granularity, aggregation, the relationships between populations size & rates...consider the actually populations these data describe in answering this question)*"
   ]
  },
  {
   "cell_type": "markdown",
   "metadata": {},
   "source": [
    "Answer:"
   ]
  },
  {
   "cell_type": "markdown",
   "metadata": {},
   "source": [
    "##### Is it appropriate to compare *these* specific SAT and ACT math scores? \n",
    "\n",
    "Why or why not?"
   ]
  },
  {
   "cell_type": "markdown",
   "metadata": {},
   "source": [
    "Answer:"
   ]
  },
  {
   "cell_type": "markdown",
   "metadata": {},
   "source": [
    "#### Statistical Evaluation of Distributions \n",
    "\n",
    "**If you feel it's appropriate**, using methods we discussed in class, run hypothesis tests to compare variables of interest in our dataset. "
   ]
  },
  {
   "cell_type": "code",
   "execution_count": null,
   "metadata": {},
   "outputs": [],
   "source": [
    "# Code:"
   ]
  },
  {
   "cell_type": "markdown",
   "metadata": {},
   "source": [
    "## Outside Research"
   ]
  },
  {
   "cell_type": "markdown",
   "metadata": {},
   "source": [
    "Based upon your observations, choose **three** states that demonstrate interesting trends in their SAT and/or ACT participation rates. Spend some time doing outside research on state policies that might influence these rates, and summarize your findings below. **Feel free to go back and create new plots that highlight these states of interest**. If you bring in any outside tables or charts, make sure you are explicit about having borrowed them. If you quote any text, make sure that it renders as being quoted. (Make sure that you cite your sources -- check with you local instructor for citation preferences)."
   ]
  },
  {
   "cell_type": "markdown",
   "metadata": {},
   "source": [
    "# Look for States that require attention.\n",
    "\n",
    "SAT:\n",
    "From the rate of change for SAT over the year from 2017 to 2018, states with declining participation rates - visit them and ask them why and areas SAT can improve to make them come back.\n",
    "\n",
    "States with increased participation rates other than Colorado and Illinois, manage the relationship\n",
    "closer so that they will not only stay but increase participation rate further.\n",
    "\n",
    "ACT:\n",
    "From the rate of change for ACT over the year from 2017 to 2018, there are 10 states with participation rate dropped between 5% and 70% which is a cause of concern.\n",
    "Actions: Visit these states and ask them why and areas ACT can improve to make them come back.\n",
    "\n",
    "States with increased participation rates Colorado and Illinois can be put on hold in terms of relationship management if resources is tight."
   ]
  },
  {
   "cell_type": "code",
   "execution_count": 105,
   "metadata": {
    "scrolled": false
   },
   "outputs": [
    {
     "data": {
      "text/html": [
       "<div>\n",
       "<style scoped>\n",
       "    .dataframe tbody tr th:only-of-type {\n",
       "        vertical-align: middle;\n",
       "    }\n",
       "\n",
       "    .dataframe tbody tr th {\n",
       "        vertical-align: top;\n",
       "    }\n",
       "\n",
       "    .dataframe thead th {\n",
       "        text-align: right;\n",
       "    }\n",
       "</style>\n",
       "<table border=\"1\" class=\"dataframe\">\n",
       "  <thead>\n",
       "    <tr style=\"text-align: right;\">\n",
       "      <th></th>\n",
       "      <th>SAT_Rate_of_Change</th>\n",
       "      <th>2018_SAT_Parti%</th>\n",
       "      <th>2017_SAT_Parti%</th>\n",
       "    </tr>\n",
       "    <tr>\n",
       "      <th>State</th>\n",
       "      <th></th>\n",
       "      <th></th>\n",
       "      <th></th>\n",
       "    </tr>\n",
       "  </thead>\n",
       "  <tbody>\n",
       "    <tr>\n",
       "      <td>Florida</td>\n",
       "      <td>-27.0</td>\n",
       "      <td>56.0</td>\n",
       "      <td>83.0</td>\n",
       "    </tr>\n",
       "    <tr>\n",
       "      <td>District of Columbia</td>\n",
       "      <td>-8.0</td>\n",
       "      <td>92.0</td>\n",
       "      <td>100.0</td>\n",
       "    </tr>\n",
       "    <tr>\n",
       "      <td>Nevada</td>\n",
       "      <td>-3.0</td>\n",
       "      <td>23.0</td>\n",
       "      <td>26.0</td>\n",
       "    </tr>\n",
       "    <tr>\n",
       "      <td>New York</td>\n",
       "      <td>12.0</td>\n",
       "      <td>79.0</td>\n",
       "      <td>67.0</td>\n",
       "    </tr>\n",
       "    <tr>\n",
       "      <td>New Jersey</td>\n",
       "      <td>12.0</td>\n",
       "      <td>82.0</td>\n",
       "      <td>70.0</td>\n",
       "    </tr>\n",
       "    <tr>\n",
       "      <td>West Virginia</td>\n",
       "      <td>14.0</td>\n",
       "      <td>28.0</td>\n",
       "      <td>14.0</td>\n",
       "    </tr>\n",
       "    <tr>\n",
       "      <td>Rhode Island</td>\n",
       "      <td>26.0</td>\n",
       "      <td>97.0</td>\n",
       "      <td>71.0</td>\n",
       "    </tr>\n",
       "    <tr>\n",
       "      <td>Colorado</td>\n",
       "      <td>89.0</td>\n",
       "      <td>100.0</td>\n",
       "      <td>11.0</td>\n",
       "    </tr>\n",
       "    <tr>\n",
       "      <td>Illinois</td>\n",
       "      <td>90.0</td>\n",
       "      <td>99.0</td>\n",
       "      <td>9.0</td>\n",
       "    </tr>\n",
       "  </tbody>\n",
       "</table>\n",
       "</div>"
      ],
      "text/plain": [
       "                      SAT_Rate_of_Change  2018_SAT_Parti%  2017_SAT_Parti%\n",
       "State                                                                     \n",
       "Florida                            -27.0             56.0             83.0\n",
       "District of Columbia                -8.0             92.0            100.0\n",
       "Nevada                              -3.0             23.0             26.0\n",
       "New York                            12.0             79.0             67.0\n",
       "New Jersey                          12.0             82.0             70.0\n",
       "West Virginia                       14.0             28.0             14.0\n",
       "Rhode Island                        26.0             97.0             71.0\n",
       "Colorado                            89.0            100.0             11.0\n",
       "Illinois                            90.0             99.0              9.0"
      ]
     },
     "execution_count": 105,
     "metadata": {},
     "output_type": "execute_result"
    }
   ],
   "source": [
    "# Compute rate of change for SAT participation from 2017 to 2018.\n",
    "final['SAT_Rate_of_Change'] = final['2018_SAT_Parti%'] - final['2017_SAT_Parti%']\n",
    "dfsat = final[['SAT_Rate_of_Change', '2018_SAT_Parti%', '2017_SAT_Parti%']]\n",
    "filt = (dfsat['SAT_Rate_of_Change'] >= -1) & (dfsat['SAT_Rate_of_Change'] < 10)\n",
    "dfsat.loc[~filt].sort_values(by=['SAT_Rate_of_Change'])\n",
    "# dfsat.sort_values(by=['SAT_Rate_of_Change'])"
   ]
  },
  {
   "cell_type": "code",
   "execution_count": 106,
   "metadata": {
    "scrolled": true
   },
   "outputs": [
    {
     "data": {
      "text/html": [
       "<div>\n",
       "<style scoped>\n",
       "    .dataframe tbody tr th:only-of-type {\n",
       "        vertical-align: middle;\n",
       "    }\n",
       "\n",
       "    .dataframe tbody tr th {\n",
       "        vertical-align: top;\n",
       "    }\n",
       "\n",
       "    .dataframe thead th {\n",
       "        text-align: right;\n",
       "    }\n",
       "</style>\n",
       "<table border=\"1\" class=\"dataframe\">\n",
       "  <thead>\n",
       "    <tr style=\"text-align: right;\">\n",
       "      <th></th>\n",
       "      <th>ACT_Rate_of_Change</th>\n",
       "      <th>2018_ACT_Parti%</th>\n",
       "      <th>2017_ACT_Parti%</th>\n",
       "    </tr>\n",
       "    <tr>\n",
       "      <th>State</th>\n",
       "      <th></th>\n",
       "      <th></th>\n",
       "      <th></th>\n",
       "    </tr>\n",
       "  </thead>\n",
       "  <tbody>\n",
       "    <tr>\n",
       "      <td>Colorado</td>\n",
       "      <td>-70.0</td>\n",
       "      <td>30.0</td>\n",
       "      <td>100.0</td>\n",
       "    </tr>\n",
       "    <tr>\n",
       "      <td>Illinois</td>\n",
       "      <td>-50.0</td>\n",
       "      <td>43.0</td>\n",
       "      <td>93.0</td>\n",
       "    </tr>\n",
       "    <tr>\n",
       "      <td>Alaska</td>\n",
       "      <td>-32.0</td>\n",
       "      <td>33.0</td>\n",
       "      <td>65.0</td>\n",
       "    </tr>\n",
       "    <tr>\n",
       "      <td>Michigan</td>\n",
       "      <td>-7.0</td>\n",
       "      <td>22.0</td>\n",
       "      <td>29.0</td>\n",
       "    </tr>\n",
       "    <tr>\n",
       "      <td>Florida</td>\n",
       "      <td>-7.0</td>\n",
       "      <td>66.0</td>\n",
       "      <td>73.0</td>\n",
       "    </tr>\n",
       "    <tr>\n",
       "      <td>Rhode Island</td>\n",
       "      <td>-6.0</td>\n",
       "      <td>15.0</td>\n",
       "      <td>21.0</td>\n",
       "    </tr>\n",
       "    <tr>\n",
       "      <td>Vermont</td>\n",
       "      <td>-5.0</td>\n",
       "      <td>24.0</td>\n",
       "      <td>29.0</td>\n",
       "    </tr>\n",
       "    <tr>\n",
       "      <td>Virginia</td>\n",
       "      <td>-5.0</td>\n",
       "      <td>24.0</td>\n",
       "      <td>29.0</td>\n",
       "    </tr>\n",
       "    <tr>\n",
       "      <td>Washington</td>\n",
       "      <td>-5.0</td>\n",
       "      <td>24.0</td>\n",
       "      <td>29.0</td>\n",
       "    </tr>\n",
       "    <tr>\n",
       "      <td>Connecticut</td>\n",
       "      <td>-5.0</td>\n",
       "      <td>26.0</td>\n",
       "      <td>31.0</td>\n",
       "    </tr>\n",
       "  </tbody>\n",
       "</table>\n",
       "</div>"
      ],
      "text/plain": [
       "              ACT_Rate_of_Change  2018_ACT_Parti%  2017_ACT_Parti%\n",
       "State                                                             \n",
       "Colorado                   -70.0             30.0            100.0\n",
       "Illinois                   -50.0             43.0             93.0\n",
       "Alaska                     -32.0             33.0             65.0\n",
       "Michigan                    -7.0             22.0             29.0\n",
       "Florida                     -7.0             66.0             73.0\n",
       "Rhode Island                -6.0             15.0             21.0\n",
       "Vermont                     -5.0             24.0             29.0\n",
       "Virginia                    -5.0             24.0             29.0\n",
       "Washington                  -5.0             24.0             29.0\n",
       "Connecticut                 -5.0             26.0             31.0"
      ]
     },
     "execution_count": 106,
     "metadata": {},
     "output_type": "execute_result"
    }
   ],
   "source": [
    "# Compute rate of change for ACT participation from 2017 to 2018.\n",
    "final['ACT_Rate_of_Change'] = final['2018_ACT_Parti%'] - final['2017_ACT_Parti%']\n",
    "dfact = final[['ACT_Rate_of_Change', '2018_ACT_Parti%', '2017_ACT_Parti%']]\n",
    "(dfact[dfact['ACT_Rate_of_Change'] < -4]).sort_values(by=['ACT_Rate_of_Change'])"
   ]
  },
  {
   "cell_type": "code",
   "execution_count": null,
   "metadata": {},
   "outputs": [],
   "source": []
  },
  {
   "cell_type": "markdown",
   "metadata": {},
   "source": [
    "## Conclusions and Recommendations"
   ]
  },
  {
   "cell_type": "markdown",
   "metadata": {},
   "source": [
    "Based on your exploration of the data, what are you key takeaways and recommendations? Choose one state with a lower participation rate and provide a suggestion for how the College Board might increase participation amongst graduating seniors in this state. Are there additional data you desire that would better inform your investigations?"
   ]
  },
  {
   "cell_type": "markdown",
   "metadata": {},
   "source": [
    "Conclusions:  \n",
    "From the analysis, although there are many students fall in the average score bucket, there are measures college board can adopt to assist students to achieve their aspirations in completing SAT. \n",
    "\n",
    "\n",
    "Recommendation:\n",
    "\n",
    "Some are some best practices to increase SAT participation taken from a survey done by Hanover Reasearch such as dismantling barriers that have historically prevented students particularly minority students from realizing the opportunites for higher education.\n",
    "\n",
    "- Covering all or part of exam fees.\n",
    "- Offer free SAT Test Prep Options and waiver of Entrance Exam fees.\n",
    "- Increase budget for implementing or improving exsiting SAT education and test prep program eg, Massachusetts and Connecticut already have good education in place.\n",
    "- Implement online courses and grant students free access to course materials.\n",
    "- Educate and assure parents and potential SAT students that resources are available to support their SAT journey.\n",
    "\n",
    "Bottom line: Make SAT affordable and accessible to all students.\n",
    "\n",
    "Here is the link to a survey done by Handover Research;\n",
    "https://www.hanoverresearch.com/media/Best-Practices-to-Increase-SAT-Participation-1.pdf\n"
   ]
  },
  {
   "cell_type": "code",
   "execution_count": null,
   "metadata": {},
   "outputs": [],
   "source": []
  }
 ],
 "metadata": {
  "anaconda-cloud": {},
  "kernelspec": {
   "display_name": "Python 3",
   "language": "python",
   "name": "python3"
  },
  "language_info": {
   "codemirror_mode": {
    "name": "ipython",
    "version": 3
   },
   "file_extension": ".py",
   "mimetype": "text/x-python",
   "name": "python",
   "nbconvert_exporter": "python",
   "pygments_lexer": "ipython3",
   "version": "3.7.4"
  }
 },
 "nbformat": 4,
 "nbformat_minor": 2
}
